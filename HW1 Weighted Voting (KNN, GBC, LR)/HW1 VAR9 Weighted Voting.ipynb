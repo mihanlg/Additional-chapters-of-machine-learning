{
 "cells": [
  {
   "cell_type": "markdown",
   "metadata": {},
   "source": [
    "# Взвешенное голосование методов\n",
    "- ближайшего соседа, \n",
    "- градиентного бустинга с логистической функцией потерь (базовый алгоритм CART),\n",
    "- логистической регресcии"
   ]
  },
  {
   "cell_type": "markdown",
   "metadata": {},
   "source": [
    "### Для задач классификации следует использовать тестовые датасеты:\n",
    "  - https://archive.ics.uci.edu/ml/datasets/Wine\n",
    "  - https://archive.ics.uci.edu/ml/datasets/Iris\n",
    "  - https://archive.ics.uci.edu/ml/datasets/Liver+Disorders"
   ]
  },
  {
   "cell_type": "markdown",
   "metadata": {},
   "source": [
    "## О правилах сдачи данного ДЗ:\n",
    "#### Ваше решение должно быть не более чем на 3% хуже, чем решение из scikitlearn-a в относительных числах при одинаковых параметрах запуска для спамовского датасета. В момент проверки дз первое, что вы показываете это графики ошибки на обучении и на тесте для вашего алгоритма и библиотечного. Также на графике должна быть обозначена относительная 3-х процентная граница. Пока данный результат не достигнут баллы за данное дз получить невозможно."
   ]
  },
  {
   "cell_type": "markdown",
   "metadata": {},
   "source": [
    "### Логистическая функция потерь"
   ]
  },
  {
   "cell_type": "markdown",
   "metadata": {},
   "source": [
    "$$L(h)= \\sum\\limits_{i=1}^{N}(−y_i log(f(\\textbf{x}_i))−(1−y_i)log(1−f(\\textbf{x}_i)))$$\n"
   ]
  },
  {
   "cell_type": "markdown",
   "metadata": {},
   "source": [
    "$$f (\\textbf{x}_i ) = \\sigma(h(\\textbf{x}_i )) = \\frac{1}{1+\\exp^{−h(x_i)}}$$"
   ]
  },
  {
   "cell_type": "code",
   "execution_count": 1,
   "metadata": {
    "collapsed": true
   },
   "outputs": [],
   "source": [
    "from sklearn.ensemble import GradientBoostingClassifier"
   ]
  },
  {
   "cell_type": "code",
   "execution_count": 2,
   "metadata": {
    "collapsed": true
   },
   "outputs": [],
   "source": [
    "from sklearn.tree import DecisionTreeRegressor"
   ]
  },
  {
   "cell_type": "code",
   "execution_count": 3,
   "metadata": {
    "collapsed": true
   },
   "outputs": [],
   "source": [
    "import numpy as np"
   ]
  },
  {
   "cell_type": "code",
   "execution_count": 4,
   "metadata": {
    "collapsed": true
   },
   "outputs": [],
   "source": [
    "import pandas as pd"
   ]
  },
  {
   "cell_type": "code",
   "execution_count": 5,
   "metadata": {
    "collapsed": true
   },
   "outputs": [],
   "source": [
    "from sklearn.model_selection import train_test_split"
   ]
  },
  {
   "cell_type": "code",
   "execution_count": 6,
   "metadata": {
    "collapsed": true
   },
   "outputs": [],
   "source": [
    "from joblib import Parallel, delayed"
   ]
  },
  {
   "cell_type": "code",
   "execution_count": 7,
   "metadata": {
    "collapsed": true
   },
   "outputs": [],
   "source": [
    "from sklearn.tree import export_graphviz"
   ]
  },
  {
   "cell_type": "code",
   "execution_count": 8,
   "metadata": {
    "collapsed": true
   },
   "outputs": [],
   "source": [
    "from sklearn.preprocessing import LabelBinarizer"
   ]
  },
  {
   "cell_type": "code",
   "execution_count": 9,
   "metadata": {
    "collapsed": false
   },
   "outputs": [],
   "source": [
    "import matplotlib.pyplot as plt\n",
    "plt.style.use('ggplot')"
   ]
  },
  {
   "cell_type": "markdown",
   "metadata": {},
   "source": [
    "## Data"
   ]
  },
  {
   "cell_type": "code",
   "execution_count": 10,
   "metadata": {
    "collapsed": true
   },
   "outputs": [],
   "source": [
    "cache_vocs = {}"
   ]
  },
  {
   "cell_type": "code",
   "execution_count": 11,
   "metadata": {
    "collapsed": true
   },
   "outputs": [],
   "source": [
    "def translate_to_int(df, column):\n",
    "    if column in df.columns:\n",
    "        if not cache_vocs.has_key(column):\n",
    "            unique = df[column].unique()\n",
    "            cache_vocs[column] = dict()\n",
    "            cache_vocs[column+'_I'] = dict()\n",
    "            for i, label in enumerate(unique):\n",
    "                cache_vocs[column][label] = i\n",
    "                cache_vocs[column+'_I'][i] = [label]\n",
    "        df[column] = map(lambda x: cache_vocs[column][x], df[column])"
   ]
  },
  {
   "cell_type": "code",
   "execution_count": 12,
   "metadata": {
    "collapsed": true
   },
   "outputs": [],
   "source": [
    "def load_data(path, columns, to_int = [], sep=','):\n",
    "    data = pd.read_csv(path, sep=sep, header=None)\n",
    "    data.columns = columns\n",
    "    for col_name in to_int:\n",
    "        translate_to_int(data, col_name)\n",
    "    return data.dropna()"
   ]
  },
  {
   "cell_type": "code",
   "execution_count": 13,
   "metadata": {
    "collapsed": true
   },
   "outputs": [],
   "source": [
    "def load_splitted(data, k = 0, test_size = 0.33, random_state = None):\n",
    "    data_X, data_y = data[data.columns[:k].tolist()+data.columns[k+1:].tolist()].as_matrix(), data[data.columns[k]].as_matrix()\n",
    "    data_y -= data_y.min()\n",
    "    return train_test_split(data_X, data_y, test_size=test_size, random_state=random_state)"
   ]
  },
  {
   "cell_type": "markdown",
   "metadata": {},
   "source": [
    "### SPAM"
   ]
  },
  {
   "cell_type": "code",
   "execution_count": 14,
   "metadata": {
    "collapsed": true
   },
   "outputs": [],
   "source": [
    "spamTrainDataPath = './data/spam/spam.train.txt'\n",
    "spamTestDataPath = './data/spam/spam.test.txt'\n",
    "spamColumns = ['ClassProb'] + map(str, range(102))"
   ]
  },
  {
   "cell_type": "code",
   "execution_count": 15,
   "metadata": {
    "collapsed": true
   },
   "outputs": [],
   "source": [
    "def loadSpam(random_state = None):\n",
    "    dataTrain = load_data(spamTrainDataPath, spamColumns, sep='\\s+')\n",
    "    dataTrain = dataTrain[spamColumns[1:]+spamColumns[:1]]\n",
    "    dataTest = load_data(spamTestDataPath, spamColumns, sep='\\s+')\n",
    "    dataTest = dataTest[spamColumns[1:]+spamColumns[:1]]\n",
    "    train_X, train_y = dataTrain[dataTrain.columns[:-1]].as_matrix(), dataTrain[dataTrain.columns[-1]].as_matrix()\n",
    "    test_X, test_y = dataTest[dataTest.columns[:-1]].as_matrix(), dataTest[dataTest.columns[-1]].as_matrix()\n",
    "    return train_X, test_X, train_y, test_y"
   ]
  },
  {
   "cell_type": "markdown",
   "metadata": {},
   "source": [
    "### Wine"
   ]
  },
  {
   "cell_type": "code",
   "execution_count": 16,
   "metadata": {
    "collapsed": true
   },
   "outputs": [],
   "source": [
    "wineDataPath = './data/wine.data.txt'\n",
    "wineColumns = ['CLASS', 'ALC', 'M_ACID', 'ASH', 'AL_ASH', 'MAG', 'TOT', 'FLAV', 'NON_PH',\n",
    "               'PROANT', 'COL_INT', 'HUE', 'OD', 'PROLINE']"
   ]
  },
  {
   "cell_type": "code",
   "execution_count": 17,
   "metadata": {
    "collapsed": true
   },
   "outputs": [],
   "source": [
    "def loadWine(random_state = None):\n",
    "    return load_splitted(load_data(wineDataPath, wineColumns), random_state=random_state)"
   ]
  },
  {
   "cell_type": "markdown",
   "metadata": {},
   "source": [
    "### Iris"
   ]
  },
  {
   "cell_type": "code",
   "execution_count": 18,
   "metadata": {
    "collapsed": true
   },
   "outputs": [],
   "source": [
    "irisDataPath = './data/iris.data.txt'\n",
    "irisColumns = ['SEP_LEN', 'SEP_WID', 'PET_LEN', 'PER_WID', 'CLASS']"
   ]
  },
  {
   "cell_type": "code",
   "execution_count": 19,
   "metadata": {
    "collapsed": true
   },
   "outputs": [],
   "source": [
    "def loadIris(random_state = None):\n",
    "    return load_splitted(load_data(irisDataPath, irisColumns, ['CLASS']), k=4, random_state=random_state)"
   ]
  },
  {
   "cell_type": "markdown",
   "metadata": {},
   "source": [
    "### Bupa"
   ]
  },
  {
   "cell_type": "code",
   "execution_count": 20,
   "metadata": {
    "collapsed": true
   },
   "outputs": [],
   "source": [
    "bupaDataPath = './data/bupa.data.txt'\n",
    "bupaColumns = ['MCV', 'ALKPHOS', 'SGPT', 'SGOT', 'GAMMAGT', 'DRINKS', 'CLASS']"
   ]
  },
  {
   "cell_type": "code",
   "execution_count": 21,
   "metadata": {
    "collapsed": true
   },
   "outputs": [],
   "source": [
    "def loadBupa(random_state = None):\n",
    "    return load_splitted(load_data(bupaDataPath, bupaColumns), k=6, random_state=random_state)"
   ]
  },
  {
   "cell_type": "markdown",
   "metadata": {},
   "source": [
    "## Code"
   ]
  },
  {
   "cell_type": "code",
   "execution_count": 22,
   "metadata": {
    "collapsed": true
   },
   "outputs": [],
   "source": [
    "def bestSplit(X, y, Sr, j, srt):\n",
    "    Xv = X[srt]\n",
    "    yv = y[srt]\n",
    "    BestTillNow = 0\n",
    "    BestCutPoint = Xv[0]\n",
    "    Sl = 0\n",
    "    n = len(yv)\n",
    "    for i in xrange(0, len(Xv)-1):\n",
    "        Sl += yv[i]\n",
    "        Sr -= yv[i]\n",
    "        if (Xv[i+1]>Xv[i]):\n",
    "            NewSplitValue = (Sl**2)/(i+1.)+(Sr**2)/(n-i-1.)\n",
    "            if NewSplitValue > BestTillNow:\n",
    "                BestTillNow = NewSplitValue\n",
    "                BestCutPoint = Xv[i:i+2].mean()\n",
    "    return (BestTillNow, BestCutPoint, j)"
   ]
  },
  {
   "cell_type": "code",
   "execution_count": 23,
   "metadata": {
    "collapsed": false
   },
   "outputs": [],
   "source": [
    "class DTR:\n",
    "    def __init__(self, max_depth=3, random_state=None, depth=0, min_samples = 1):\n",
    "        self.max_depth = max_depth\n",
    "        self.random_state = random_state\n",
    "        self.depth = depth\n",
    "        self.min_samples = min_samples\n",
    "        self.final = True\n",
    "        self.left  = None\n",
    "        self.right = None\n",
    "        \n",
    "    def info(self):\n",
    "        return zip(self.n_features(), self.borders(), self.errors(), self.n_node_samples(), self.values())\n",
    "    \n",
    "    def n_features(self):\n",
    "        if self.final:\n",
    "            return [('J: ', None)]\n",
    "        return [('J: ', self.j)] + self.left.n_features() + self.right.n_features()\n",
    "    \n",
    "    def errors(self):\n",
    "        if self.final:\n",
    "            return [('MSE: ', self.inf)]\n",
    "        return [('MSE: ', self.inf)] + self.left.errors() + self.right.errors()\n",
    "    \n",
    "    def borders(self):\n",
    "        if self.final:\n",
    "            return [('SPLIT: ', None)]\n",
    "        return [('SPLIT: ', self.t)] + self.left.borders() + self.right.borders()\n",
    "        \n",
    "    def values(self):\n",
    "        if self.final:\n",
    "            return [('VALUE: ', self.value)]\n",
    "        return [('VALUE: ', self.value)] + self.left.values() + self.right.values()\n",
    "    \n",
    "    def n_node_samples(self):\n",
    "        if self.final:\n",
    "            return [('SAMPLES: ', self.n_samples)]\n",
    "        return [('SAMPLES: ', self.n_samples)] + self.left.n_node_samples() + self.right.n_node_samples()\n",
    "        \n",
    "    def split(self, Xm, j, t):\n",
    "        mask = (Xm[:,j] <= t).reshape(-1, 1)\n",
    "        Il = np.where(mask)[0]\n",
    "        Ir = np.where(~mask)[0]\n",
    "        return Il, Ir\n",
    "    \n",
    "    def predict(self, X):\n",
    "        if len(X.shape) == 1: X = np.array([X])\n",
    "        y = np.zeros((X.shape[0],1))\n",
    "        if self.final:\n",
    "            y.fill(self.value)\n",
    "        else:\n",
    "            Il, Ir = self.split(X, self.j, self.t)\n",
    "            y[Il] = self.left.predict(X[Il])\n",
    "            y[Ir] = self.right.predict(X[Ir])\n",
    "        return y\n",
    "    \n",
    "    def update_leafs(self, X, y, residual, K = 2):\n",
    "        if self.final:\n",
    "            numerator = np.sum(residual)\n",
    "            denominator = np.sum((y - residual) * (1. - y + residual))\n",
    "            if denominator < 1e-100:\n",
    "                self.value = 0.0\n",
    "            else:\n",
    "                self.value = numerator / denominator\n",
    "        else:\n",
    "            Il, Ir = self.split(X, self.j, self.t)\n",
    "            self.left.update_leafs(X[Il], y[Il], residual[Il])\n",
    "            self.right.update_leafs(X[Ir], y[Ir], residual[Ir])\n",
    "    \n",
    "    def __build_tree(self, X, y, srt_mask = None):\n",
    "        if y.shape[0] == 0:\n",
    "            self.final = True\n",
    "            self.value = None\n",
    "            self.inf = None\n",
    "            self.n_samples = None\n",
    "            return\n",
    "        \n",
    "        self.final = False\n",
    "        self.value = np.mean(y)\n",
    "        self.inf = mean_squared_error(y, [self.value]*y.shape[0])\n",
    "        self.n_samples = y.shape[0]\n",
    "            \n",
    "        if (self.depth == self.max_depth) or (y.shape[0] <= self.min_samples) or (self.inf < 1e-7):\n",
    "            self.final = True\n",
    "            return\n",
    "            \n",
    "        Sr = y.sum()\n",
    "        if srt_mask is None:\n",
    "            srt_mask = X.argsort(axis=0)\n",
    "        Qerrors = Parallel(n_jobs=4)(delayed(bestSplit)(X[:,j], y, Sr, j, srt_mask[:,j]) for j in xrange(X.shape[1]))\n",
    "        _, self.t, self.j = max(Qerrors)\n",
    "        Il, Ir = self.split(X, self.j, self.t)\n",
    "        \n",
    "        self.left  = DTR(max_depth=self.max_depth,\n",
    "                         random_state=self.random_state,\n",
    "                         depth = self.depth+1,\n",
    "                         min_samples = self.min_samples)\n",
    "        self.left.__build_tree(X[Il], y[Il])\n",
    "\n",
    "        self.right = DTR(max_depth=self.max_depth,\n",
    "                         random_state=self.random_state,\n",
    "                         depth = self.depth+1,\n",
    "                         min_samples = self.min_samples)\n",
    "        self.right.__build_tree(X[Ir], y[Ir])\n",
    "    \n",
    "    def fit(self, X, y, srt_mask = None):\n",
    "        self.__build_tree(X, y, srt_mask)"
   ]
  },
  {
   "cell_type": "markdown",
   "metadata": {},
   "source": [
    "# Compare with sklearn CART"
   ]
  },
  {
   "cell_type": "code",
   "execution_count": 24,
   "metadata": {
    "collapsed": true
   },
   "outputs": [],
   "source": [
    "from sklearn.tree import DecisionTreeRegressor\n",
    "from sklearn.metrics import mean_squared_error"
   ]
  },
  {
   "cell_type": "code",
   "execution_count": 25,
   "metadata": {
    "collapsed": true
   },
   "outputs": [],
   "source": [
    "X_train, X_test, y_train, y_test = loadIris(10)"
   ]
  },
  {
   "cell_type": "code",
   "execution_count": 26,
   "metadata": {
    "collapsed": false
   },
   "outputs": [],
   "source": [
    "tree_1 = DTR(max_depth=3, random_state=42)\n",
    "tree_1.fit(X_train, y_train)"
   ]
  },
  {
   "cell_type": "code",
   "execution_count": 27,
   "metadata": {
    "collapsed": false
   },
   "outputs": [
    {
     "data": {
      "text/plain": [
       "DecisionTreeRegressor(criterion='mse', max_depth=3, max_features=None,\n",
       "           max_leaf_nodes=None, min_impurity_split=1e-07,\n",
       "           min_samples_leaf=1, min_samples_split=2,\n",
       "           min_weight_fraction_leaf=0.0, presort=False, random_state=42,\n",
       "           splitter='best')"
      ]
     },
     "execution_count": 27,
     "metadata": {},
     "output_type": "execute_result"
    }
   ],
   "source": [
    "tree_2 = DecisionTreeRegressor(criterion='mse', max_depth=3, random_state=42)\n",
    "tree_2.fit(X_train, y_train)"
   ]
  },
  {
   "cell_type": "code",
   "execution_count": 28,
   "metadata": {
    "collapsed": false
   },
   "outputs": [],
   "source": [
    "export_graphviz(tree_2, './data/trees/tree.dot')\n",
    "!dot -Tpng './data/trees/tree.dot' -o './data/trees/tree.png'"
   ]
  },
  {
   "cell_type": "markdown",
   "metadata": {},
   "source": [
    "<img src=\"./data/tree.png\">"
   ]
  },
  {
   "cell_type": "code",
   "execution_count": 29,
   "metadata": {
    "collapsed": false
   },
   "outputs": [
    {
     "data": {
      "text/plain": [
       "[(('J: ', 2),\n",
       "  ('SPLIT: ', 2.4500000000000002),\n",
       "  ('MSE: ', 0.68989999999999996),\n",
       "  ('SAMPLES: ', 100),\n",
       "  ('VALUE: ', 0.98999999999999999)),\n",
       " (('J: ', None),\n",
       "  ('SPLIT: ', None),\n",
       "  ('MSE: ', 0.0),\n",
       "  ('SAMPLES: ', 35),\n",
       "  ('VALUE: ', 0.0)),\n",
       " (('J: ', 2),\n",
       "  ('SPLIT: ', 4.75),\n",
       "  ('MSE: ', 0.24946745562130182),\n",
       "  ('SAMPLES: ', 65),\n",
       "  ('VALUE: ', 1.523076923076923)),\n",
       " (('J: ', 3),\n",
       "  ('SPLIT: ', 1.6000000000000001),\n",
       "  ('MSE: ', 0.032222222222222201),\n",
       "  ('SAMPLES: ', 30),\n",
       "  ('VALUE: ', 1.0333333333333334)),\n",
       " (('J: ', None),\n",
       "  ('SPLIT: ', None),\n",
       "  ('MSE: ', 0.0),\n",
       "  ('SAMPLES: ', 29),\n",
       "  ('VALUE: ', 1.0)),\n",
       " (('J: ', None),\n",
       "  ('SPLIT: ', None),\n",
       "  ('MSE: ', 0.0),\n",
       "  ('SAMPLES: ', 1),\n",
       "  ('VALUE: ', 2.0)),\n",
       " (('J: ', 3),\n",
       "  ('SPLIT: ', 1.75),\n",
       "  ('MSE: ', 0.053877551020408178),\n",
       "  ('SAMPLES: ', 35),\n",
       "  ('VALUE: ', 1.9428571428571428)),\n",
       " (('J: ', None),\n",
       "  ('SPLIT: ', None),\n",
       "  ('MSE: ', 0.23999999999999999),\n",
       "  ('SAMPLES: ', 5),\n",
       "  ('VALUE: ', 1.6000000000000001)),\n",
       " (('J: ', None),\n",
       "  ('SPLIT: ', None),\n",
       "  ('MSE: ', 0.0),\n",
       "  ('SAMPLES: ', 30),\n",
       "  ('VALUE: ', 2.0))]"
      ]
     },
     "execution_count": 29,
     "metadata": {},
     "output_type": "execute_result"
    }
   ],
   "source": [
    "tree_1.info()"
   ]
  },
  {
   "cell_type": "code",
   "execution_count": 30,
   "metadata": {
    "collapsed": false
   },
   "outputs": [
    {
     "data": {
      "text/plain": [
       "True"
      ]
     },
     "execution_count": 30,
     "metadata": {},
     "output_type": "execute_result"
    }
   ],
   "source": [
    "(tree_1.predict(X_test).ravel() == tree_2.predict(X_test).ravel()).all()"
   ]
  },
  {
   "cell_type": "markdown",
   "metadata": {},
   "source": [
    "## CARTs are equal"
   ]
  },
  {
   "cell_type": "markdown",
   "metadata": {},
   "source": [
    "# Gradient Boosting"
   ]
  },
  {
   "cell_type": "code",
   "execution_count": 31,
   "metadata": {
    "collapsed": true
   },
   "outputs": [],
   "source": [
    "from sklearn.metrics import accuracy_score"
   ]
  },
  {
   "cell_type": "code",
   "execution_count": 32,
   "metadata": {
    "collapsed": true
   },
   "outputs": [],
   "source": [
    "from sklearn.ensemble import GradientBoostingClassifier as GBC"
   ]
  },
  {
   "cell_type": "code",
   "execution_count": 33,
   "metadata": {
    "collapsed": true
   },
   "outputs": [],
   "source": [
    "from sklearn.ensemble.gradient_boosting import MultinomialDeviance, BinomialDeviance"
   ]
  },
  {
   "cell_type": "code",
   "execution_count": 78,
   "metadata": {
    "collapsed": true
   },
   "outputs": [],
   "source": [
    "X_train, X_test, y_train, y_test = loadSpam(10)"
   ]
  },
  {
   "cell_type": "code",
   "execution_count": 35,
   "metadata": {
    "collapsed": true
   },
   "outputs": [],
   "source": [
    "class LogOddsEstimator:\n",
    "    scale = 1.0\n",
    "    def fit(self, X, y):\n",
    "        pos = np.sum(y)\n",
    "        neg = y.shape[0] - pos\n",
    "        if neg == 0 or pos == 0:\n",
    "            raise ValueError('y contains non binary labels.')\n",
    "        self.prior = self.scale * np.log(pos / float(neg))\n",
    "\n",
    "    def predict(self, X):\n",
    "        y = np.empty((X.shape[0], 1), dtype=np.float64)\n",
    "        y.fill(self.prior)\n",
    "        return y"
   ]
  },
  {
   "cell_type": "code",
   "execution_count": 42,
   "metadata": {
    "collapsed": false
   },
   "outputs": [],
   "source": [
    "class LogisticLoss:\n",
    "    def __call__(self, y, y_pred):\n",
    "        y_pred_sigm = self._score_to_proba(y_pred.ravel())\n",
    "        score = 2 * np.mean(-y*np.log(y_pred_sigm)-(1-y)*np.log(1-y_pred_sigm))\n",
    "        return score\n",
    "    \n",
    "    def negative_gradient(self, y, y_pred, k = None):\n",
    "        return (y - self._score_to_proba(y_pred.ravel()))\n",
    "    \n",
    "    def _score_to_proba(self, x):\n",
    "        return 1./(1. + np.exp(-x))\n",
    "    \n",
    "    def init_estimator(self):\n",
    "        return LogOddsEstimator()"
   ]
  },
  {
   "cell_type": "code",
   "execution_count": 43,
   "metadata": {
    "collapsed": true
   },
   "outputs": [],
   "source": [
    "class PriorProbabilityEstimator:\n",
    "    def fit(self, X, y, sample_weight = None):\n",
    "        class_counts = np.bincount(y)\n",
    "        self.priors = class_counts / float(class_counts.sum())\n",
    "\n",
    "    def predict(self, X):\n",
    "        y = np.empty((X.shape[0], self.priors.shape[0]), dtype=np.float64)\n",
    "        y[:] = self.priors\n",
    "        return y"
   ]
  },
  {
   "cell_type": "code",
   "execution_count": 44,
   "metadata": {
    "collapsed": false
   },
   "outputs": [],
   "source": [
    "class MultiLogisticLoss:\n",
    "    def __init__(self, k):\n",
    "        self.n_classes = k\n",
    "        \n",
    "    def __call__(self, y, y_pred):\n",
    "        y_pred_softmax = self._score_to_proba(y_pred)\n",
    "        score = 0\n",
    "        Y = np.zeros((y.shape[0], self.n_classes), dtype=np.float64)\n",
    "        for k in xrange(self.n_classes):\n",
    "            Y[:, k] = y == k\n",
    "        score = -np.sum(Y*np.log(y_pred_softmax))\n",
    "        return score\n",
    "    \n",
    "    def negative_gradient(self, y_bin, y_pred, k):\n",
    "        return (y_bin - self._score_to_proba(y_pred)[:,k])\n",
    "    \n",
    "    def _score_to_proba(self, x):\n",
    "        exp = np.exp(x)\n",
    "        return exp/exp.sum(keepdims=True, axis=1)\n",
    "    \n",
    "    def init_estimator(self):\n",
    "        return PriorProbabilityEstimator()"
   ]
  },
  {
   "cell_type": "raw",
   "metadata": {
    "collapsed": false
   },
   "source": [
    "class GradientBoostingClassifier:\n",
    "    def __init__(self, max_depth = 3, n_estimators=5, random_state=None, learning_rate = 0.1, verbose = False):\n",
    "        self.max_depth = max_depth\n",
    "        self.n_estimators = n_estimators\n",
    "        self.random_state = random_state\n",
    "        self.learning_rate = learning_rate\n",
    "        self.verbose = verbose\n",
    "        \n",
    "    def fit(self, X, y, X_test = None, y_test = None):\n",
    "        self.train_losses = []\n",
    "        self.test_losses = []\n",
    "        X = X.astype(np.float32)\n",
    "        #n_samples, self.n_features = X.shape\n",
    "        self.loss = LogisticLoss()\n",
    "        self.init = self.loss.init_estimator()\n",
    "        self.estimators = np.empty(self.n_estimators, dtype=np.object)\n",
    "        self.init_estimator(X, y)\n",
    "        self.__fit_stages(X, y, X_test, y_test, self.random_state)\n",
    "    \n",
    "    def init_estimator(self, X, y):\n",
    "        self.init.fit(X, y)\n",
    "    \n",
    "    def __fit_stages(self, X, y, X_test, y_test, random_state):\n",
    "        y_pred = self.init_predict(X)\n",
    "        srt_mask = X.argsort(axis=0)\n",
    "        for est in xrange(self.n_estimators):\n",
    "            y_pred = self.__fit_stage(est, X, y, y_pred, random_state, srt_mask)\n",
    "            self.train_losses.append(self.loss(y, y_pred))\n",
    "            if not ((X_test is None) or (y_test is None)):\n",
    "                self.test_losses.append(self.loss(y_test, self.decision_function(X_test, est+1)))\n",
    "            if self.verbose:\n",
    "                print 'Step:\\t{}, '.format(est) +\\\n",
    "                'Train Loss: {:.6f}, '.format(self.train_losses[-1]) +\\\n",
    "                'Train Acc: {:.6f}, '.format(accuracy_score(y, self.predict(X, est + 1))) +\\\n",
    "                '{}'.format('Test Loss: {:.6f}, Test Acc: {:.6f}'.format(self.test_losses[-1],\n",
    "                                                                         accuracy_score(y_test, self.predict(X_test, est + 1))) if not ((X_test is None) or (y_test is None)) else '')\n",
    "            \n",
    "    def __fit_stage(self, est, X, y, y_pred, random_state, srt_mask):\n",
    "        residual = self.loss.negative_gradient(y, y_pred)\n",
    "        tree = DTR(self.max_depth, random_state)\n",
    "        tree.fit(X, residual, srt_mask)\n",
    "        tree.update_leafs(X, y, residual)\n",
    "        self.estimators[est] = tree\n",
    "        return self.decision_function(X, est+1)\n",
    "    \n",
    "    def predict(self, X, n_estimators = None):\n",
    "        return np.array(self.predict_proba(X, n_estimators)>0.5, dtype=np.int32)\n",
    "    \n",
    "    def predict_proba(self, X, n_estimators = None):\n",
    "        decision = self.decision_function(X, n_estimators)\n",
    "        return self.loss._score_to_proba(decision)\n",
    "        \n",
    "    def init_predict(self, X):\n",
    "        return self.init.predict(X)\n",
    "    \n",
    "    def decision_function(self, X, n_estimators = None):\n",
    "        score = self.init.predict(X).astype(np.float64)\n",
    "        if n_estimators is None:\n",
    "            n_estimators = self.n_estimators\n",
    "        for est in xrange(n_estimators):\n",
    "            score += self.learning_rate * self.estimators[est].predict(X)\n",
    "        return score"
   ]
  },
  {
   "cell_type": "code",
   "execution_count": 106,
   "metadata": {
    "collapsed": false
   },
   "outputs": [],
   "source": [
    "class GradientBoostingClassifier:\n",
    "    def __init__(self, max_depth = 3, n_estimators=5, random_state=None, learning_rate = 0.1, verbose = False):\n",
    "        self.max_depth = max_depth\n",
    "        self.n_estimators = n_estimators\n",
    "        self.random_state = random_state\n",
    "        self.learning_rate = learning_rate\n",
    "        self.verbose = verbose\n",
    "        \n",
    "    def fit(self, X, y, X_test = None, y_test = None):\n",
    "        self.train_losses = []\n",
    "        self.test_losses = []\n",
    "        X = X.astype(np.float32)\n",
    "        self.n_classes = len(np.unique(y))\n",
    "        if self.n_classes < 3:\n",
    "            self.loss = LogisticLoss()\n",
    "            self.estimators = np.empty((self.n_estimators, 1), dtype=np.object)\n",
    "        else:\n",
    "            self.loss = MultiLogisticLoss(self.n_classes)\n",
    "            self.estimators = np.empty((self.n_estimators, self.n_classes), dtype=np.object)\n",
    "        self.init = self.loss.init_estimator()\n",
    "        self.init_estimator(X, y)\n",
    "        self.__fit_stages(X, y, X_test, y_test, self.random_state)\n",
    "    \n",
    "    def init_estimator(self, X, y):\n",
    "        self.init.fit(X, y)\n",
    "    \n",
    "    def __fit_stages(self, X, y, X_test, y_test, random_state):\n",
    "        y_pred = self.init_predict(X)\n",
    "        srt_mask = X.argsort(axis=0)\n",
    "        for est in xrange(self.estimators.shape[0]):\n",
    "            y_pred = self.__fit_stage(est, X, y, y_pred, random_state, srt_mask)\n",
    "            self.train_losses.append(self.loss(y, y_pred))\n",
    "            if not ((X_test is None) or (y_test is None)):\n",
    "                self.test_losses.append(self.loss(y_test, self.decision_function(X_test, est+1)))\n",
    "            if self.verbose:\n",
    "                print 'Step:\\t{}, '.format(est) +\\\n",
    "                'Train Loss: {:.6f}, '.format(self.train_losses[-1]) +\\\n",
    "                'Train Acc: {:.6f}, '.format(accuracy_score(y, self.predict(X, est + 1))) +\\\n",
    "                '{}'.format('Test Loss: {:.6f}, Test Acc: {:.6f}'.format(self.test_losses[-1],\n",
    "                                                                         accuracy_score(y_test,\n",
    "                            self.predict(X_test, est + 1))) if not ((X_test is None) or (y_test is None)) else '')\n",
    "            \n",
    "    def __fit_stage(self, est, X, y, y_pred, random_state, srt_mask):\n",
    "        for i in xrange(self.estimators.shape[1]):\n",
    "            if self.n_classes < 3:\n",
    "                y_bin = y\n",
    "            else:\n",
    "                y_bin = y == i\n",
    "            residual = self.loss.negative_gradient(y_bin, y_pred, i)\n",
    "            tree = DTR(self.max_depth, random_state)\n",
    "            tree.fit(X, residual, srt_mask)\n",
    "            tree.update_leafs(X, y_bin, residual)\n",
    "            self.estimators[est, i] = tree\n",
    "        return self.decision_function(X, est+1)\n",
    "    \n",
    "    def predict(self, X, n_estimators = None):\n",
    "        if self.n_classes < 3:\n",
    "            return np.array(self.predict_proba(X, n_estimators)>0.5, dtype=np.int32)\n",
    "        else:\n",
    "            return np.argmax(self.predict_proba(X, n_estimators), axis=1)\n",
    "    \n",
    "    def predict_proba(self, X, n_estimators = None):\n",
    "        decision = self.decision_function(X, n_estimators)\n",
    "        return self.loss._score_to_proba(decision)\n",
    "        \n",
    "    def init_predict(self, X):\n",
    "        return self.init.predict(X)\n",
    "    \n",
    "    def decision_function(self, X, n_estimators = None):\n",
    "        score = self.init.predict(X).astype(np.float64)\n",
    "        if n_estimators is None:\n",
    "            n_estimators = self.n_estimators\n",
    "        for est in xrange(n_estimators):\n",
    "            est_pred = np.array([self.estimators[est, i].predict(X).ravel() for i in xrange(self.estimators.shape[1])]).T\n",
    "            score += self.learning_rate * est_pred\n",
    "        return score"
   ]
  },
  {
   "cell_type": "markdown",
   "metadata": {},
   "source": [
    "# Spam"
   ]
  },
  {
   "cell_type": "code",
   "execution_count": 98,
   "metadata": {
    "collapsed": true
   },
   "outputs": [],
   "source": [
    "X_train, X_test, y_train, y_test = loadSpam(10)"
   ]
  },
  {
   "cell_type": "markdown",
   "metadata": {},
   "source": [
    "### Realized Train 10"
   ]
  },
  {
   "cell_type": "code",
   "execution_count": 41,
   "metadata": {
    "collapsed": false
   },
   "outputs": [],
   "source": [
    "model = GradientBoostingClassifier(max_depth=3, n_estimators=10, learning_rate=0.1, random_state=41, verbose=True)"
   ]
  },
  {
   "cell_type": "code",
   "execution_count": 42,
   "metadata": {
    "collapsed": false
   },
   "outputs": [
    {
     "name": "stdout",
     "output_type": "stream",
     "text": [
      "Step:\t0, Train Loss: 1.243280, Train Acc: 0.581277, Test Loss: 1.148639, Test Acc: 0.797832\n",
      "Step:\t1, Train Loss: 1.146717, Train Acc: 0.795855, Test Loss: 1.098200, Test Acc: 0.899861\n",
      "Step:\t2, Train Loss: 1.066547, Train Acc: 0.864091, Test Loss: 1.040699, Test Acc: 0.906225\n",
      "Step:\t3, Train Loss: 0.997443, Train Acc: 0.869590, Test Loss: 0.998278, Test Acc: 0.906325\n",
      "Step:\t4, Train Loss: 0.931978, Train Acc: 0.896659, Test Loss: 0.972839, Test Acc: 0.887828\n",
      "Step:\t5, Train Loss: 0.876972, Train Acc: 0.893134, Test Loss: 0.923649, Test Acc: 0.912788\n",
      "Step:\t6, Train Loss: 0.827917, Train Acc: 0.906528, Test Loss: 0.869986, Test Acc: 0.912689\n",
      "Step:\t7, Train Loss: 0.781046, Train Acc: 0.911603, Test Loss: 0.861992, Test Acc: 0.905430\n",
      "Step:\t8, Train Loss: 0.743543, Train Acc: 0.915833, Test Loss: 0.834274, Test Acc: 0.915473\n",
      "Step:\t9, Train Loss: 0.706295, Train Acc: 0.923587, Test Loss: 0.823929, Test Acc: 0.908711\n"
     ]
    }
   ],
   "source": [
    "model.fit(X_train, y_train, X_test, y_test)"
   ]
  },
  {
   "cell_type": "code",
   "execution_count": 43,
   "metadata": {
    "collapsed": false
   },
   "outputs": [
    {
     "data": {
      "text/plain": [
       "0.9087112171837709"
      ]
     },
     "execution_count": 43,
     "metadata": {},
     "output_type": "execute_result"
    }
   ],
   "source": [
    "accuracy_score(y_test, model.predict(X_test))"
   ]
  },
  {
   "cell_type": "markdown",
   "metadata": {},
   "source": [
    "### Sklearn Train 10 "
   ]
  },
  {
   "cell_type": "code",
   "execution_count": 44,
   "metadata": {
    "collapsed": true
   },
   "outputs": [],
   "source": [
    "model_sk = GBC(n_estimators=10, max_depth=3, verbose=1, criterion='mse', loss='deviance',\n",
    "               random_state=41)"
   ]
  },
  {
   "cell_type": "code",
   "execution_count": 45,
   "metadata": {
    "collapsed": false
   },
   "outputs": [
    {
     "name": "stdout",
     "output_type": "stream",
     "text": [
      "      Iter       Train Loss   Remaining Time \n",
      "         1           1.2433            0.50s\n",
      "         2           1.1467            0.41s\n",
      "         3           1.0665            0.33s\n",
      "         4           0.9974            0.27s\n",
      "         5           0.9320            0.23s\n",
      "         6           0.8770            0.18s\n",
      "         7           0.8279            0.14s\n",
      "         8           0.7810            0.09s\n",
      "         9           0.7435            0.04s\n",
      "        10           0.7063            0.00s\n"
     ]
    },
    {
     "data": {
      "text/plain": [
       "GradientBoostingClassifier(criterion='mse', init=None, learning_rate=0.1,\n",
       "              loss='deviance', max_depth=3, max_features=None,\n",
       "              max_leaf_nodes=None, min_impurity_split=1e-07,\n",
       "              min_samples_leaf=1, min_samples_split=2,\n",
       "              min_weight_fraction_leaf=0.0, n_estimators=10,\n",
       "              presort='auto', random_state=41, subsample=1.0, verbose=1,\n",
       "              warm_start=False)"
      ]
     },
     "execution_count": 45,
     "metadata": {},
     "output_type": "execute_result"
    }
   ],
   "source": [
    "model_sk.fit(X_train, y_train)"
   ]
  },
  {
   "cell_type": "code",
   "execution_count": 46,
   "metadata": {
    "collapsed": false,
    "scrolled": true
   },
   "outputs": [
    {
     "data": {
      "text/plain": [
       "0.90851233094669848"
      ]
     },
     "execution_count": 46,
     "metadata": {},
     "output_type": "execute_result"
    }
   ],
   "source": [
    "accuracy_score(y_test, model_sk.predict(X_test))"
   ]
  },
  {
   "cell_type": "markdown",
   "metadata": {},
   "source": [
    "# Bupa"
   ]
  },
  {
   "cell_type": "code",
   "execution_count": 117,
   "metadata": {
    "collapsed": true
   },
   "outputs": [],
   "source": [
    "X_train, X_test, y_train, y_test = loadBupa(10)"
   ]
  },
  {
   "cell_type": "markdown",
   "metadata": {},
   "source": [
    "### Realized Train 10"
   ]
  },
  {
   "cell_type": "code",
   "execution_count": 118,
   "metadata": {
    "collapsed": false
   },
   "outputs": [],
   "source": [
    "model = GradientBoostingClassifier(max_depth=3, n_estimators=10, learning_rate=0.1, random_state=41, verbose=True)"
   ]
  },
  {
   "cell_type": "code",
   "execution_count": 119,
   "metadata": {
    "collapsed": false
   },
   "outputs": [
    {
     "name": "stdout",
     "output_type": "stream",
     "text": [
      "Step:\t0, Train Loss: 1.252751, Train Acc: 0.636364, Test Loss: 1.471427, Test Acc: 0.464912\n",
      "Step:\t1, Train Loss: 1.206708, Train Acc: 0.636364, Test Loss: 1.450069, Test Acc: 0.464912\n",
      "Step:\t2, Train Loss: 1.160693, Train Acc: 0.718615, Test Loss: 1.432747, Test Acc: 0.526316\n",
      "Step:\t3, Train Loss: 1.120125, Train Acc: 0.731602, Test Loss: 1.405815, Test Acc: 0.517544\n",
      "Step:\t4, Train Loss: 1.093573, Train Acc: 0.770563, Test Loss: 1.392037, Test Acc: 0.543860\n",
      "Step:\t5, Train Loss: 1.073127, Train Acc: 0.779221, Test Loss: 1.383290, Test Acc: 0.552632\n",
      "Step:\t6, Train Loss: 1.043766, Train Acc: 0.792208, Test Loss: 1.376610, Test Acc: 0.570175\n",
      "Step:\t7, Train Loss: 1.027613, Train Acc: 0.792208, Test Loss: 1.370104, Test Acc: 0.578947\n",
      "Step:\t8, Train Loss: 1.005764, Train Acc: 0.800866, Test Loss: 1.364675, Test Acc: 0.596491\n",
      "Step:\t9, Train Loss: 0.976416, Train Acc: 0.813853, Test Loss: 1.347293, Test Acc: 0.578947\n"
     ]
    }
   ],
   "source": [
    "model.fit(X_train, y_train, X_test, y_test)"
   ]
  },
  {
   "cell_type": "code",
   "execution_count": 120,
   "metadata": {
    "collapsed": false
   },
   "outputs": [
    {
     "data": {
      "text/plain": [
       "0.57894736842105265"
      ]
     },
     "execution_count": 120,
     "metadata": {},
     "output_type": "execute_result"
    }
   ],
   "source": [
    "accuracy_score(y_test, model.predict(X_test))"
   ]
  },
  {
   "cell_type": "markdown",
   "metadata": {},
   "source": [
    "### Sklearn Train 10 "
   ]
  },
  {
   "cell_type": "code",
   "execution_count": 121,
   "metadata": {
    "collapsed": true
   },
   "outputs": [],
   "source": [
    "model_sk = GBC(n_estimators=10, max_depth=3, verbose=1, criterion='mse', loss='deviance',\n",
    "               random_state=41)"
   ]
  },
  {
   "cell_type": "code",
   "execution_count": 122,
   "metadata": {
    "collapsed": false
   },
   "outputs": [
    {
     "name": "stdout",
     "output_type": "stream",
     "text": [
      "      Iter       Train Loss   Remaining Time \n",
      "         1           1.2528            0.01s\n",
      "         2           1.2067            0.01s\n",
      "         3           1.1607            0.01s\n",
      "         4           1.1201            0.01s\n",
      "         5           1.0935            0.00s\n",
      "         6           1.0733            0.00s\n",
      "         7           1.0439            0.00s\n",
      "         8           1.0281            0.00s\n",
      "         9           1.0061            0.00s\n",
      "        10           0.9765            0.00s\n"
     ]
    },
    {
     "data": {
      "text/plain": [
       "GradientBoostingClassifier(criterion='mse', init=None, learning_rate=0.1,\n",
       "              loss='deviance', max_depth=3, max_features=None,\n",
       "              max_leaf_nodes=None, min_impurity_split=1e-07,\n",
       "              min_samples_leaf=1, min_samples_split=2,\n",
       "              min_weight_fraction_leaf=0.0, n_estimators=10,\n",
       "              presort='auto', random_state=41, subsample=1.0, verbose=1,\n",
       "              warm_start=False)"
      ]
     },
     "execution_count": 122,
     "metadata": {},
     "output_type": "execute_result"
    }
   ],
   "source": [
    "model_sk.fit(X_train, y_train)"
   ]
  },
  {
   "cell_type": "code",
   "execution_count": 123,
   "metadata": {
    "collapsed": false,
    "scrolled": true
   },
   "outputs": [
    {
     "data": {
      "text/plain": [
       "0.57894736842105265"
      ]
     },
     "execution_count": 123,
     "metadata": {},
     "output_type": "execute_result"
    }
   ],
   "source": [
    "accuracy_score(y_test, model_sk.predict(X_test))"
   ]
  },
  {
   "cell_type": "markdown",
   "metadata": {},
   "source": [
    "# Wine"
   ]
  },
  {
   "cell_type": "code",
   "execution_count": 107,
   "metadata": {
    "collapsed": true
   },
   "outputs": [],
   "source": [
    "X_train, X_test, y_train, y_test = loadWine(10)"
   ]
  },
  {
   "cell_type": "markdown",
   "metadata": {},
   "source": [
    "### Realized Train 10"
   ]
  },
  {
   "cell_type": "code",
   "execution_count": 108,
   "metadata": {
    "collapsed": false
   },
   "outputs": [],
   "source": [
    "model = GradientBoostingClassifier(max_depth=3, n_estimators=10, learning_rate=0.1, random_state=41, verbose=True)"
   ]
  },
  {
   "cell_type": "code",
   "execution_count": 109,
   "metadata": {
    "collapsed": false
   },
   "outputs": [
    {
     "name": "stdout",
     "output_type": "stream",
     "text": [
      "Step:\t0, Train Loss: 97.584554, Train Acc: 1.000000, Test Loss: 51.925500, Test Acc: 0.830508\n",
      "Step:\t1, Train Loss: 75.191578, Train Acc: 1.000000, Test Loss: 43.455278, Test Acc: 0.830508\n",
      "Step:\t2, Train Loss: 58.912583, Train Acc: 1.000000, Test Loss: 37.377028, Test Acc: 0.830508\n",
      "Step:\t3, Train Loss: 46.662814, Train Acc: 1.000000, Test Loss: 32.865998, Test Acc: 0.830508\n",
      "Step:\t4, Train Loss: 37.242336, Train Acc: 1.000000, Test Loss: 29.450578, Test Acc: 0.830508\n",
      "Step:\t5, Train Loss: 29.889291, Train Acc: 1.000000, Test Loss: 26.833016, Test Acc: 0.830508\n",
      "Step:\t6, Train Loss: 24.088425, Train Acc: 1.000000, Test Loss: 24.812889, Test Acc: 0.830508\n",
      "Step:\t7, Train Loss: 19.475700, Train Acc: 1.000000, Test Loss: 23.249134, Test Acc: 0.830508\n",
      "Step:\t8, Train Loss: 15.785611, Train Acc: 1.000000, Test Loss: 22.039195, Test Acc: 0.830508\n",
      "Step:\t9, Train Loss: 12.819841, Train Acc: 1.000000, Test Loss: 21.106664, Test Acc: 0.830508\n"
     ]
    }
   ],
   "source": [
    "model.fit(X_train, y_train, X_test, y_test)"
   ]
  },
  {
   "cell_type": "code",
   "execution_count": 110,
   "metadata": {
    "collapsed": false
   },
   "outputs": [
    {
     "data": {
      "text/plain": [
       "0.83050847457627119"
      ]
     },
     "execution_count": 110,
     "metadata": {},
     "output_type": "execute_result"
    }
   ],
   "source": [
    "accuracy_score(y_test, model.predict(X_test))"
   ]
  },
  {
   "cell_type": "markdown",
   "metadata": {},
   "source": [
    "### Sklearn Train 10 "
   ]
  },
  {
   "cell_type": "code",
   "execution_count": 111,
   "metadata": {
    "collapsed": true
   },
   "outputs": [],
   "source": [
    "model_sk = GBC(n_estimators=10, max_depth=3, verbose=1, criterion='mse', loss='deviance',\n",
    "               random_state=41)"
   ]
  },
  {
   "cell_type": "code",
   "execution_count": 112,
   "metadata": {
    "collapsed": false
   },
   "outputs": [
    {
     "name": "stdout",
     "output_type": "stream",
     "text": [
      "      Iter       Train Loss   Remaining Time \n",
      "         1         108.4048            0.13s\n",
      "         2          91.1632            0.07s\n",
      "         3          77.2745            0.04s\n",
      "         4          65.8847            0.03s\n",
      "         5          56.4246            0.02s\n",
      "         6          48.4927            0.02s\n",
      "         7          41.7935            0.01s\n",
      "         8          36.1028            0.01s\n",
      "         9          31.2464            0.00s\n",
      "        10          27.0862            0.00s\n"
     ]
    },
    {
     "data": {
      "text/plain": [
       "GradientBoostingClassifier(criterion='mse', init=None, learning_rate=0.1,\n",
       "              loss='deviance', max_depth=3, max_features=None,\n",
       "              max_leaf_nodes=None, min_impurity_split=1e-07,\n",
       "              min_samples_leaf=1, min_samples_split=2,\n",
       "              min_weight_fraction_leaf=0.0, n_estimators=10,\n",
       "              presort='auto', random_state=41, subsample=1.0, verbose=1,\n",
       "              warm_start=False)"
      ]
     },
     "execution_count": 112,
     "metadata": {},
     "output_type": "execute_result"
    }
   ],
   "source": [
    "model_sk.fit(X_train, y_train)"
   ]
  },
  {
   "cell_type": "code",
   "execution_count": 113,
   "metadata": {
    "collapsed": false,
    "scrolled": true
   },
   "outputs": [
    {
     "data": {
      "text/plain": [
       "0.81355932203389836"
      ]
     },
     "execution_count": 113,
     "metadata": {},
     "output_type": "execute_result"
    }
   ],
   "source": [
    "accuracy_score(y_test, model_sk.predict(X_test))"
   ]
  },
  {
   "cell_type": "markdown",
   "metadata": {},
   "source": [
    "# Iris"
   ]
  },
  {
   "cell_type": "code",
   "execution_count": 124,
   "metadata": {
    "collapsed": true
   },
   "outputs": [],
   "source": [
    "X_train, X_test, y_train, y_test = loadIris(10)"
   ]
  },
  {
   "cell_type": "markdown",
   "metadata": {},
   "source": [
    "### Realized Train 10"
   ]
  },
  {
   "cell_type": "code",
   "execution_count": 125,
   "metadata": {
    "collapsed": false
   },
   "outputs": [],
   "source": [
    "model = GradientBoostingClassifier(max_depth=3, n_estimators=10, learning_rate=0.1, random_state=41, verbose=True)"
   ]
  },
  {
   "cell_type": "code",
   "execution_count": 126,
   "metadata": {
    "collapsed": false
   },
   "outputs": [
    {
     "name": "stdout",
     "output_type": "stream",
     "text": [
      "Step:\t0, Train Loss: 82.733894, Train Acc: 1.000000, Test Loss: 43.108808, Test Acc: 0.900000\n",
      "Step:\t1, Train Loss: 64.202282, Train Acc: 1.000000, Test Loss: 35.012988, Test Acc: 0.900000\n",
      "Step:\t2, Train Loss: 50.686260, Train Acc: 1.000000, Test Loss: 29.447266, Test Acc: 0.900000\n",
      "Step:\t3, Train Loss: 40.455599, Train Acc: 1.000000, Test Loss: 25.196021, Test Acc: 0.900000\n",
      "Step:\t4, Train Loss: 32.537812, Train Acc: 1.000000, Test Loss: 22.215852, Test Acc: 0.900000\n",
      "Step:\t5, Train Loss: 26.337811, Train Acc: 1.000000, Test Loss: 19.837703, Test Acc: 0.900000\n",
      "Step:\t6, Train Loss: 21.410614, Train Acc: 1.000000, Test Loss: 17.939225, Test Acc: 0.900000\n",
      "Step:\t7, Train Loss: 17.483146, Train Acc: 1.000000, Test Loss: 16.644165, Test Acc: 0.900000\n",
      "Step:\t8, Train Loss: 14.322389, Train Acc: 1.000000, Test Loss: 15.598637, Test Acc: 0.900000\n",
      "Step:\t9, Train Loss: 11.754086, Train Acc: 1.000000, Test Loss: 15.085050, Test Acc: 0.900000\n"
     ]
    }
   ],
   "source": [
    "model.fit(X_train, y_train, X_test, y_test)"
   ]
  },
  {
   "cell_type": "code",
   "execution_count": 127,
   "metadata": {
    "collapsed": false
   },
   "outputs": [
    {
     "data": {
      "text/plain": [
       "0.90000000000000002"
      ]
     },
     "execution_count": 127,
     "metadata": {},
     "output_type": "execute_result"
    }
   ],
   "source": [
    "accuracy_score(y_test, model.predict(X_test))"
   ]
  },
  {
   "cell_type": "markdown",
   "metadata": {},
   "source": [
    "### Sklearn Train 10 "
   ]
  },
  {
   "cell_type": "code",
   "execution_count": 128,
   "metadata": {
    "collapsed": true
   },
   "outputs": [],
   "source": [
    "model_sk = GBC(n_estimators=10, max_depth=3, verbose=1, criterion='mse', loss='deviance',\n",
    "               random_state=41)"
   ]
  },
  {
   "cell_type": "code",
   "execution_count": 129,
   "metadata": {
    "collapsed": false
   },
   "outputs": [
    {
     "name": "stdout",
     "output_type": "stream",
     "text": [
      "      Iter       Train Loss   Remaining Time \n",
      "         1          91.6490            0.03s\n",
      "         2          77.4005            0.02s\n",
      "         3          65.9026            0.02s\n",
      "         4          56.4531            0.01s\n",
      "         5          48.5777            0.01s\n",
      "         6          41.9493            0.01s\n",
      "         7          36.3391            0.01s\n",
      "         8          31.5647            0.00s\n",
      "         9          27.4819            0.00s\n",
      "        10          23.9637            0.00s\n"
     ]
    },
    {
     "data": {
      "text/plain": [
       "GradientBoostingClassifier(criterion='mse', init=None, learning_rate=0.1,\n",
       "              loss='deviance', max_depth=3, max_features=None,\n",
       "              max_leaf_nodes=None, min_impurity_split=1e-07,\n",
       "              min_samples_leaf=1, min_samples_split=2,\n",
       "              min_weight_fraction_leaf=0.0, n_estimators=10,\n",
       "              presort='auto', random_state=41, subsample=1.0, verbose=1,\n",
       "              warm_start=False)"
      ]
     },
     "execution_count": 129,
     "metadata": {},
     "output_type": "execute_result"
    }
   ],
   "source": [
    "model_sk.fit(X_train, y_train)"
   ]
  },
  {
   "cell_type": "code",
   "execution_count": 130,
   "metadata": {
    "collapsed": false,
    "scrolled": true
   },
   "outputs": [
    {
     "data": {
      "text/plain": [
       "0.90000000000000002"
      ]
     },
     "execution_count": 130,
     "metadata": {},
     "output_type": "execute_result"
    }
   ],
   "source": [
    "accuracy_score(y_test, model_sk.predict(X_test))"
   ]
  },
  {
   "cell_type": "markdown",
   "metadata": {},
   "source": [
    "# Plots"
   ]
  },
  {
   "cell_type": "code",
   "execution_count": 115,
   "metadata": {
    "collapsed": true
   },
   "outputs": [],
   "source": [
    "def compare_plot(name, myScore, sklearnScore, period):\n",
    "    myScore = np.array(myScore)\n",
    "    sklearnScore = np.array(sklearnScore)\n",
    "    plt.figure(figsize=(11,5))\n",
    "    plt.plot(period, myScore, 'g', label='My score')\n",
    "    plt.xlim(period[0], period[-1])\n",
    "    plt.plot(period, sklearnScore, 'b.', label='Sklearn score')\n",
    "    plt.plot(period, sklearnScore/0.97, 'r', label='Pass border')\n",
    "    plt.legend(loc=0)\n",
    "    plt.title('Gradient Boosting Regressor: ' + name)\n",
    "    plt.ylabel('score')\n",
    "    plt.xlabel('n_estimators')\n",
    "    plt.show()"
   ]
  },
  {
   "cell_type": "markdown",
   "metadata": {},
   "source": [
    "# More trees on spam"
   ]
  },
  {
   "cell_type": "code",
   "execution_count": 114,
   "metadata": {
    "collapsed": true
   },
   "outputs": [],
   "source": [
    "X_train, X_test, y_train, y_test = loadSpam(10)"
   ]
  },
  {
   "cell_type": "markdown",
   "metadata": {},
   "source": [
    "### Graphics 100"
   ]
  },
  {
   "cell_type": "code",
   "execution_count": 116,
   "metadata": {
    "collapsed": false
   },
   "outputs": [],
   "source": [
    "model = GradientBoostingClassifier(max_depth=3, n_estimators=100, learning_rate=0.1, random_state=41, verbose=True)"
   ]
  },
  {
   "cell_type": "code",
   "execution_count": 49,
   "metadata": {
    "collapsed": false,
    "scrolled": true
   },
   "outputs": [
    {
     "name": "stdout",
     "output_type": "stream",
     "text": [
      "Step:\t0, Train Loss: 1.243280, Train Acc: 0.581277, Test Loss: 1.148639, Test Acc: 0.797832\n",
      "Step:\t1, Train Loss: 1.146717, Train Acc: 0.795855, Test Loss: 1.098200, Test Acc: 0.899861\n",
      "Step:\t2, Train Loss: 1.066547, Train Acc: 0.864091, Test Loss: 1.040699, Test Acc: 0.906225\n",
      "Step:\t3, Train Loss: 0.997443, Train Acc: 0.869590, Test Loss: 0.998278, Test Acc: 0.906325\n",
      "Step:\t4, Train Loss: 0.931978, Train Acc: 0.896659, Test Loss: 0.972839, Test Acc: 0.887828\n",
      "Step:\t5, Train Loss: 0.876972, Train Acc: 0.893134, Test Loss: 0.923649, Test Acc: 0.912788\n",
      "Step:\t6, Train Loss: 0.827917, Train Acc: 0.906528, Test Loss: 0.869986, Test Acc: 0.912689\n",
      "Step:\t7, Train Loss: 0.781046, Train Acc: 0.911603, Test Loss: 0.861992, Test Acc: 0.905430\n",
      "Step:\t8, Train Loss: 0.743543, Train Acc: 0.915833, Test Loss: 0.834274, Test Acc: 0.915473\n",
      "Step:\t9, Train Loss: 0.706295, Train Acc: 0.923587, Test Loss: 0.823929, Test Acc: 0.908711\n",
      "Step:\t10, Train Loss: 0.670167, Train Acc: 0.925560, Test Loss: 0.798091, Test Acc: 0.917263\n",
      "Step:\t11, Train Loss: 0.635727, Train Acc: 0.931764, Test Loss: 0.763699, Test Acc: 0.918656\n",
      "Step:\t12, Train Loss: 0.607006, Train Acc: 0.935993, Test Loss: 0.736054, Test Acc: 0.924324\n",
      "Step:\t13, Train Loss: 0.582078, Train Acc: 0.937262, Test Loss: 0.714024, Test Acc: 0.925915\n",
      "Step:\t14, Train Loss: 0.556827, Train Acc: 0.940505, Test Loss: 0.690239, Test Acc: 0.928103\n",
      "Step:\t15, Train Loss: 0.535675, Train Acc: 0.943606, Test Loss: 0.691725, Test Acc: 0.923429\n",
      "Step:\t16, Train Loss: 0.513397, Train Acc: 0.944311, Test Loss: 0.658349, Test Acc: 0.932080\n",
      "Step:\t17, Train Loss: 0.493403, Train Acc: 0.946849, Test Loss: 0.645608, Test Acc: 0.928600\n",
      "Step:\t18, Train Loss: 0.475529, Train Acc: 0.948682, Test Loss: 0.630234, Test Acc: 0.930887\n",
      "Step:\t19, Train Loss: 0.458435, Train Acc: 0.949105, Test Loss: 0.603440, Test Acc: 0.931981\n",
      "Step:\t20, Train Loss: 0.440739, Train Acc: 0.948682, Test Loss: 0.586557, Test Acc: 0.932180\n",
      "Step:\t21, Train Loss: 0.426666, Train Acc: 0.949528, Test Loss: 0.577848, Test Acc: 0.928898\n",
      "Step:\t22, Train Loss: 0.412568, Train Acc: 0.950092, Test Loss: 0.563562, Test Acc: 0.929196\n",
      "Step:\t23, Train Loss: 0.399664, Train Acc: 0.951360, Test Loss: 0.540445, Test Acc: 0.932478\n",
      "Step:\t24, Train Loss: 0.389945, Train Acc: 0.952629, Test Loss: 0.527296, Test Acc: 0.934268\n",
      "Step:\t25, Train Loss: 0.377730, Train Acc: 0.953757, Test Loss: 0.515045, Test Acc: 0.935660\n",
      "Step:\t26, Train Loss: 0.366275, Train Acc: 0.955872, Test Loss: 0.505783, Test Acc: 0.936456\n",
      "Step:\t27, Train Loss: 0.356328, Train Acc: 0.957705, Test Loss: 0.498129, Test Acc: 0.937152\n",
      "Step:\t28, Train Loss: 0.347054, Train Acc: 0.958269, Test Loss: 0.492051, Test Acc: 0.936555\n",
      "Step:\t29, Train Loss: 0.338915, Train Acc: 0.960524, Test Loss: 0.483444, Test Acc: 0.937749\n",
      "Step:\t30, Train Loss: 0.330357, Train Acc: 0.961229, Test Loss: 0.490566, Test Acc: 0.934964\n",
      "Step:\t31, Train Loss: 0.322292, Train Acc: 0.962639, Test Loss: 0.485664, Test Acc: 0.935362\n",
      "Step:\t32, Train Loss: 0.314715, Train Acc: 0.961652, Test Loss: 0.478154, Test Acc: 0.935959\n",
      "Step:\t33, Train Loss: 0.306633, Train Acc: 0.963908, Test Loss: 0.469073, Test Acc: 0.937152\n",
      "Step:\t34, Train Loss: 0.300441, Train Acc: 0.963767, Test Loss: 0.466512, Test Acc: 0.934666\n",
      "Step:\t35, Train Loss: 0.294042, Train Acc: 0.964190, Test Loss: 0.452927, Test Acc: 0.935959\n",
      "Step:\t36, Train Loss: 0.288381, Train Acc: 0.964472, Test Loss: 0.453829, Test Acc: 0.936356\n",
      "Step:\t37, Train Loss: 0.282118, Train Acc: 0.964895, Test Loss: 0.445998, Test Acc: 0.937351\n",
      "Step:\t38, Train Loss: 0.276367, Train Acc: 0.965600, Test Loss: 0.441740, Test Acc: 0.937947\n",
      "Step:\t39, Train Loss: 0.270996, Train Acc: 0.965600, Test Loss: 0.436513, Test Acc: 0.940434\n",
      "Step:\t40, Train Loss: 0.266020, Train Acc: 0.966446, Test Loss: 0.429777, Test Acc: 0.940434\n",
      "Step:\t41, Train Loss: 0.261070, Train Acc: 0.966446, Test Loss: 0.427519, Test Acc: 0.940135\n",
      "Step:\t42, Train Loss: 0.256858, Train Acc: 0.967151, Test Loss: 0.418903, Test Acc: 0.940931\n",
      "Step:\t43, Train Loss: 0.252039, Train Acc: 0.967574, Test Loss: 0.411000, Test Acc: 0.940931\n",
      "Step:\t44, Train Loss: 0.247799, Train Acc: 0.968279, Test Loss: 0.408214, Test Acc: 0.943218\n",
      "Step:\t45, Train Loss: 0.243351, Train Acc: 0.969406, Test Loss: 0.403252, Test Acc: 0.943914\n",
      "Step:\t46, Train Loss: 0.238921, Train Acc: 0.969547, Test Loss: 0.410572, Test Acc: 0.940135\n",
      "Step:\t47, Train Loss: 0.234921, Train Acc: 0.969547, Test Loss: 0.408939, Test Acc: 0.938743\n",
      "Step:\t48, Train Loss: 0.231090, Train Acc: 0.971098, Test Loss: 0.411768, Test Acc: 0.937848\n",
      "Step:\t49, Train Loss: 0.227969, Train Acc: 0.971803, Test Loss: 0.410230, Test Acc: 0.937152\n",
      "Step:\t50, Train Loss: 0.224536, Train Acc: 0.972508, Test Loss: 0.406719, Test Acc: 0.938842\n",
      "Step:\t51, Train Loss: 0.221224, Train Acc: 0.972367, Test Loss: 0.400262, Test Acc: 0.939539\n",
      "Step:\t52, Train Loss: 0.218288, Train Acc: 0.973072, Test Loss: 0.399878, Test Acc: 0.939141\n",
      "Step:\t53, Train Loss: 0.214605, Train Acc: 0.973354, Test Loss: 0.396050, Test Acc: 0.940434\n",
      "Step:\t54, Train Loss: 0.211280, Train Acc: 0.973777, Test Loss: 0.392948, Test Acc: 0.940533\n",
      "Step:\t55, Train Loss: 0.208316, Train Acc: 0.974905, Test Loss: 0.389788, Test Acc: 0.940135\n",
      "Step:\t56, Train Loss: 0.206188, Train Acc: 0.974482, Test Loss: 0.385147, Test Acc: 0.940632\n",
      "Step:\t57, Train Loss: 0.203727, Train Acc: 0.974623, Test Loss: 0.381523, Test Acc: 0.941428\n",
      "Step:\t58, Train Loss: 0.201235, Train Acc: 0.975187, Test Loss: 0.378385, Test Acc: 0.942025\n",
      "Step:\t59, Train Loss: 0.198938, Train Acc: 0.975328, Test Loss: 0.377771, Test Acc: 0.941229\n",
      "Step:\t60, Train Loss: 0.196494, Train Acc: 0.974623, Test Loss: 0.375308, Test Acc: 0.941229\n",
      "Step:\t61, Train Loss: 0.194034, Train Acc: 0.975610, Test Loss: 0.369795, Test Acc: 0.942522\n",
      "Step:\t62, Train Loss: 0.191688, Train Acc: 0.976174, Test Loss: 0.366236, Test Acc: 0.942025\n",
      "Step:\t63, Train Loss: 0.189033, Train Acc: 0.976738, Test Loss: 0.363049, Test Acc: 0.944809\n",
      "Step:\t64, Train Loss: 0.186737, Train Acc: 0.976879, Test Loss: 0.360463, Test Acc: 0.945804\n",
      "Step:\t65, Train Loss: 0.184737, Train Acc: 0.976456, Test Loss: 0.361505, Test Acc: 0.943715\n",
      "Step:\t66, Train Loss: 0.182236, Train Acc: 0.977161, Test Loss: 0.368965, Test Acc: 0.941428\n",
      "Step:\t67, Train Loss: 0.180334, Train Acc: 0.977584, Test Loss: 0.367586, Test Acc: 0.941627\n",
      "Step:\t68, Train Loss: 0.178789, Train Acc: 0.978006, Test Loss: 0.366522, Test Acc: 0.940931\n",
      "Step:\t69, Train Loss: 0.176939, Train Acc: 0.977725, Test Loss: 0.359088, Test Acc: 0.943417\n",
      "Step:\t70, Train Loss: 0.175075, Train Acc: 0.978711, Test Loss: 0.356705, Test Acc: 0.944809\n",
      "Step:\t71, Train Loss: 0.172964, Train Acc: 0.978429, Test Loss: 0.357243, Test Acc: 0.944014\n",
      "Step:\t72, Train Loss: 0.171087, Train Acc: 0.979134, Test Loss: 0.353322, Test Acc: 0.944610\n",
      "Step:\t73, Train Loss: 0.169385, Train Acc: 0.979698, Test Loss: 0.358084, Test Acc: 0.943914\n",
      "Step:\t74, Train Loss: 0.168108, Train Acc: 0.979980, Test Loss: 0.356975, Test Acc: 0.945008\n",
      "Step:\t75, Train Loss: 0.167036, Train Acc: 0.979980, Test Loss: 0.356568, Test Acc: 0.944909\n",
      "Step:\t76, Train Loss: 0.165310, Train Acc: 0.979980, Test Loss: 0.354426, Test Acc: 0.946002\n",
      "Step:\t77, Train Loss: 0.164104, Train Acc: 0.980403, Test Loss: 0.354600, Test Acc: 0.946997\n",
      "Step:\t78, Train Loss: 0.162456, Train Acc: 0.981108, Test Loss: 0.352010, Test Acc: 0.946002\n",
      "Step:\t79, Train Loss: 0.160053, Train Acc: 0.981531, Test Loss: 0.347731, Test Acc: 0.947295\n",
      "Step:\t80, Train Loss: 0.158813, Train Acc: 0.980967, Test Loss: 0.347765, Test Acc: 0.945804\n",
      "Step:\t81, Train Loss: 0.156747, Train Acc: 0.981672, Test Loss: 0.344178, Test Acc: 0.947991\n",
      "Step:\t82, Train Loss: 0.154544, Train Acc: 0.982518, Test Loss: 0.341359, Test Acc: 0.946997\n",
      "Step:\t83, Train Loss: 0.153238, Train Acc: 0.982941, Test Loss: 0.342616, Test Acc: 0.945804\n",
      "Step:\t84, Train Loss: 0.152004, Train Acc: 0.982941, Test Loss: 0.343538, Test Acc: 0.945605\n",
      "Step:\t85, Train Loss: 0.150706, Train Acc: 0.983082, Test Loss: 0.343819, Test Acc: 0.945605\n",
      "Step:\t86, Train Loss: 0.149266, Train Acc: 0.983505, Test Loss: 0.340569, Test Acc: 0.946400\n",
      "Step:\t87, Train Loss: 0.148307, Train Acc: 0.983787, Test Loss: 0.344170, Test Acc: 0.945505\n",
      "Step:\t88, Train Loss: 0.147396, Train Acc: 0.984069, Test Loss: 0.341389, Test Acc: 0.946500\n",
      "Step:\t89, Train Loss: 0.146410, Train Acc: 0.983787, Test Loss: 0.340069, Test Acc: 0.947096\n",
      "Step:\t90, Train Loss: 0.145319, Train Acc: 0.983787, Test Loss: 0.341561, Test Acc: 0.946698\n",
      "Step:\t91, Train Loss: 0.144101, Train Acc: 0.984351, Test Loss: 0.336662, Test Acc: 0.947693\n",
      "Step:\t92, Train Loss: 0.142937, Train Acc: 0.983787, Test Loss: 0.335518, Test Acc: 0.948389\n",
      "Step:\t93, Train Loss: 0.141999, Train Acc: 0.984210, Test Loss: 0.334718, Test Acc: 0.948588\n",
      "Step:\t94, Train Loss: 0.141232, Train Acc: 0.984492, Test Loss: 0.333973, Test Acc: 0.948190\n",
      "Step:\t95, Train Loss: 0.139673, Train Acc: 0.984774, Test Loss: 0.337189, Test Acc: 0.946500\n",
      "Step:\t96, Train Loss: 0.139100, Train Acc: 0.984915, Test Loss: 0.337301, Test Acc: 0.946500\n",
      "Step:\t97, Train Loss: 0.138267, Train Acc: 0.985197, Test Loss: 0.335229, Test Acc: 0.947096\n",
      "Step:\t98, Train Loss: 0.137103, Train Acc: 0.985338, Test Loss: 0.332612, Test Acc: 0.947892\n",
      "Step:\t99, Train Loss: 0.136284, Train Acc: 0.985479, Test Loss: 0.331591, Test Acc: 0.949284\n"
     ]
    }
   ],
   "source": [
    "#model.fit(X_train, y_train, X_test, y_test)"
   ]
  },
  {
   "cell_type": "code",
   "execution_count": 50,
   "metadata": {
    "collapsed": true
   },
   "outputs": [],
   "source": [
    "model_sk = GBC(n_estimators=100, max_depth=3, criterion='mse', loss='deviance',\n",
    "               random_state=41)"
   ]
  },
  {
   "cell_type": "code",
   "execution_count": 51,
   "metadata": {
    "collapsed": false
   },
   "outputs": [
    {
     "data": {
      "text/plain": [
       "GradientBoostingClassifier(criterion='mse', init=None, learning_rate=0.1,\n",
       "              loss='deviance', max_depth=3, max_features=None,\n",
       "              max_leaf_nodes=None, min_impurity_split=1e-07,\n",
       "              min_samples_leaf=1, min_samples_split=2,\n",
       "              min_weight_fraction_leaf=0.0, n_estimators=100,\n",
       "              presort='auto', random_state=41, subsample=1.0, verbose=0,\n",
       "              warm_start=False)"
      ]
     },
     "execution_count": 51,
     "metadata": {},
     "output_type": "execute_result"
    }
   ],
   "source": [
    "model_sk.fit(X_train, y_train)"
   ]
  },
  {
   "cell_type": "code",
   "execution_count": 52,
   "metadata": {
    "collapsed": false
   },
   "outputs": [
    {
     "data": {
      "image/png": "[encoded data removed]",
      "text/plain": [
       "<matplotlib.figure.Figure at 0x11b1eb290>"
      ]
     },
     "metadata": {},
     "output_type": "display_data"
    }
   ],
   "source": [
    "compare_plot('Test',\n",
    "             model.test_losses,\n",
    "             [LogisticLoss()(y_test, y_pred) for y_pred in model_sk.staged_decision_function(X_test)],\n",
    "             range(1, len(model.test_losses)+1))"
   ]
  },
  {
   "cell_type": "code",
   "execution_count": 53,
   "metadata": {
    "collapsed": false
   },
   "outputs": [
    {
     "data": {
      "image/png": "[encoded data removed]",
      "text/plain": [
       "<matplotlib.figure.Figure at 0x11b1df090>"
      ]
     },
     "metadata": {},
     "output_type": "display_data"
    }
   ],
   "source": [
    "compare_plot('Train',\n",
    "             model.train_losses,\n",
    "             [LogisticLoss()(y_train, y_pred) for y_pred in model_sk.staged_decision_function(X_train)],\n",
    "             range(1, len(model.train_losses)+1))"
   ]
  },
  {
   "cell_type": "markdown",
   "metadata": {},
   "source": [
    "# More trees on wine"
   ]
  },
  {
   "cell_type": "code",
   "execution_count": 132,
   "metadata": {
    "collapsed": true
   },
   "outputs": [],
   "source": [
    "X_train, X_test, y_train, y_test = loadWine(10)"
   ]
  },
  {
   "cell_type": "markdown",
   "metadata": {},
   "source": [
    "### Graphics 100"
   ]
  },
  {
   "cell_type": "code",
   "execution_count": 133,
   "metadata": {
    "collapsed": false
   },
   "outputs": [],
   "source": [
    "model = GradientBoostingClassifier(max_depth=3, n_estimators=100, learning_rate=0.1, random_state=41, verbose=True)"
   ]
  },
  {
   "cell_type": "code",
   "execution_count": 134,
   "metadata": {
    "collapsed": false,
    "scrolled": true
   },
   "outputs": [
    {
     "name": "stdout",
     "output_type": "stream",
     "text": [
      "Step:\t0, Train Loss: 97.584554, Train Acc: 1.000000, Test Loss: 51.925500, Test Acc: 0.830508\n",
      "Step:\t1, Train Loss: 75.191578, Train Acc: 1.000000, Test Loss: 43.455278, Test Acc: 0.830508\n",
      "Step:\t2, Train Loss: 58.912583, Train Acc: 1.000000, Test Loss: 37.377028, Test Acc: 0.830508\n",
      "Step:\t3, Train Loss: 46.662814, Train Acc: 1.000000, Test Loss: 32.865998, Test Acc: 0.830508\n",
      "Step:\t4, Train Loss: 37.242336, Train Acc: 1.000000, Test Loss: 29.450578, Test Acc: 0.830508\n",
      "Step:\t5, Train Loss: 29.889291, Train Acc: 1.000000, Test Loss: 26.833016, Test Acc: 0.830508\n",
      "Step:\t6, Train Loss: 24.088425, Train Acc: 1.000000, Test Loss: 24.812889, Test Acc: 0.830508\n",
      "Step:\t7, Train Loss: 19.475700, Train Acc: 1.000000, Test Loss: 23.249134, Test Acc: 0.830508\n",
      "Step:\t8, Train Loss: 15.785611, Train Acc: 1.000000, Test Loss: 22.039195, Test Acc: 0.830508\n",
      "Step:\t9, Train Loss: 12.819841, Train Acc: 1.000000, Test Loss: 21.106664, Test Acc: 0.830508\n",
      "Step:\t10, Train Loss: 10.427513, Train Acc: 1.000000, Test Loss: 20.393534, Test Acc: 0.830508\n",
      "Step:\t11, Train Loss: 8.492183, Train Acc: 1.000000, Test Loss: 19.855053, Test Acc: 0.830508\n",
      "Step:\t12, Train Loss: 6.922959, Train Acc: 1.000000, Test Loss: 19.456387, Test Acc: 0.830508\n",
      "Step:\t13, Train Loss: 5.648248, Train Acc: 1.000000, Test Loss: 19.170194, Test Acc: 0.830508\n",
      "Step:\t14, Train Loss: 4.611245, Train Acc: 1.000000, Test Loss: 18.974744, Test Acc: 0.830508\n",
      "Step:\t15, Train Loss: 3.766617, Train Acc: 1.000000, Test Loss: 18.852703, Test Acc: 0.830508\n",
      "Step:\t16, Train Loss: 3.078014, Train Acc: 1.000000, Test Loss: 18.790186, Test Acc: 0.830508\n",
      "Step:\t17, Train Loss: 2.516175, Train Acc: 1.000000, Test Loss: 18.776016, Test Acc: 0.830508\n",
      "Step:\t18, Train Loss: 2.057472, Train Acc: 1.000000, Test Loss: 18.801177, Test Acc: 0.830508\n",
      "Step:\t19, Train Loss: 1.682780, Train Acc: 1.000000, Test Loss: 18.858368, Test Acc: 0.830508\n",
      "Step:\t20, Train Loss: 1.376584, Train Acc: 1.000000, Test Loss: 18.941673, Test Acc: 0.830508\n",
      "Step:\t21, Train Loss: 1.126275, Train Acc: 1.000000, Test Loss: 19.046281, Test Acc: 0.830508\n",
      "Step:\t22, Train Loss: 0.921597, Train Acc: 1.000000, Test Loss: 19.168282, Test Acc: 0.830508\n",
      "Step:\t23, Train Loss: 0.754192, Train Acc: 1.000000, Test Loss: 19.304489, Test Acc: 0.830508\n",
      "Step:\t24, Train Loss: 0.617248, Train Acc: 1.000000, Test Loss: 19.452305, Test Acc: 0.830508\n",
      "Step:\t25, Train Loss: 0.505204, Train Acc: 1.000000, Test Loss: 19.609610, Test Acc: 0.830508\n",
      "Step:\t26, Train Loss: 0.413521, Train Acc: 1.000000, Test Loss: 19.774675, Test Acc: 0.830508\n",
      "Step:\t27, Train Loss: 0.338493, Train Acc: 1.000000, Test Loss: 19.946086, Test Acc: 0.830508\n",
      "Step:\t28, Train Loss: 0.277088, Train Acc: 1.000000, Test Loss: 20.122688, Test Acc: 0.830508\n",
      "Step:\t29, Train Loss: 0.226829, Train Acc: 1.000000, Test Loss: 20.303538, Test Acc: 0.830508\n",
      "Step:\t30, Train Loss: 0.185691, Train Acc: 1.000000, Test Loss: 20.487863, Test Acc: 0.830508\n",
      "Step:\t31, Train Loss: 0.152533, Train Acc: 1.000000, Test Loss: 20.670201, Test Acc: 0.830508\n",
      "Step:\t32, Train Loss: 0.125827, Train Acc: 1.000000, Test Loss: 20.854054, Test Acc: 0.830508\n",
      "Step:\t33, Train Loss: 0.104962, Train Acc: 1.000000, Test Loss: 20.653865, Test Acc: 0.898305\n",
      "Step:\t34, Train Loss: 0.087347, Train Acc: 1.000000, Test Loss: 20.119666, Test Acc: 0.949153\n",
      "Step:\t35, Train Loss: 0.073125, Train Acc: 1.000000, Test Loss: 19.641994, Test Acc: 0.949153\n",
      "Step:\t36, Train Loss: 0.061968, Train Acc: 1.000000, Test Loss: 19.141566, Test Acc: 0.949153\n",
      "Step:\t37, Train Loss: 0.053143, Train Acc: 1.000000, Test Loss: 18.706520, Test Acc: 0.949153\n",
      "Step:\t38, Train Loss: 0.048481, Train Acc: 1.000000, Test Loss: 18.738489, Test Acc: 0.949153\n",
      "Step:\t39, Train Loss: 0.048461, Train Acc: 1.000000, Test Loss: 18.724115, Test Acc: 0.949153\n",
      "Step:\t40, Train Loss: 0.048446, Train Acc: 1.000000, Test Loss: 18.712053, Test Acc: 0.949153\n",
      "Step:\t41, Train Loss: 0.048435, Train Acc: 1.000000, Test Loss: 18.701908, Test Acc: 0.949153\n",
      "Step:\t42, Train Loss: 0.048427, Train Acc: 1.000000, Test Loss: 18.693357, Test Acc: 0.949153\n",
      "Step:\t43, Train Loss: 0.048422, Train Acc: 1.000000, Test Loss: 18.686137, Test Acc: 0.949153\n",
      "Step:\t44, Train Loss: 0.048418, Train Acc: 1.000000, Test Loss: 18.680032, Test Acc: 0.949153\n",
      "Step:\t45, Train Loss: 0.048414, Train Acc: 1.000000, Test Loss: 18.674861, Test Acc: 0.949153\n",
      "Step:\t46, Train Loss: 0.048412, Train Acc: 1.000000, Test Loss: 18.670476, Test Acc: 0.949153\n",
      "Step:\t47, Train Loss: 0.048411, Train Acc: 1.000000, Test Loss: 18.666754, Test Acc: 0.949153\n",
      "Step:\t48, Train Loss: 0.048409, Train Acc: 1.000000, Test Loss: 18.663592, Test Acc: 0.949153\n",
      "Step:\t49, Train Loss: 0.048409, Train Acc: 1.000000, Test Loss: 18.660904, Test Acc: 0.949153\n",
      "Step:\t50, Train Loss: 0.048408, Train Acc: 1.000000, Test Loss: 18.658616, Test Acc: 0.949153\n",
      "Step:\t51, Train Loss: 0.048407, Train Acc: 1.000000, Test Loss: 18.656669, Test Acc: 0.949153\n",
      "Step:\t52, Train Loss: 0.048407, Train Acc: 1.000000, Test Loss: 18.655010, Test Acc: 0.949153\n",
      "Step:\t53, Train Loss: 0.048407, Train Acc: 1.000000, Test Loss: 18.653596, Test Acc: 0.949153\n",
      "Step:\t54, Train Loss: 0.048407, Train Acc: 1.000000, Test Loss: 18.652391, Test Acc: 0.949153\n",
      "Step:\t55, Train Loss: 0.048407, Train Acc: 1.000000, Test Loss: 18.651363, Test Acc: 0.949153\n",
      "Step:\t56, Train Loss: 0.048406, Train Acc: 1.000000, Test Loss: 18.650486, Test Acc: 0.949153\n",
      "Step:\t57, Train Loss: 0.048406, Train Acc: 1.000000, Test Loss: 18.649738, Test Acc: 0.949153\n",
      "Step:\t58, Train Loss: 0.048406, Train Acc: 1.000000, Test Loss: 18.649100, Test Acc: 0.949153\n",
      "Step:\t59, Train Loss: 0.048406, Train Acc: 1.000000, Test Loss: 18.648555, Test Acc: 0.949153\n",
      "Step:\t60, Train Loss: 0.048406, Train Acc: 1.000000, Test Loss: 18.648090, Test Acc: 0.949153\n",
      "Step:\t61, Train Loss: 0.048406, Train Acc: 1.000000, Test Loss: 18.647693, Test Acc: 0.949153\n",
      "Step:\t62, Train Loss: 0.048406, Train Acc: 1.000000, Test Loss: 18.647354, Test Acc: 0.949153\n",
      "Step:\t63, Train Loss: 0.048406, Train Acc: 1.000000, Test Loss: 18.647065, Test Acc: 0.949153\n",
      "Step:\t64, Train Loss: 0.048406, Train Acc: 1.000000, Test Loss: 18.646818, Test Acc: 0.949153\n",
      "Step:\t65, Train Loss: 0.048406, Train Acc: 1.000000, Test Loss: 18.646607, Test Acc: 0.949153\n",
      "Step:\t66, Train Loss: 0.048406, Train Acc: 1.000000, Test Loss: 18.646426, Test Acc: 0.949153\n",
      "Step:\t67, Train Loss: 0.048406, Train Acc: 1.000000, Test Loss: 18.646272, Test Acc: 0.949153\n",
      "Step:\t68, Train Loss: 0.048406, Train Acc: 1.000000, Test Loss: 18.646141, Test Acc: 0.949153\n",
      "Step:\t69, Train Loss: 0.048406, Train Acc: 1.000000, Test Loss: 18.646029, Test Acc: 0.949153\n",
      "Step:\t70, Train Loss: 0.048406, Train Acc: 1.000000, Test Loss: 18.645933, Test Acc: 0.949153\n",
      "Step:\t71, Train Loss: 0.048406, Train Acc: 1.000000, Test Loss: 18.645851, Test Acc: 0.949153\n",
      "Step:\t72, Train Loss: 0.048406, Train Acc: 1.000000, Test Loss: 18.645781, Test Acc: 0.949153\n",
      "Step:\t73, Train Loss: 0.048406, Train Acc: 1.000000, Test Loss: 18.645721, Test Acc: 0.949153\n",
      "Step:\t74, Train Loss: 0.048406, Train Acc: 1.000000, Test Loss: 18.645670, Test Acc: 0.949153\n",
      "Step:\t75, Train Loss: 0.048406, Train Acc: 1.000000, Test Loss: 18.645626, Test Acc: 0.949153\n",
      "Step:\t76, Train Loss: 0.048406, Train Acc: 1.000000, Test Loss: 18.645589, Test Acc: 0.949153\n",
      "Step:\t77, Train Loss: 0.048406, Train Acc: 1.000000, Test Loss: 18.645557, Test Acc: 0.949153\n",
      "Step:\t78, Train Loss: 0.048406, Train Acc: 1.000000, Test Loss: 18.645530, Test Acc: 0.949153\n",
      "Step:\t79, Train Loss: 0.048406, Train Acc: 1.000000, Test Loss: 18.645506, Test Acc: 0.949153\n",
      "Step:\t80, Train Loss: 0.048406, Train Acc: 1.000000, Test Loss: 18.645486, Test Acc: 0.949153\n",
      "Step:\t81, Train Loss: 0.048406, Train Acc: 1.000000, Test Loss: 18.645469, Test Acc: 0.949153\n",
      "Step:\t82, Train Loss: 0.048406, Train Acc: 1.000000, Test Loss: 18.645455, Test Acc: 0.949153\n",
      "Step:\t83, Train Loss: 0.048406, Train Acc: 1.000000, Test Loss: 18.645443, Test Acc: 0.949153\n",
      "Step:\t84, Train Loss: 0.048406, Train Acc: 1.000000, Test Loss: 18.645432, Test Acc: 0.949153\n",
      "Step:\t85, Train Loss: 0.048406, Train Acc: 1.000000, Test Loss: 18.645423, Test Acc: 0.949153\n",
      "Step:\t86, Train Loss: 0.048406, Train Acc: 1.000000, Test Loss: 18.645415, Test Acc: 0.949153\n",
      "Step:\t87, Train Loss: 0.048406, Train Acc: 1.000000, Test Loss: 18.645409, Test Acc: 0.949153\n",
      "Step:\t88, Train Loss: 0.048406, Train Acc: 1.000000, Test Loss: 18.645403, Test Acc: 0.949153\n",
      "Step:\t89, Train Loss: 0.048406, Train Acc: 1.000000, Test Loss: 18.645398, Test Acc: 0.949153\n",
      "Step:\t90, Train Loss: 0.048406, Train Acc: 1.000000, Test Loss: 18.645394, Test Acc: 0.949153\n",
      "Step:\t91, Train Loss: 0.048406, Train Acc: 1.000000, Test Loss: 18.645391, Test Acc: 0.949153\n",
      "Step:\t92, Train Loss: 0.048406, Train Acc: 1.000000, Test Loss: 18.645388, Test Acc: 0.949153\n",
      "Step:\t93, Train Loss: 0.048406, Train Acc: 1.000000, Test Loss: 18.645385, Test Acc: 0.949153\n",
      "Step:\t94, Train Loss: 0.048406, Train Acc: 1.000000, Test Loss: 18.645383, Test Acc: 0.949153\n",
      "Step:\t95, Train Loss: 0.048406, Train Acc: 1.000000, Test Loss: 18.645381, Test Acc: 0.949153\n",
      "Step:\t96, Train Loss: 0.048406, Train Acc: 1.000000, Test Loss: 18.645379, Test Acc: 0.949153\n",
      "Step:\t97, Train Loss: 0.048406, Train Acc: 1.000000, Test Loss: 18.645378, Test Acc: 0.949153\n",
      "Step:\t98, Train Loss: 0.048406, Train Acc: 1.000000, Test Loss: 18.645377, Test Acc: 0.949153\n",
      "Step:\t99, Train Loss: 0.048406, Train Acc: 1.000000, Test Loss: 18.645376, Test Acc: 0.949153\n"
     ]
    }
   ],
   "source": [
    "model.fit(X_train, y_train, X_test, y_test)"
   ]
  },
  {
   "cell_type": "code",
   "execution_count": 135,
   "metadata": {
    "collapsed": true
   },
   "outputs": [],
   "source": [
    "model_sk = GBC(n_estimators=100, max_depth=3, criterion='mse', loss='deviance',\n",
    "               random_state=41)"
   ]
  },
  {
   "cell_type": "code",
   "execution_count": 136,
   "metadata": {
    "collapsed": false
   },
   "outputs": [
    {
     "data": {
      "text/plain": [
       "GradientBoostingClassifier(criterion='mse', init=None, learning_rate=0.1,\n",
       "              loss='deviance', max_depth=3, max_features=None,\n",
       "              max_leaf_nodes=None, min_impurity_split=1e-07,\n",
       "              min_samples_leaf=1, min_samples_split=2,\n",
       "              min_weight_fraction_leaf=0.0, n_estimators=100,\n",
       "              presort='auto', random_state=41, subsample=1.0, verbose=0,\n",
       "              warm_start=False)"
      ]
     },
     "execution_count": 136,
     "metadata": {},
     "output_type": "execute_result"
    }
   ],
   "source": [
    "model_sk.fit(X_train, y_train)"
   ]
  },
  {
   "cell_type": "code",
   "execution_count": 139,
   "metadata": {
    "collapsed": false
   },
   "outputs": [
    {
     "data": {
      "image/png": "[encoded data removed]",
      "text/plain": [
       "<matplotlib.figure.Figure at 0x11b9f5f50>"
      ]
     },
     "metadata": {},
     "output_type": "display_data"
    }
   ],
   "source": [
    "compare_plot('Test',\n",
    "             model.test_losses,\n",
    "             [MultiLogisticLoss(3)(y_test, y_pred) for y_pred in model_sk.staged_decision_function(X_test)],\n",
    "             range(1, len(model.test_losses)+1))"
   ]
  },
  {
   "cell_type": "code",
   "execution_count": 140,
   "metadata": {
    "collapsed": false
   },
   "outputs": [
    {
     "data": {
      "image/png": "[encoded data removed]",
      "text/plain": [
       "<matplotlib.figure.Figure at 0x11a0ef590>"
      ]
     },
     "metadata": {},
     "output_type": "display_data"
    }
   ],
   "source": [
    "compare_plot('Train',\n",
    "             model.train_losses,\n",
    "             [MultiLogisticLoss(3)(y_train, y_pred) for y_pred in model_sk.staged_decision_function(X_train)],\n",
    "             range(1, len(model.train_losses)+1))"
   ]
  },
  {
   "cell_type": "markdown",
   "metadata": {},
   "source": [
    "## OneVsRest"
   ]
  },
  {
   "cell_type": "code",
   "execution_count": 86,
   "metadata": {
    "collapsed": false
   },
   "outputs": [],
   "source": [
    "X_train, X_test, y_train, y_test = loadWine(30)"
   ]
  },
  {
   "cell_type": "code",
   "execution_count": 107,
   "metadata": {
    "collapsed": false
   },
   "outputs": [],
   "source": [
    "class MultiGradientBoostingClassifier:\n",
    "    def __init__(self, max_depth = 3, n_estimators=5, random_state=None, learning_rate = 0.1, verbose = False):\n",
    "        self.max_depth = max_depth\n",
    "        self.n_estimators = n_estimators\n",
    "        self.random_state = random_state\n",
    "        self.learning_rate = learning_rate\n",
    "        self.verbose = verbose\n",
    "        \n",
    "    def fit(self, X, y, X_test = None, y_test = None):\n",
    "        self.train_losses = []\n",
    "        self.test_losses = []\n",
    "        X = X.astype(np.float32)\n",
    "        #n_samples, self.n_features = X.shape\n",
    "        self.n_classes = len(np.unique(y_train))\n",
    "        if self.n_classes < 3:\n",
    "            raise BaseException('You must have more than 2 classes')\n",
    "         \n",
    "        self.models = []\n",
    "        for i in xrange(self.n_classes):\n",
    "            print 'Model {}:'.format(i)\n",
    "            self.models.append(GradientBoostingClassifier(self.max_depth, self.n_estimators,\n",
    "                                                     self.random_state, self.learning_rate, self.verbose))\n",
    "            if not ((X_test is None) or (y_test is None)):\n",
    "                self.models[i].fit(X, np.array(y == i, dtype=np.int32),\n",
    "                                    X_test, np.array(y_test == i, dtype=np.int32))\n",
    "            else:\n",
    "                self.models[i].fit(X, np.array(y == i, dtype=np.float32))\n",
    "        self.train_losses = np.mean([self.models[i].train_losses for i in xrange(self.n_classes)], axis=0)\n",
    "        if not ((X_test is None) or (y_test is None)):\n",
    "            self.test_losses = np.mean([self.models[i].test_losses for i in xrange(self.n_classes)], axis=0)\n",
    "        \n",
    "    def predict_proba(self, X):\n",
    "        return np.array([m.predict_proba(X) for m in self.models]).T\n",
    "        "
   ]
  },
  {
   "cell_type": "code",
   "execution_count": 137,
   "metadata": {
    "collapsed": true
   },
   "outputs": [],
   "source": [
    "n_estimators = 100"
   ]
  },
  {
   "cell_type": "code",
   "execution_count": 138,
   "metadata": {
    "collapsed": false
   },
   "outputs": [],
   "source": [
    "mclf = MultiGradientBoostingClassifier(max_depth=2, n_estimators=n_estimators, verbose=True)"
   ]
  },
  {
   "cell_type": "code",
   "execution_count": 139,
   "metadata": {
    "collapsed": false
   },
   "outputs": [
    {
     "name": "stdout",
     "output_type": "stream",
     "text": [
      "Model 0:\n",
      "Step:\t0, Train Loss: 1.124616, Train Acc: 0.655462, Test Loss: 1.101514, Test Acc: 0.694915\n",
      "Step:\t1, Train Loss: 0.992782, Train Acc: 0.655462, Test Loss: 1.002913, Test Acc: 0.694915\n",
      "Step:\t2, Train Loss: 0.877051, Train Acc: 0.941176, Test Loss: 0.889863, Test Acc: 0.898305\n",
      "Step:\t3, Train Loss: 0.780451, Train Acc: 0.957983, Test Loss: 0.805152, Test Acc: 0.898305\n",
      "Step:\t4, Train Loss: 0.698482, Train Acc: 0.957983, Test Loss: 0.723869, Test Acc: 0.898305\n",
      "Step:\t5, Train Loss: 0.628867, Train Acc: 0.983193, Test Loss: 0.655802, Test Acc: 0.932203\n",
      "Step:\t6, Train Loss: 0.568228, Train Acc: 0.983193, Test Loss: 0.595833, Test Acc: 0.966102\n",
      "Step:\t7, Train Loss: 0.515386, Train Acc: 0.983193, Test Loss: 0.551314, Test Acc: 0.983051\n",
      "Step:\t8, Train Loss: 0.469448, Train Acc: 0.983193, Test Loss: 0.505940, Test Acc: 0.983051\n",
      "Step:\t9, Train Loss: 0.428975, Train Acc: 0.983193, Test Loss: 0.466592, Test Acc: 0.983051\n",
      "Step:\t10, Train Loss: 0.392706, Train Acc: 0.983193, Test Loss: 0.436979, Test Acc: 0.983051\n",
      "Step:\t11, Train Loss: 0.361247, Train Acc: 0.983193, Test Loss: 0.406257, Test Acc: 0.983051\n",
      "Step:\t12, Train Loss: 0.332985, Train Acc: 0.983193, Test Loss: 0.382320, Test Acc: 0.983051\n",
      "Step:\t13, Train Loss: 0.306896, Train Acc: 0.983193, Test Loss: 0.362367, Test Acc: 0.983051\n",
      "Step:\t14, Train Loss: 0.275022, Train Acc: 0.983193, Test Loss: 0.337363, Test Acc: 0.983051\n",
      "Step:\t15, Train Loss: 0.246652, Train Acc: 0.983193, Test Loss: 0.315932, Test Acc: 0.983051\n",
      "Step:\t16, Train Loss: 0.221356, Train Acc: 0.991597, Test Loss: 0.297668, Test Acc: 0.983051\n",
      "Step:\t17, Train Loss: 0.198768, Train Acc: 0.991597, Test Loss: 0.282224, Test Acc: 0.983051\n",
      "Step:\t18, Train Loss: 0.178572, Train Acc: 0.991597, Test Loss: 0.269298, Test Acc: 0.983051\n",
      "Step:\t19, Train Loss: 0.160497, Train Acc: 0.991597, Test Loss: 0.258628, Test Acc: 0.983051\n",
      "Step:\t20, Train Loss: 0.144305, Train Acc: 0.991597, Test Loss: 0.249983, Test Acc: 0.983051\n",
      "Step:\t21, Train Loss: 0.129792, Train Acc: 0.991597, Test Loss: 0.243160, Test Acc: 0.983051\n",
      "Step:\t22, Train Loss: 0.116775, Train Acc: 0.991597, Test Loss: 0.237978, Test Acc: 0.983051\n",
      "Step:\t23, Train Loss: 0.105094, Train Acc: 0.991597, Test Loss: 0.234277, Test Acc: 0.983051\n",
      "Step:\t24, Train Loss: 0.094609, Train Acc: 0.991597, Test Loss: 0.231912, Test Acc: 0.983051\n",
      "Step:\t25, Train Loss: 0.085192, Train Acc: 1.000000, Test Loss: 0.230753, Test Acc: 0.966102\n",
      "Step:\t26, Train Loss: 0.076732, Train Acc: 1.000000, Test Loss: 0.230685, Test Acc: 0.966102\n",
      "Step:\t27, Train Loss: 0.069131, Train Acc: 1.000000, Test Loss: 0.231602, Test Acc: 0.966102\n",
      "Step:\t28, Train Loss: 0.062298, Train Acc: 1.000000, Test Loss: 0.233410, Test Acc: 0.966102\n",
      "Step:\t29, Train Loss: 0.056154, Train Acc: 1.000000, Test Loss: 0.236021, Test Acc: 0.949153\n",
      "Step:\t30, Train Loss: 0.050628, Train Acc: 1.000000, Test Loss: 0.239360, Test Acc: 0.949153\n",
      "Step:\t31, Train Loss: 0.045656, Train Acc: 1.000000, Test Loss: 0.243356, Test Acc: 0.949153\n",
      "Step:\t32, Train Loss: 0.041182, Train Acc: 1.000000, Test Loss: 0.247945, Test Acc: 0.949153\n",
      "Step:\t33, Train Loss: 0.037155, Train Acc: 1.000000, Test Loss: 0.253071, Test Acc: 0.949153\n",
      "Step:\t34, Train Loss: 0.033528, Train Acc: 1.000000, Test Loss: 0.258681, Test Acc: 0.949153\n",
      "Step:\t35, Train Loss: 0.030261, Train Acc: 1.000000, Test Loss: 0.264729, Test Acc: 0.949153\n",
      "Step:\t36, Train Loss: 0.027318, Train Acc: 1.000000, Test Loss: 0.271172, Test Acc: 0.949153\n",
      "Step:\t37, Train Loss: 0.024666, Train Acc: 1.000000, Test Loss: 0.277972, Test Acc: 0.949153\n",
      "Step:\t38, Train Loss: 0.022275, Train Acc: 1.000000, Test Loss: 0.285095, Test Acc: 0.949153\n",
      "Step:\t39, Train Loss: 0.020118, Train Acc: 1.000000, Test Loss: 0.292510, Test Acc: 0.949153\n",
      "Step:\t40, Train Loss: 0.018174, Train Acc: 1.000000, Test Loss: 0.300189, Test Acc: 0.949153\n",
      "Step:\t41, Train Loss: 0.016419, Train Acc: 1.000000, Test Loss: 0.308106, Test Acc: 0.949153\n",
      "Step:\t42, Train Loss: 0.014836, Train Acc: 1.000000, Test Loss: 0.316238, Test Acc: 0.949153\n",
      "Step:\t43, Train Loss: 0.013407, Train Acc: 1.000000, Test Loss: 0.324565, Test Acc: 0.949153\n",
      "Step:\t44, Train Loss: 0.012117, Train Acc: 1.000000, Test Loss: 0.333068, Test Acc: 0.949153\n",
      "Step:\t45, Train Loss: 0.010952, Train Acc: 1.000000, Test Loss: 0.341730, Test Acc: 0.949153\n",
      "Step:\t46, Train Loss: 0.009900, Train Acc: 1.000000, Test Loss: 0.350536, Test Acc: 0.949153\n",
      "Step:\t47, Train Loss: 0.008950, Train Acc: 1.000000, Test Loss: 0.359472, Test Acc: 0.949153\n",
      "Step:\t48, Train Loss: 0.008092, Train Acc: 1.000000, Test Loss: 0.368526, Test Acc: 0.949153\n",
      "Step:\t49, Train Loss: 0.007317, Train Acc: 1.000000, Test Loss: 0.377686, Test Acc: 0.949153\n",
      "Step:\t50, Train Loss: 0.006616, Train Acc: 1.000000, Test Loss: 0.386942, Test Acc: 0.949153\n",
      "Step:\t51, Train Loss: 0.005983, Train Acc: 1.000000, Test Loss: 0.396286, Test Acc: 0.949153\n",
      "Step:\t52, Train Loss: 0.005410, Train Acc: 1.000000, Test Loss: 0.405708, Test Acc: 0.949153\n",
      "Step:\t53, Train Loss: 0.004893, Train Acc: 1.000000, Test Loss: 0.415201, Test Acc: 0.949153\n",
      "Step:\t54, Train Loss: 0.004425, Train Acc: 1.000000, Test Loss: 0.424759, Test Acc: 0.949153\n",
      "Step:\t55, Train Loss: 0.004003, Train Acc: 1.000000, Test Loss: 0.434375, Test Acc: 0.949153\n",
      "Step:\t56, Train Loss: 0.003620, Train Acc: 1.000000, Test Loss: 0.444044, Test Acc: 0.949153\n",
      "Step:\t57, Train Loss: 0.003275, Train Acc: 1.000000, Test Loss: 0.453760, Test Acc: 0.949153\n",
      "Step:\t58, Train Loss: 0.002962, Train Acc: 1.000000, Test Loss: 0.463520, Test Acc: 0.949153\n",
      "Step:\t59, Train Loss: 0.002680, Train Acc: 1.000000, Test Loss: 0.473318, Test Acc: 0.949153\n",
      "Step:\t60, Train Loss: 0.002424, Train Acc: 1.000000, Test Loss: 0.483152, Test Acc: 0.949153\n",
      "Step:\t61, Train Loss: 0.002193, Train Acc: 1.000000, Test Loss: 0.493018, Test Acc: 0.949153\n",
      "Step:\t62, Train Loss: 0.001984, Train Acc: 1.000000, Test Loss: 0.502913, Test Acc: 0.949153\n",
      "Step:\t63, Train Loss: 0.001795, Train Acc: 1.000000, Test Loss: 0.512834, Test Acc: 0.949153\n",
      "Step:\t64, Train Loss: 0.001624, Train Acc: 1.000000, Test Loss: 0.522779, Test Acc: 0.949153\n",
      "Step:\t65, Train Loss: 0.001469, Train Acc: 1.000000, Test Loss: 0.532745, Test Acc: 0.949153\n",
      "Step:\t66, Train Loss: 0.001338, Train Acc: 1.000000, Test Loss: 0.542736, Test Acc: 0.949153\n",
      "Step:\t67, Train Loss: 0.001220, Train Acc: 1.000000, Test Loss: 0.552744, Test Acc: 0.949153\n",
      "Step:\t68, Train Loss: 0.001104, Train Acc: 1.000000, Test Loss: 0.562762, Test Acc: 0.949153\n",
      "Step:\t69, Train Loss: 0.001009, Train Acc: 1.000000, Test Loss: 0.572800, Test Acc: 0.949153\n",
      "Step:\t70, Train Loss: 0.000923, Train Acc: 1.000000, Test Loss: 0.582851, Test Acc: 0.949153\n",
      "Step:\t71, Train Loss: 0.000841, Train Acc: 1.000000, Test Loss: 0.592232, Test Acc: 0.949153\n",
      "Step:\t72, Train Loss: 0.000795, Train Acc: 1.000000, Test Loss: 0.583682, Test Acc: 0.949153\n",
      "Step:\t73, Train Loss: 0.000729, Train Acc: 1.000000, Test Loss: 0.593747, Test Acc: 0.949153\n",
      "Step:\t74, Train Loss: 0.000665, Train Acc: 1.000000, Test Loss: 0.603030, Test Acc: 0.949153\n",
      "Step:\t75, Train Loss: 0.000608, Train Acc: 1.000000, Test Loss: 0.612170, Test Acc: 0.949153\n",
      "Step:\t76, Train Loss: 0.000559, Train Acc: 1.000000, Test Loss: 0.622262, Test Acc: 0.949153\n",
      "Step:\t77, Train Loss: 0.000510, Train Acc: 1.000000, Test Loss: 0.618599, Test Acc: 0.949153\n",
      "Step:\t78, Train Loss: 0.000466, Train Acc: 1.000000, Test Loss: 0.614893, Test Acc: 0.949153\n",
      "Step:\t79, Train Loss: 0.000426, Train Acc: 1.000000, Test Loss: 0.623885, Test Acc: 0.949153\n",
      "Step:\t80, Train Loss: 0.000404, Train Acc: 1.000000, Test Loss: 0.615542, Test Acc: 0.949153\n",
      "Step:\t81, Train Loss: 0.000372, Train Acc: 1.000000, Test Loss: 0.625638, Test Acc: 0.949153\n",
      "Step:\t82, Train Loss: 0.000340, Train Acc: 1.000000, Test Loss: 0.621885, Test Acc: 0.949153\n",
      "Step:\t83, Train Loss: 0.000340, Train Acc: 1.000000, Test Loss: 0.621756, Test Acc: 0.949153\n",
      "Step:\t84, Train Loss: 0.000340, Train Acc: 1.000000, Test Loss: 0.621641, Test Acc: 0.949153\n",
      "Step:\t85, Train Loss: 0.000340, Train Acc: 1.000000, Test Loss: 0.621537, Test Acc: 0.949153\n",
      "Step:\t86, Train Loss: 0.000340, Train Acc: 1.000000, Test Loss: 0.621444, Test Acc: 0.949153\n",
      "Step:\t87, Train Loss: 0.000340, Train Acc: 1.000000, Test Loss: 0.621359, Test Acc: 0.949153\n",
      "Step:\t88, Train Loss: 0.000340, Train Acc: 1.000000, Test Loss: 0.621284, Test Acc: 0.949153\n",
      "Step:\t89, Train Loss: 0.000340, Train Acc: 1.000000, Test Loss: 0.621216, Test Acc: 0.949153\n",
      "Step:\t90, Train Loss: 0.000340, Train Acc: 1.000000, Test Loss: 0.621154, Test Acc: 0.949153\n",
      "Step:\t91, Train Loss: 0.000340, Train Acc: 1.000000, Test Loss: 0.621099, Test Acc: 0.949153\n",
      "Step:\t92, Train Loss: 0.000340, Train Acc: 1.000000, Test Loss: 0.621049, Test Acc: 0.949153\n",
      "Step:\t93, Train Loss: 0.000340, Train Acc: 1.000000, Test Loss: 0.621005, Test Acc: 0.949153\n",
      "Step:\t94, Train Loss: 0.000340, Train Acc: 1.000000, Test Loss: 0.620964, Test Acc: 0.949153\n",
      "Step:\t95, Train Loss: 0.000340, Train Acc: 1.000000, Test Loss: 0.620928, Test Acc: 0.949153\n",
      "Step:\t96, Train Loss: 0.000340, Train Acc: 1.000000, Test Loss: 0.620896, Test Acc: 0.949153\n",
      "Step:\t97, Train Loss: 0.000340, Train Acc: 1.000000, Test Loss: 0.620866, Test Acc: 0.949153\n",
      "Step:\t98, Train Loss: 0.000340, Train Acc: 1.000000, Test Loss: 0.620840, Test Acc: 0.949153\n",
      "Step:\t99, Train Loss: 0.000340, Train Acc: 1.000000, Test Loss: 0.620816, Test Acc: 0.949153\n",
      "Model 1:\n",
      "Step:\t0, Train Loss: 1.160366, Train Acc: 0.630252, Test Loss: 1.229667, Test Acc: 0.542373\n",
      "Step:\t1, Train Loss: 1.034359, Train Acc: 0.630252, Test Loss: 1.090409, Test Acc: 0.542373\n",
      "Step:\t2, Train Loss: 0.931741, Train Acc: 0.966387, Test Loss: 0.978281, Test Acc: 0.966102\n",
      "Step:\t3, Train Loss: 0.844353, Train Acc: 0.966387, Test Loss: 0.885660, Test Acc: 0.966102\n",
      "Step:\t4, Train Loss: 0.751966, Train Acc: 0.957983, Test Loss: 0.795844, Test Acc: 0.983051\n",
      "Step:\t5, Train Loss: 0.688073, Train Acc: 0.966387, Test Loss: 0.723181, Test Acc: 0.966102\n",
      "Step:\t6, Train Loss: 0.617811, Train Acc: 0.957983, Test Loss: 0.656391, Test Acc: 0.983051\n",
      "Step:\t7, Train Loss: 0.557262, Train Acc: 0.957983, Test Loss: 0.599916, Test Acc: 0.983051\n",
      "Step:\t8, Train Loss: 0.505090, Train Acc: 0.957983, Test Loss: 0.555364, Test Acc: 0.966102\n",
      "Step:\t9, Train Loss: 0.458481, Train Acc: 0.957983, Test Loss: 0.514222, Test Acc: 0.932203\n",
      "Step:\t10, Train Loss: 0.418297, Train Acc: 0.991597, Test Loss: 0.482411, Test Acc: 0.932203\n",
      "Step:\t11, Train Loss: 0.386910, Train Acc: 0.983193, Test Loss: 0.449720, Test Acc: 0.932203\n",
      "Step:\t12, Train Loss: 0.353951, Train Acc: 0.991597, Test Loss: 0.430751, Test Acc: 0.949153\n",
      "Step:\t13, Train Loss: 0.328947, Train Acc: 0.991597, Test Loss: 0.404698, Test Acc: 0.949153\n",
      "Step:\t14, Train Loss: 0.302706, Train Acc: 0.991597, Test Loss: 0.391332, Test Acc: 0.949153\n",
      "Step:\t15, Train Loss: 0.282099, Train Acc: 0.991597, Test Loss: 0.362882, Test Acc: 0.949153\n",
      "Step:\t16, Train Loss: 0.260870, Train Acc: 0.991597, Test Loss: 0.354136, Test Acc: 0.949153\n",
      "Step:\t17, Train Loss: 0.242396, Train Acc: 0.991597, Test Loss: 0.334124, Test Acc: 0.966102\n",
      "Step:\t18, Train Loss: 0.225477, Train Acc: 1.000000, Test Loss: 0.328567, Test Acc: 0.949153\n",
      "Step:\t19, Train Loss: 0.207577, Train Acc: 1.000000, Test Loss: 0.311619, Test Acc: 0.966102\n",
      "Step:\t20, Train Loss: 0.194633, Train Acc: 1.000000, Test Loss: 0.293742, Test Acc: 0.983051\n",
      "Step:\t21, Train Loss: 0.181777, Train Acc: 1.000000, Test Loss: 0.291070, Test Acc: 0.966102\n",
      "Step:\t22, Train Loss: 0.168001, Train Acc: 1.000000, Test Loss: 0.277737, Test Acc: 0.983051\n",
      "Step:\t23, Train Loss: 0.158072, Train Acc: 1.000000, Test Loss: 0.261648, Test Acc: 0.983051\n",
      "Step:\t24, Train Loss: 0.145930, Train Acc: 1.000000, Test Loss: 0.247114, Test Acc: 0.983051\n",
      "Step:\t25, Train Loss: 0.135597, Train Acc: 1.000000, Test Loss: 0.237349, Test Acc: 0.983051\n",
      "Step:\t26, Train Loss: 0.127099, Train Acc: 1.000000, Test Loss: 0.236566, Test Acc: 0.983051\n",
      "Step:\t27, Train Loss: 0.118810, Train Acc: 1.000000, Test Loss: 0.223901, Test Acc: 0.983051\n",
      "Step:\t28, Train Loss: 0.111232, Train Acc: 1.000000, Test Loss: 0.215933, Test Acc: 0.983051\n",
      "Step:\t29, Train Loss: 0.103679, Train Acc: 1.000000, Test Loss: 0.213120, Test Acc: 0.983051\n",
      "Step:\t30, Train Loss: 0.096652, Train Acc: 1.000000, Test Loss: 0.206237, Test Acc: 0.983051\n",
      "Step:\t31, Train Loss: 0.092348, Train Acc: 1.000000, Test Loss: 0.198823, Test Acc: 0.983051\n",
      "Step:\t32, Train Loss: 0.085933, Train Acc: 1.000000, Test Loss: 0.194049, Test Acc: 0.983051\n",
      "Step:\t33, Train Loss: 0.081215, Train Acc: 1.000000, Test Loss: 0.191647, Test Acc: 0.983051\n",
      "Step:\t34, Train Loss: 0.076236, Train Acc: 1.000000, Test Loss: 0.183005, Test Acc: 0.983051\n",
      "Step:\t35, Train Loss: 0.069561, Train Acc: 1.000000, Test Loss: 0.173499, Test Acc: 0.983051\n",
      "Step:\t36, Train Loss: 0.066367, Train Acc: 1.000000, Test Loss: 0.168070, Test Acc: 0.983051\n",
      "Step:\t37, Train Loss: 0.060701, Train Acc: 1.000000, Test Loss: 0.159810, Test Acc: 0.983051\n",
      "Step:\t38, Train Loss: 0.055663, Train Acc: 1.000000, Test Loss: 0.152468, Test Acc: 0.983051\n",
      "Step:\t39, Train Loss: 0.052873, Train Acc: 1.000000, Test Loss: 0.146917, Test Acc: 0.983051\n",
      "Step:\t40, Train Loss: 0.048601, Train Acc: 1.000000, Test Loss: 0.140745, Test Acc: 0.983051\n",
      "Step:\t41, Train Loss: 0.045811, Train Acc: 1.000000, Test Loss: 0.141242, Test Acc: 0.983051\n",
      "Step:\t42, Train Loss: 0.043499, Train Acc: 1.000000, Test Loss: 0.140651, Test Acc: 0.983051\n",
      "Step:\t43, Train Loss: 0.041110, Train Acc: 1.000000, Test Loss: 0.138854, Test Acc: 0.983051\n",
      "Step:\t44, Train Loss: 0.039164, Train Acc: 1.000000, Test Loss: 0.134004, Test Acc: 0.983051\n",
      "Step:\t45, Train Loss: 0.036136, Train Acc: 1.000000, Test Loss: 0.129203, Test Acc: 0.966102\n",
      "Step:\t46, Train Loss: 0.034698, Train Acc: 1.000000, Test Loss: 0.125451, Test Acc: 0.983051\n",
      "Step:\t47, Train Loss: 0.032860, Train Acc: 1.000000, Test Loss: 0.120756, Test Acc: 0.966102\n",
      "Step:\t48, Train Loss: 0.030663, Train Acc: 1.000000, Test Loss: 0.121790, Test Acc: 0.966102\n",
      "Step:\t49, Train Loss: 0.029144, Train Acc: 1.000000, Test Loss: 0.117600, Test Acc: 0.966102\n",
      "Step:\t50, Train Loss: 0.026897, Train Acc: 1.000000, Test Loss: 0.114069, Test Acc: 0.966102\n",
      "Step:\t51, Train Loss: 0.024908, Train Acc: 1.000000, Test Loss: 0.111076, Test Acc: 0.966102\n",
      "Step:\t52, Train Loss: 0.023740, Train Acc: 1.000000, Test Loss: 0.111313, Test Acc: 0.966102\n",
      "Step:\t53, Train Loss: 0.022492, Train Acc: 1.000000, Test Loss: 0.111454, Test Acc: 0.966102\n",
      "Step:\t54, Train Loss: 0.021608, Train Acc: 1.000000, Test Loss: 0.108454, Test Acc: 0.966102\n",
      "Step:\t55, Train Loss: 0.020583, Train Acc: 1.000000, Test Loss: 0.105009, Test Acc: 0.966102\n",
      "Step:\t56, Train Loss: 0.019267, Train Acc: 1.000000, Test Loss: 0.101407, Test Acc: 0.966102\n",
      "Step:\t57, Train Loss: 0.018692, Train Acc: 1.000000, Test Loss: 0.101456, Test Acc: 0.966102\n",
      "Step:\t58, Train Loss: 0.017339, Train Acc: 1.000000, Test Loss: 0.099699, Test Acc: 0.966102\n",
      "Step:\t59, Train Loss: 0.016678, Train Acc: 1.000000, Test Loss: 0.097223, Test Acc: 0.966102\n",
      "Step:\t60, Train Loss: 0.015904, Train Acc: 1.000000, Test Loss: 0.095122, Test Acc: 0.983051\n",
      "Step:\t61, Train Loss: 0.015043, Train Acc: 1.000000, Test Loss: 0.096645, Test Acc: 0.966102\n",
      "Step:\t62, Train Loss: 0.014366, Train Acc: 1.000000, Test Loss: 0.097821, Test Acc: 0.966102\n",
      "Step:\t63, Train Loss: 0.013655, Train Acc: 1.000000, Test Loss: 0.097224, Test Acc: 0.966102\n",
      "Step:\t64, Train Loss: 0.012794, Train Acc: 1.000000, Test Loss: 0.100374, Test Acc: 0.966102\n",
      "Step:\t65, Train Loss: 0.012313, Train Acc: 1.000000, Test Loss: 0.098038, Test Acc: 0.966102\n",
      "Step:\t66, Train Loss: 0.011785, Train Acc: 1.000000, Test Loss: 0.099483, Test Acc: 0.966102\n",
      "Step:\t67, Train Loss: 0.011349, Train Acc: 1.000000, Test Loss: 0.098257, Test Acc: 0.966102\n",
      "Step:\t68, Train Loss: 0.010677, Train Acc: 1.000000, Test Loss: 0.101490, Test Acc: 0.966102\n",
      "Step:\t69, Train Loss: 0.010292, Train Acc: 1.000000, Test Loss: 0.099279, Test Acc: 0.966102\n",
      "Step:\t70, Train Loss: 0.009800, Train Acc: 1.000000, Test Loss: 0.097340, Test Acc: 0.966102\n",
      "Step:\t71, Train Loss: 0.009317, Train Acc: 1.000000, Test Loss: 0.097297, Test Acc: 0.966102\n",
      "Step:\t72, Train Loss: 0.008895, Train Acc: 1.000000, Test Loss: 0.095471, Test Acc: 0.966102\n",
      "Step:\t73, Train Loss: 0.008391, Train Acc: 1.000000, Test Loss: 0.098689, Test Acc: 0.966102\n",
      "Step:\t74, Train Loss: 0.007996, Train Acc: 1.000000, Test Loss: 0.101153, Test Acc: 0.966102\n",
      "Step:\t75, Train Loss: 0.007580, Train Acc: 1.000000, Test Loss: 0.104322, Test Acc: 0.966102\n",
      "Step:\t76, Train Loss: 0.007301, Train Acc: 1.000000, Test Loss: 0.105099, Test Acc: 0.966102\n",
      "Step:\t77, Train Loss: 0.006978, Train Acc: 1.000000, Test Loss: 0.103290, Test Acc: 0.966102\n",
      "Step:\t78, Train Loss: 0.006693, Train Acc: 1.000000, Test Loss: 0.105728, Test Acc: 0.966102\n",
      "Step:\t79, Train Loss: 0.006370, Train Acc: 1.000000, Test Loss: 0.108647, Test Acc: 0.966102\n",
      "Step:\t80, Train Loss: 0.006159, Train Acc: 1.000000, Test Loss: 0.109427, Test Acc: 0.966102\n",
      "Step:\t81, Train Loss: 0.005927, Train Acc: 1.000000, Test Loss: 0.107306, Test Acc: 0.966102\n",
      "Step:\t82, Train Loss: 0.005658, Train Acc: 1.000000, Test Loss: 0.108948, Test Acc: 0.966102\n",
      "Step:\t83, Train Loss: 0.005415, Train Acc: 1.000000, Test Loss: 0.106954, Test Acc: 0.966102\n",
      "Step:\t84, Train Loss: 0.005152, Train Acc: 1.000000, Test Loss: 0.107137, Test Acc: 0.966102\n",
      "Step:\t85, Train Loss: 0.004998, Train Acc: 1.000000, Test Loss: 0.106517, Test Acc: 0.966102\n",
      "Step:\t86, Train Loss: 0.004743, Train Acc: 1.000000, Test Loss: 0.105125, Test Acc: 0.966102\n",
      "Step:\t87, Train Loss: 0.004588, Train Acc: 1.000000, Test Loss: 0.101495, Test Acc: 0.966102\n",
      "Step:\t88, Train Loss: 0.004369, Train Acc: 1.000000, Test Loss: 0.101579, Test Acc: 0.966102\n",
      "Step:\t89, Train Loss: 0.004254, Train Acc: 1.000000, Test Loss: 0.099832, Test Acc: 0.966102\n",
      "Step:\t90, Train Loss: 0.004131, Train Acc: 1.000000, Test Loss: 0.099320, Test Acc: 0.966102\n",
      "Step:\t91, Train Loss: 0.003966, Train Acc: 1.000000, Test Loss: 0.101722, Test Acc: 0.966102\n",
      "Step:\t92, Train Loss: 0.003810, Train Acc: 1.000000, Test Loss: 0.100352, Test Acc: 0.966102\n",
      "Step:\t93, Train Loss: 0.003653, Train Acc: 1.000000, Test Loss: 0.098737, Test Acc: 0.966102\n",
      "Step:\t94, Train Loss: 0.003538, Train Acc: 1.000000, Test Loss: 0.096603, Test Acc: 0.966102\n",
      "Step:\t95, Train Loss: 0.003368, Train Acc: 1.000000, Test Loss: 0.096788, Test Acc: 0.966102\n",
      "Step:\t96, Train Loss: 0.003203, Train Acc: 1.000000, Test Loss: 0.099688, Test Acc: 0.966102\n",
      "Step:\t97, Train Loss: 0.003081, Train Acc: 1.000000, Test Loss: 0.102195, Test Acc: 0.966102\n",
      "Step:\t98, Train Loss: 0.002954, Train Acc: 1.000000, Test Loss: 0.100896, Test Acc: 0.966102\n",
      "Step:\t99, Train Loss: 0.002831, Train Acc: 1.000000, Test Loss: 0.099331, Test Acc: 0.966102\n",
      "Model 2:\n",
      "Step:\t0, Train Loss: 1.021491, Train Acc: 0.714286, Test Loss: 0.945479, Test Acc: 0.762712\n",
      "Step:\t1, Train Loss: 0.888546, Train Acc: 0.714286, Test Loss: 0.820122, Test Acc: 0.762712\n",
      "Step:\t2, Train Loss: 0.770108, Train Acc: 0.714286, Test Loss: 0.712538, Test Acc: 0.762712\n",
      "Step:\t3, Train Loss: 0.673072, Train Acc: 1.000000, Test Loss: 0.623899, Test Acc: 1.000000\n",
      "Step:\t4, Train Loss: 0.591806, Train Acc: 1.000000, Test Loss: 0.549351, Test Acc: 1.000000\n",
      "Step:\t5, Train Loss: 0.522716, Train Acc: 1.000000, Test Loss: 0.485765, Test Acc: 1.000000\n",
      "Step:\t6, Train Loss: 0.463335, Train Acc: 1.000000, Test Loss: 0.430974, Test Acc: 1.000000\n",
      "Step:\t7, Train Loss: 0.411873, Train Acc: 1.000000, Test Loss: 0.383391, Test Acc: 1.000000\n",
      "Step:\t8, Train Loss: 0.366985, Train Acc: 1.000000, Test Loss: 0.341817, Test Acc: 1.000000\n",
      "Step:\t9, Train Loss: 0.327628, Train Acc: 1.000000, Test Loss: 0.305315, Test Acc: 1.000000\n",
      "Step:\t10, Train Loss: 0.292973, Train Acc: 1.000000, Test Loss: 0.273138, Test Acc: 1.000000\n",
      "Step:\t11, Train Loss: 0.262350, Train Acc: 1.000000, Test Loss: 0.244677, Test Acc: 1.000000\n",
      "Step:\t12, Train Loss: 0.235212, Train Acc: 1.000000, Test Loss: 0.219435, Test Acc: 1.000000\n",
      "Step:\t13, Train Loss: 0.211100, Train Acc: 1.000000, Test Loss: 0.196992, Test Acc: 1.000000\n",
      "Step:\t14, Train Loss: 0.189631, Train Acc: 1.000000, Test Loss: 0.176999, Test Acc: 1.000000\n",
      "Step:\t15, Train Loss: 0.170481, Train Acc: 1.000000, Test Loss: 0.159156, Test Acc: 1.000000\n",
      "Step:\t16, Train Loss: 0.153371, Train Acc: 1.000000, Test Loss: 0.143207, Test Acc: 1.000000\n",
      "Step:\t17, Train Loss: 0.138063, Train Acc: 1.000000, Test Loss: 0.128932, Test Acc: 1.000000\n",
      "Step:\t18, Train Loss: 0.124349, Train Acc: 1.000000, Test Loss: 0.116141, Test Acc: 1.000000\n",
      "Step:\t19, Train Loss: 0.112052, Train Acc: 1.000000, Test Loss: 0.104667, Test Acc: 1.000000\n",
      "Step:\t20, Train Loss: 0.101014, Train Acc: 1.000000, Test Loss: 0.094366, Test Acc: 1.000000\n",
      "Step:\t21, Train Loss: 0.091097, Train Acc: 1.000000, Test Loss: 0.085109, Test Acc: 1.000000\n",
      "Step:\t22, Train Loss: 0.082182, Train Acc: 1.000000, Test Loss: 0.076786, Test Acc: 1.000000\n",
      "Step:\t23, Train Loss: 0.074161, Train Acc: 1.000000, Test Loss: 0.069297, Test Acc: 1.000000\n",
      "Step:\t24, Train Loss: 0.066942, Train Acc: 1.000000, Test Loss: 0.062555, Test Acc: 1.000000\n",
      "Step:\t25, Train Loss: 0.060439, Train Acc: 1.000000, Test Loss: 0.056481, Test Acc: 1.000000\n",
      "Step:\t26, Train Loss: 0.054581, Train Acc: 1.000000, Test Loss: 0.051009, Test Acc: 1.000000\n",
      "Step:\t27, Train Loss: 0.049299, Train Acc: 1.000000, Test Loss: 0.046075, Test Acc: 1.000000\n",
      "Step:\t28, Train Loss: 0.044537, Train Acc: 1.000000, Test Loss: 0.041625, Test Acc: 1.000000\n",
      "Step:\t29, Train Loss: 0.040241, Train Acc: 1.000000, Test Loss: 0.037611, Test Acc: 1.000000\n",
      "Step:\t30, Train Loss: 0.036364, Train Acc: 1.000000, Test Loss: 0.033989, Test Acc: 1.000000\n",
      "Step:\t31, Train Loss: 0.032865, Train Acc: 1.000000, Test Loss: 0.030719, Test Acc: 1.000000\n",
      "Step:\t32, Train Loss: 0.029706, Train Acc: 1.000000, Test Loss: 0.027767, Test Acc: 1.000000\n",
      "Step:\t33, Train Loss: 0.026853, Train Acc: 1.000000, Test Loss: 0.025102, Test Acc: 1.000000\n",
      "Step:\t34, Train Loss: 0.024277, Train Acc: 1.000000, Test Loss: 0.022694, Test Acc: 1.000000\n",
      "Step:\t35, Train Loss: 0.021950, Train Acc: 1.000000, Test Loss: 0.020518, Test Acc: 1.000000\n",
      "Step:\t36, Train Loss: 0.019847, Train Acc: 1.000000, Test Loss: 0.018553, Test Acc: 1.000000\n",
      "Step:\t37, Train Loss: 0.017947, Train Acc: 1.000000, Test Loss: 0.016777, Test Acc: 1.000000\n",
      "Step:\t38, Train Loss: 0.016230, Train Acc: 1.000000, Test Loss: 0.015172, Test Acc: 1.000000\n",
      "Step:\t39, Train Loss: 0.014677, Train Acc: 1.000000, Test Loss: 0.013721, Test Acc: 1.000000\n",
      "Step:\t40, Train Loss: 0.013275, Train Acc: 1.000000, Test Loss: 0.012410, Test Acc: 1.000000\n",
      "Step:\t41, Train Loss: 0.012006, Train Acc: 1.000000, Test Loss: 0.011224, Test Acc: 1.000000\n",
      "Step:\t42, Train Loss: 0.010859, Train Acc: 1.000000, Test Loss: 0.010152, Test Acc: 1.000000\n",
      "Step:\t43, Train Loss: 0.009823, Train Acc: 1.000000, Test Loss: 0.009183, Test Acc: 1.000000\n",
      "Step:\t44, Train Loss: 0.008885, Train Acc: 1.000000, Test Loss: 0.008307, Test Acc: 1.000000\n",
      "Step:\t45, Train Loss: 0.008037, Train Acc: 1.000000, Test Loss: 0.007514, Test Acc: 1.000000\n",
      "Step:\t46, Train Loss: 0.007271, Train Acc: 1.000000, Test Loss: 0.006797, Test Acc: 1.000000\n",
      "Step:\t47, Train Loss: 0.006577, Train Acc: 1.000000, Test Loss: 0.006149, Test Acc: 1.000000\n",
      "Step:\t48, Train Loss: 0.005950, Train Acc: 1.000000, Test Loss: 0.005563, Test Acc: 1.000000\n",
      "Step:\t49, Train Loss: 0.005383, Train Acc: 1.000000, Test Loss: 0.005032, Test Acc: 1.000000\n",
      "Step:\t50, Train Loss: 0.004870, Train Acc: 1.000000, Test Loss: 0.004553, Test Acc: 1.000000\n",
      "Step:\t51, Train Loss: 0.004406, Train Acc: 1.000000, Test Loss: 0.004119, Test Acc: 1.000000\n",
      "Step:\t52, Train Loss: 0.003986, Train Acc: 1.000000, Test Loss: 0.003726, Test Acc: 1.000000\n",
      "Step:\t53, Train Loss: 0.003606, Train Acc: 1.000000, Test Loss: 0.003371, Test Acc: 1.000000\n",
      "Step:\t54, Train Loss: 0.003263, Train Acc: 1.000000, Test Loss: 0.003050, Test Acc: 1.000000\n",
      "Step:\t55, Train Loss: 0.002952, Train Acc: 1.000000, Test Loss: 0.002760, Test Acc: 1.000000\n",
      "Step:\t56, Train Loss: 0.002671, Train Acc: 1.000000, Test Loss: 0.002497, Test Acc: 1.000000\n",
      "Step:\t57, Train Loss: 0.002416, Train Acc: 1.000000, Test Loss: 0.002259, Test Acc: 1.000000\n",
      "Step:\t58, Train Loss: 0.002186, Train Acc: 1.000000, Test Loss: 0.002044, Test Acc: 1.000000\n",
      "Step:\t59, Train Loss: 0.001978, Train Acc: 1.000000, Test Loss: 0.001849, Test Acc: 1.000000\n",
      "Step:\t60, Train Loss: 0.001800, Train Acc: 1.000000, Test Loss: 0.001678, Test Acc: 1.000000\n",
      "Step:\t61, Train Loss: 0.001640, Train Acc: 1.000000, Test Loss: 0.001524, Test Acc: 1.000000\n",
      "Step:\t62, Train Loss: 0.001484, Train Acc: 1.000000, Test Loss: 0.001379, Test Acc: 1.000000\n",
      "Step:\t63, Train Loss: 0.001354, Train Acc: 1.000000, Test Loss: 0.001254, Test Acc: 1.000000\n",
      "Step:\t64, Train Loss: 0.001252, Train Acc: 1.000000, Test Loss: 0.001152, Test Acc: 1.000000\n",
      "Step:\t65, Train Loss: 0.001144, Train Acc: 1.000000, Test Loss: 0.001048, Test Acc: 1.000000\n",
      "Step:\t66, Train Loss: 0.001047, Train Acc: 1.000000, Test Loss: 0.000954, Test Acc: 1.000000\n",
      "Step:\t67, Train Loss: 0.000971, Train Acc: 1.000000, Test Loss: 0.000883, Test Acc: 1.000000\n",
      "Step:\t68, Train Loss: 0.000891, Train Acc: 1.000000, Test Loss: 0.000804, Test Acc: 1.000000\n",
      "Step:\t69, Train Loss: 0.000811, Train Acc: 1.000000, Test Loss: 0.000734, Test Acc: 1.000000\n",
      "Step:\t70, Train Loss: 0.000740, Train Acc: 1.000000, Test Loss: 0.000672, Test Acc: 1.000000\n",
      "Step:\t71, Train Loss: 0.000680, Train Acc: 1.000000, Test Loss: 0.000613, Test Acc: 1.000000\n",
      "Step:\t72, Train Loss: 0.000621, Train Acc: 1.000000, Test Loss: 0.000562, Test Acc: 1.000000\n",
      "Step:\t73, Train Loss: 0.000581, Train Acc: 1.000000, Test Loss: 0.000521, Test Acc: 1.000000\n",
      "Step:\t74, Train Loss: 0.000531, Train Acc: 1.000000, Test Loss: 0.000474, Test Acc: 1.000000\n",
      "Step:\t75, Train Loss: 0.000499, Train Acc: 1.000000, Test Loss: 0.000443, Test Acc: 1.000000\n",
      "Step:\t76, Train Loss: 0.000499, Train Acc: 1.000000, Test Loss: 0.000443, Test Acc: 1.000000\n",
      "Step:\t77, Train Loss: 0.000499, Train Acc: 1.000000, Test Loss: 0.000443, Test Acc: 1.000000\n",
      "Step:\t78, Train Loss: 0.000499, Train Acc: 1.000000, Test Loss: 0.000443, Test Acc: 1.000000\n",
      "Step:\t79, Train Loss: 0.000499, Train Acc: 1.000000, Test Loss: 0.000443, Test Acc: 1.000000\n",
      "Step:\t80, Train Loss: 0.000499, Train Acc: 1.000000, Test Loss: 0.000443, Test Acc: 1.000000\n",
      "Step:\t81, Train Loss: 0.000499, Train Acc: 1.000000, Test Loss: 0.000443, Test Acc: 1.000000\n",
      "Step:\t82, Train Loss: 0.000499, Train Acc: 1.000000, Test Loss: 0.000443, Test Acc: 1.000000\n",
      "Step:\t83, Train Loss: 0.000499, Train Acc: 1.000000, Test Loss: 0.000443, Test Acc: 1.000000\n",
      "Step:\t84, Train Loss: 0.000499, Train Acc: 1.000000, Test Loss: 0.000443, Test Acc: 1.000000\n",
      "Step:\t85, Train Loss: 0.000499, Train Acc: 1.000000, Test Loss: 0.000443, Test Acc: 1.000000\n",
      "Step:\t86, Train Loss: 0.000499, Train Acc: 1.000000, Test Loss: 0.000442, Test Acc: 1.000000\n",
      "Step:\t87, Train Loss: 0.000499, Train Acc: 1.000000, Test Loss: 0.000442, Test Acc: 1.000000\n",
      "Step:\t88, Train Loss: 0.000499, Train Acc: 1.000000, Test Loss: 0.000442, Test Acc: 1.000000\n",
      "Step:\t89, Train Loss: 0.000499, Train Acc: 1.000000, Test Loss: 0.000442, Test Acc: 1.000000\n",
      "Step:\t90, Train Loss: 0.000499, Train Acc: 1.000000, Test Loss: 0.000442, Test Acc: 1.000000\n",
      "Step:\t91, Train Loss: 0.000499, Train Acc: 1.000000, Test Loss: 0.000442, Test Acc: 1.000000\n",
      "Step:\t92, Train Loss: 0.000499, Train Acc: 1.000000, Test Loss: 0.000442, Test Acc: 1.000000\n",
      "Step:\t93, Train Loss: 0.000499, Train Acc: 1.000000, Test Loss: 0.000442, Test Acc: 1.000000\n",
      "Step:\t94, Train Loss: 0.000499, Train Acc: 1.000000, Test Loss: 0.000442, Test Acc: 1.000000\n",
      "Step:\t95, Train Loss: 0.000499, Train Acc: 1.000000, Test Loss: 0.000442, Test Acc: 1.000000\n",
      "Step:\t96, Train Loss: 0.000499, Train Acc: 1.000000, Test Loss: 0.000442, Test Acc: 1.000000\n",
      "Step:\t97, Train Loss: 0.000499, Train Acc: 1.000000, Test Loss: 0.000442, Test Acc: 1.000000\n",
      "Step:\t98, Train Loss: 0.000499, Train Acc: 1.000000, Test Loss: 0.000442, Test Acc: 1.000000\n",
      "Step:\t99, Train Loss: 0.000499, Train Acc: 1.000000, Test Loss: 0.000442, Test Acc: 1.000000\n"
     ]
    }
   ],
   "source": [
    "#mclf.fit(X_train, y_train, X_test, y_test)"
   ]
  },
  {
   "cell_type": "code",
   "execution_count": 140,
   "metadata": {
    "collapsed": false
   },
   "outputs": [
    {
     "data": {
      "text/plain": [
       "0.96610169491525422"
      ]
     },
     "execution_count": 140,
     "metadata": {},
     "output_type": "execute_result"
    }
   ],
   "source": [
    "accuracy_score(mclf.predict_proba(X_test)[0].argmax(axis=1),  y_test)"
   ]
  },
  {
   "cell_type": "code",
   "execution_count": 141,
   "metadata": {
    "collapsed": false
   },
   "outputs": [
    {
     "name": "stdout",
     "output_type": "stream",
     "text": [
      "      Iter       Train Loss   Remaining Time \n",
      "         1         111.1791            0.38s\n",
      "         2          95.9170            0.30s\n",
      "         3          82.8190            0.25s\n",
      "         4          72.0507            0.23s\n",
      "         5          62.9393            0.22s\n",
      "         6          54.6487            0.21s\n",
      "         7          47.6413            0.21s\n",
      "         8          41.6594            0.20s\n",
      "         9          36.5688            0.19s\n",
      "        10          32.2059            0.19s\n",
      "        20           9.8267            0.15s\n",
      "        30           3.2029            0.14s\n",
      "        40           1.0835            0.12s\n",
      "        50           0.4238            0.10s\n",
      "        60           0.1675            0.08s\n",
      "        70           0.0684            0.06s\n",
      "        80           0.0346            0.04s\n",
      "        90           0.0275            0.02s\n",
      "       100           0.0256            0.00s\n"
     ]
    },
    {
     "data": {
      "text/plain": [
       "GradientBoostingClassifier(criterion='mse', init=None, learning_rate=0.1,\n",
       "              loss='deviance', max_depth=2, max_features=None,\n",
       "              max_leaf_nodes=None, min_impurity_split=1e-07,\n",
       "              min_samples_leaf=1, min_samples_split=2,\n",
       "              min_weight_fraction_leaf=0.0, n_estimators=100,\n",
       "              presort='auto', random_state=None, subsample=1.0,\n",
       "              verbose=True, warm_start=False)"
      ]
     },
     "execution_count": 141,
     "metadata": {},
     "output_type": "execute_result"
    }
   ],
   "source": [
    "sk_mclf = GBC(max_depth=2, n_estimators=n_estimators, criterion='mse', verbose=True)\n",
    "sk_mclf.fit(X_train, y_train)"
   ]
  },
  {
   "cell_type": "code",
   "execution_count": 142,
   "metadata": {
    "collapsed": false
   },
   "outputs": [
    {
     "data": {
      "text/plain": [
       "0.96610169491525422"
      ]
     },
     "execution_count": 142,
     "metadata": {},
     "output_type": "execute_result"
    }
   ],
   "source": [
    "accuracy_score(sk_mclf.predict(X_test), y_test)"
   ]
  },
  {
   "cell_type": "code",
   "execution_count": 143,
   "metadata": {
    "collapsed": false
   },
   "outputs": [],
   "source": [
    "sk_train_losses = []\n",
    "for y_pred in sk_mclf.staged_decision_function(X_train):\n",
    "    sk_train_losses.append([])\n",
    "    for i in xrange(sk_mclf.n_classes_):\n",
    "        sk_train_losses[-1].append(LogisticLoss()(np.array(y_train == i, dtype=np.int32), y_pred[:, i]))\n",
    "sk_train_losses = np.mean(sk_train_losses, axis=1)"
   ]
  },
  {
   "cell_type": "code",
   "execution_count": 144,
   "metadata": {
    "collapsed": true
   },
   "outputs": [],
   "source": [
    "sk_test_losses = []\n",
    "for y_pred in sk_mclf.staged_decision_function(X_test):\n",
    "    sk_test_losses.append([])\n",
    "    for i in xrange(sk_mclf.n_classes_):\n",
    "        sk_test_losses[-1].append(LogisticLoss()(np.array(y_test == i, dtype=np.int32), y_pred[:, i]))\n",
    "sk_test_losses = np.mean(sk_test_losses, axis=1)"
   ]
  },
  {
   "cell_type": "markdown",
   "metadata": {},
   "source": [
    "# MULTINOMIAL ONE VS REST BAD EXAMPLE"
   ]
  },
  {
   "cell_type": "code",
   "execution_count": 147,
   "metadata": {
    "collapsed": false
   },
   "outputs": [
    {
     "data": {
      "image/png": "[encoded data removed]",
      "text/plain": [
       "<matplotlib.figure.Figure at 0x11bfd3590>"
      ]
     },
     "metadata": {},
     "output_type": "display_data"
    }
   ],
   "source": [
    "compare_plot('Train', mclf.train_losses, sk_train_losses, range(n_estimators))"
   ]
  },
  {
   "cell_type": "code",
   "execution_count": 148,
   "metadata": {
    "collapsed": false
   },
   "outputs": [
    {
     "data": {
      "image/png": "[encoded data removed]",
      "text/plain": [
       "<matplotlib.figure.Figure at 0x11bb42210>"
      ]
     },
     "metadata": {},
     "output_type": "display_data"
    }
   ],
   "source": [
    "compare_plot('Test', mclf.test_losses, sk_test_losses, range(n_estimators))"
   ]
  },
  {
   "cell_type": "markdown",
   "metadata": {},
   "source": [
    "## Multinomial"
   ]
  },
  {
   "cell_type": "markdown",
   "metadata": {},
   "source": [
    "## Weighted voting"
   ]
  },
  {
   "cell_type": "code",
   "execution_count": 83,
   "metadata": {
    "collapsed": true
   },
   "outputs": [],
   "source": [
    "from sklearn.ensemble import VotingClassifier\n",
    "from sklearn.linear_model import LogisticRegression"
   ]
  },
  {
   "cell_type": "code",
   "execution_count": 82,
   "metadata": {
    "collapsed": true
   },
   "outputs": [],
   "source": [
    "from sklearn.neighbors import KNeighborsClassifier"
   ]
  },
  {
   "cell_type": "code",
   "execution_count": 104,
   "metadata": {
    "collapsed": false
   },
   "outputs": [],
   "source": [
    "clf = VotingClassifier(voting='soft', estimators=[('knn', KNeighborsClassifier()),\n",
    "                                   ('gbc', GBC(criterion='mse', n_estimators=10, random_state=41)),\n",
    "                                   ('lr', LogisticRegression())], n_jobs=-1)"
   ]
  },
  {
   "cell_type": "code",
   "execution_count": 105,
   "metadata": {
    "collapsed": false
   },
   "outputs": [
    {
     "data": {
      "text/plain": [
       "VotingClassifier(estimators=[('knn', KNeighborsClassifier(algorithm='auto', leaf_size=30, metric='minkowski',\n",
       "           metric_params=None, n_jobs=1, n_neighbors=5, p=2,\n",
       "           weights='uniform')), ('gbc', GradientBoostingClassifier(criterion='mse', init=None, learning_rate=0.1,\n",
       "              loss='deviance', m...ty='l2', random_state=None, solver='liblinear', tol=0.0001,\n",
       "          verbose=0, warm_start=False))],\n",
       "         n_jobs=-1, voting='soft', weights=None)"
      ]
     },
     "execution_count": 105,
     "metadata": {},
     "output_type": "execute_result"
    }
   ],
   "source": [
    "clf.fit(X_train, y_train)"
   ]
  },
  {
   "cell_type": "code",
   "execution_count": 106,
   "metadata": {
    "collapsed": false
   },
   "outputs": [
    {
     "data": {
      "text/plain": [
       "0.95147175815433571"
      ]
     },
     "execution_count": 106,
     "metadata": {},
     "output_type": "execute_result"
    }
   ],
   "source": [
    "accuracy_score(y_test, clf.predict(X_test))"
   ]
  },
  {
   "cell_type": "code",
   "execution_count": null,
   "metadata": {
    "collapsed": true
   },
   "outputs": [],
   "source": []
  }
 ],
 "metadata": {
  "kernelspec": {
   "display_name": "Python 2",
   "language": "python",
   "name": "python2"
  },
  "language_info": {
   "codemirror_mode": {
    "name": "ipython",
    "version": 2
   },
   "file_extension": ".py",
   "mimetype": "text/x-python",
   "name": "python",
   "nbconvert_exporter": "python",
   "pygments_lexer": "ipython2",
   "version": "2.7.12"
  }
 },
 "nbformat": 4,
 "nbformat_minor": 1
}
