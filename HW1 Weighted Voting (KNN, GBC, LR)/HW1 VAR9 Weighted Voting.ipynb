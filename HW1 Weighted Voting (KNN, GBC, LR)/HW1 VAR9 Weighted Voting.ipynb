{
 "cells": [
  {
   "cell_type": "markdown",
   "metadata": {},
   "source": [
    "# Взвешенное голосование методов\n",
    "- ближайшего соседа, \n",
    "- градиентного бустинга с логистической функцией потерь (базовый алгоритм CART),\n",
    "- логистической регресcии"
   ]
  },
  {
   "cell_type": "markdown",
   "metadata": {},
   "source": [
    "### Для задач классификации следует использовать тестовые датасеты:\n",
    "  - https://archive.ics.uci.edu/ml/datasets/Wine\n",
    "  - https://archive.ics.uci.edu/ml/datasets/Iris\n",
    "  - https://archive.ics.uci.edu/ml/datasets/Liver+Disorders"
   ]
  },
  {
   "cell_type": "markdown",
   "metadata": {},
   "source": [
    "## О правилах сдачи данного ДЗ:\n",
    "#### Ваше решение должно быть не более чем на 3% хуже, чем решение из scikitlearn-a в относительных числах при одинаковых параметрах запуска для спамовского датасета. В момент проверки дз первое, что вы показываете это графики ошибки на обучении и на тесте для вашего алгоритма и библиотечного. Также на графике должна быть обозначена относительная 3-х процентная граница. Пока данный результат не достигнут баллы за данное дз получить невозможно."
   ]
  },
  {
   "cell_type": "markdown",
   "metadata": {},
   "source": [
    "### Логистическая функция потерь"
   ]
  },
  {
   "cell_type": "markdown",
   "metadata": {},
   "source": [
    "$$L(h)= \\sum\\limits_{i=1}^{N}(−y_i log(f(\\textbf{x}_i))−(1−y_i)log(1−f(\\textbf{x}_i)))$$\n"
   ]
  },
  {
   "cell_type": "markdown",
   "metadata": {},
   "source": [
    "$$f (\\textbf{x}_i ) = \\sigma(h(\\textbf{x}_i )) = \\frac{1}{1+\\exp^{−h(x_i)}}$$"
   ]
  },
  {
   "cell_type": "code",
   "execution_count": 1,
   "metadata": {
    "collapsed": true
   },
   "outputs": [],
   "source": [
    "from sklearn.tree import DecisionTreeRegressor"
   ]
  },
  {
   "cell_type": "code",
   "execution_count": 2,
   "metadata": {
    "collapsed": true
   },
   "outputs": [],
   "source": [
    "import numpy as np"
   ]
  },
  {
   "cell_type": "code",
   "execution_count": 3,
   "metadata": {
    "collapsed": true
   },
   "outputs": [],
   "source": [
    "import pandas as pd"
   ]
  },
  {
   "cell_type": "code",
   "execution_count": 4,
   "metadata": {
    "collapsed": true
   },
   "outputs": [],
   "source": [
    "from sklearn.model_selection import train_test_split"
   ]
  },
  {
   "cell_type": "code",
   "execution_count": 5,
   "metadata": {
    "collapsed": true
   },
   "outputs": [],
   "source": [
    "from joblib import Parallel, delayed"
   ]
  },
  {
   "cell_type": "code",
   "execution_count": 6,
   "metadata": {
    "collapsed": true
   },
   "outputs": [],
   "source": [
    "from sklearn.tree import export_graphviz"
   ]
  },
  {
   "cell_type": "code",
   "execution_count": 7,
   "metadata": {
    "collapsed": true
   },
   "outputs": [],
   "source": [
    "from sklearn.preprocessing import LabelBinarizer"
   ]
  },
  {
   "cell_type": "code",
   "execution_count": 8,
   "metadata": {
    "collapsed": false
   },
   "outputs": [],
   "source": [
    "import matplotlib.pyplot as plt\n",
    "plt.style.use('ggplot')"
   ]
  },
  {
   "cell_type": "markdown",
   "metadata": {},
   "source": [
    "## Data"
   ]
  },
  {
   "cell_type": "code",
   "execution_count": 9,
   "metadata": {
    "collapsed": true
   },
   "outputs": [],
   "source": [
    "cache_vocs = {}"
   ]
  },
  {
   "cell_type": "code",
   "execution_count": 10,
   "metadata": {
    "collapsed": true
   },
   "outputs": [],
   "source": [
    "def translate_to_int(df, column):\n",
    "    if column in df.columns:\n",
    "        if not cache_vocs.has_key(column):\n",
    "            unique = df[column].unique()\n",
    "            cache_vocs[column] = dict()\n",
    "            cache_vocs[column+'_I'] = dict()\n",
    "            for i, label in enumerate(unique):\n",
    "                cache_vocs[column][label] = i\n",
    "                cache_vocs[column+'_I'][i] = [label]\n",
    "        df[column] = map(lambda x: cache_vocs[column][x], df[column])"
   ]
  },
  {
   "cell_type": "code",
   "execution_count": 11,
   "metadata": {
    "collapsed": true
   },
   "outputs": [],
   "source": [
    "def load_data(path, columns, to_int = [], sep=','):\n",
    "    data = pd.read_csv(path, sep=sep, header=None)\n",
    "    data.columns = columns\n",
    "    for col_name in to_int:\n",
    "        translate_to_int(data, col_name)\n",
    "    return data.dropna()"
   ]
  },
  {
   "cell_type": "code",
   "execution_count": 12,
   "metadata": {
    "collapsed": true
   },
   "outputs": [],
   "source": [
    "def load_splitted(data, k = 0, test_size = 0.33, random_state = None):\n",
    "    data_X, data_y = data[data.columns[:k].tolist()+data.columns[k+1:].tolist()].as_matrix(), data[data.columns[k]].as_matrix()\n",
    "    data_y -= data_y.min()\n",
    "    return train_test_split(data_X, data_y, test_size=test_size, random_state=random_state)"
   ]
  },
  {
   "cell_type": "markdown",
   "metadata": {},
   "source": [
    "### SPAM"
   ]
  },
  {
   "cell_type": "code",
   "execution_count": 13,
   "metadata": {
    "collapsed": true
   },
   "outputs": [],
   "source": [
    "spamTrainDataPath = './data/spam/spam.train.txt'\n",
    "spamTestDataPath = './data/spam/spam.test.txt'\n",
    "spamColumns = ['ClassProb'] + map(str, range(102))"
   ]
  },
  {
   "cell_type": "code",
   "execution_count": 14,
   "metadata": {
    "collapsed": true
   },
   "outputs": [],
   "source": [
    "def loadSpam(random_state = None):\n",
    "    dataTrain = load_data(spamTrainDataPath, spamColumns, sep='\\s+')\n",
    "    dataTrain = dataTrain[spamColumns[1:]+spamColumns[:1]]\n",
    "    dataTest = load_data(spamTestDataPath, spamColumns, sep='\\s+')\n",
    "    dataTest = dataTest[spamColumns[1:]+spamColumns[:1]]\n",
    "    train_X, train_y = dataTrain[dataTrain.columns[:-1]].as_matrix(), dataTrain[dataTrain.columns[-1]].as_matrix()\n",
    "    test_X, test_y = dataTest[dataTest.columns[:-1]].as_matrix(), dataTest[dataTest.columns[-1]].as_matrix()\n",
    "    return train_X, test_X, train_y, test_y"
   ]
  },
  {
   "cell_type": "markdown",
   "metadata": {},
   "source": [
    "### Wine"
   ]
  },
  {
   "cell_type": "code",
   "execution_count": 15,
   "metadata": {
    "collapsed": true
   },
   "outputs": [],
   "source": [
    "wineDataPath = './data/wine.data.txt'\n",
    "wineColumns = ['CLASS', 'ALC', 'M_ACID', 'ASH', 'AL_ASH', 'MAG', 'TOT', 'FLAV', 'NON_PH',\n",
    "               'PROANT', 'COL_INT', 'HUE', 'OD', 'PROLINE']"
   ]
  },
  {
   "cell_type": "code",
   "execution_count": 16,
   "metadata": {
    "collapsed": true
   },
   "outputs": [],
   "source": [
    "def loadWine(random_state = None):\n",
    "    return load_splitted(load_data(wineDataPath, wineColumns), random_state=random_state)"
   ]
  },
  {
   "cell_type": "markdown",
   "metadata": {},
   "source": [
    "### Iris"
   ]
  },
  {
   "cell_type": "code",
   "execution_count": 17,
   "metadata": {
    "collapsed": true
   },
   "outputs": [],
   "source": [
    "irisDataPath = './data/iris.data.txt'\n",
    "irisColumns = ['SEP_LEN', 'SEP_WID', 'PET_LEN', 'PER_WID', 'CLASS']"
   ]
  },
  {
   "cell_type": "code",
   "execution_count": 18,
   "metadata": {
    "collapsed": true
   },
   "outputs": [],
   "source": [
    "def loadIris(random_state = None):\n",
    "    return load_splitted(load_data(irisDataPath, irisColumns, ['CLASS']), k=4, random_state=random_state)"
   ]
  },
  {
   "cell_type": "markdown",
   "metadata": {},
   "source": [
    "### Bupa"
   ]
  },
  {
   "cell_type": "code",
   "execution_count": 19,
   "metadata": {
    "collapsed": true
   },
   "outputs": [],
   "source": [
    "bupaDataPath = './data/bupa.data.txt'\n",
    "bupaColumns = ['MCV', 'ALKPHOS', 'SGPT', 'SGOT', 'GAMMAGT', 'DRINKS', 'CLASS']"
   ]
  },
  {
   "cell_type": "code",
   "execution_count": 20,
   "metadata": {
    "collapsed": true
   },
   "outputs": [],
   "source": [
    "def loadBupa(random_state = None):\n",
    "    return load_splitted(load_data(bupaDataPath, bupaColumns), k=6, random_state=random_state)"
   ]
  },
  {
   "cell_type": "markdown",
   "metadata": {},
   "source": [
    "## Code"
   ]
  },
  {
   "cell_type": "code",
   "execution_count": 21,
   "metadata": {
    "collapsed": true
   },
   "outputs": [],
   "source": [
    "def bestSplit(X, y, Sr, j, srt):\n",
    "    Xv = X[srt]\n",
    "    yv = y[srt]\n",
    "    BestTillNow = 0\n",
    "    BestCutPoint = Xv[0]\n",
    "    Sl = 0\n",
    "    n = len(yv)\n",
    "    for i in xrange(0, len(Xv)-1):\n",
    "        Sl += yv[i]\n",
    "        Sr -= yv[i]\n",
    "        if (Xv[i+1]>Xv[i]):\n",
    "            NewSplitValue = (Sl**2)/(i+1.)+(Sr**2)/(n-i-1.)\n",
    "            if NewSplitValue > BestTillNow:\n",
    "                BestTillNow = NewSplitValue\n",
    "                BestCutPoint = Xv[i:i+2].mean()\n",
    "    return (BestTillNow, BestCutPoint, j)"
   ]
  },
  {
   "cell_type": "code",
   "execution_count": 38,
   "metadata": {
    "collapsed": false
   },
   "outputs": [],
   "source": [
    "class DTR:\n",
    "    def __init__(self, max_depth=3, random_state=None, depth=0, min_samples = 1):\n",
    "        self.max_depth = max_depth\n",
    "        self.random_state = random_state\n",
    "        self.depth = depth\n",
    "        self.min_samples = min_samples\n",
    "        self.final = True\n",
    "        self.left  = None\n",
    "        self.right = None\n",
    "        \n",
    "    def info(self):\n",
    "        return zip(self.n_features(), self.borders(), self.errors(), self.n_node_samples(), self.values())\n",
    "    \n",
    "    def n_features(self):\n",
    "        if self.final:\n",
    "            return [('J: ', None)]\n",
    "        return [('J: ', self.j)] + self.left.n_features() + self.right.n_features()\n",
    "    \n",
    "    def errors(self):\n",
    "        if self.final:\n",
    "            return [('MSE: ', self.inf)]\n",
    "        return [('MSE: ', self.inf)] + self.left.errors() + self.right.errors()\n",
    "    \n",
    "    def borders(self):\n",
    "        if self.final:\n",
    "            return [('SPLIT: ', None)]\n",
    "        return [('SPLIT: ', self.t)] + self.left.borders() + self.right.borders()\n",
    "        \n",
    "    def values(self):\n",
    "        if self.final:\n",
    "            return [('VALUE: ', self.value)]\n",
    "        return [('VALUE: ', self.value)] + self.left.values() + self.right.values()\n",
    "    \n",
    "    def n_node_samples(self):\n",
    "        if self.final:\n",
    "            return [('SAMPLES: ', self.n_samples)]\n",
    "        return [('SAMPLES: ', self.n_samples)] + self.left.n_node_samples() + self.right.n_node_samples()\n",
    "        \n",
    "    def split(self, Xm, j, t):\n",
    "        mask = (Xm[:,j] <= t).reshape(-1, 1)\n",
    "        Il = np.where(mask)[0]\n",
    "        Ir = np.where(~mask)[0]\n",
    "        return Il, Ir\n",
    "    \n",
    "    def predict(self, X):\n",
    "        if len(X.shape) == 1: X = np.array([X])\n",
    "        y = np.zeros((X.shape[0],1))\n",
    "        if self.final:\n",
    "            y.fill(self.value)\n",
    "        else:\n",
    "            Il, Ir = self.split(X, self.j, self.t)\n",
    "            y[Il] = self.left.predict(X[Il])\n",
    "            y[Ir] = self.right.predict(X[Ir])\n",
    "        return y\n",
    "    \n",
    "    def update_leafs(self, X, y, residual, K = 2):\n",
    "        if self.final:\n",
    "            numerator = np.sum(residual)\n",
    "            if K > 2:\n",
    "                numerator *= (K-1.)/K\n",
    "            denominator = np.sum((y - residual) * (1. - y + residual))\n",
    "            if denominator < 1e-100:\n",
    "                self.value = 0.0\n",
    "            else:\n",
    "                self.value = numerator / denominator\n",
    "        else:\n",
    "            Il, Ir = self.split(X, self.j, self.t)\n",
    "            self.left.update_leafs(X[Il], y[Il], residual[Il], K)\n",
    "            self.right.update_leafs(X[Ir], y[Ir], residual[Ir], K)\n",
    "    \n",
    "    def __build_tree(self, X, y, srt_mask = None):\n",
    "        if y.shape[0] == 0:\n",
    "            self.final = True\n",
    "            self.value = None\n",
    "            self.inf = None\n",
    "            self.n_samples = None\n",
    "            return\n",
    "        \n",
    "        self.final = False\n",
    "        self.value = np.mean(y)\n",
    "        self.inf = mean_squared_error(y, [self.value]*y.shape[0])\n",
    "        self.n_samples = y.shape[0]\n",
    "            \n",
    "        if (self.depth == self.max_depth) or (y.shape[0] <= self.min_samples) or (self.inf < 1e-7):\n",
    "            self.final = True\n",
    "            return\n",
    "            \n",
    "        Sr = y.sum()\n",
    "        if srt_mask is None:\n",
    "            srt_mask = X.argsort(axis=0)\n",
    "        Qerrors = Parallel(n_jobs=4)(delayed(bestSplit)(X[:,j], y, Sr, j, srt_mask[:,j]) for j in xrange(X.shape[1]))\n",
    "        _, self.t, self.j = max(Qerrors)\n",
    "        Il, Ir = self.split(X, self.j, self.t)\n",
    "        \n",
    "        self.left  = DTR(max_depth=self.max_depth,\n",
    "                         random_state=self.random_state,\n",
    "                         depth = self.depth+1,\n",
    "                         min_samples = self.min_samples)\n",
    "        self.left.__build_tree(X[Il], y[Il])\n",
    "\n",
    "        self.right = DTR(max_depth=self.max_depth,\n",
    "                         random_state=self.random_state,\n",
    "                         depth = self.depth+1,\n",
    "                         min_samples = self.min_samples)\n",
    "        self.right.__build_tree(X[Ir], y[Ir])\n",
    "    \n",
    "    def fit(self, X, y, srt_mask = None):\n",
    "        self.__build_tree(X, y, srt_mask)"
   ]
  },
  {
   "cell_type": "markdown",
   "metadata": {},
   "source": [
    "# Compare with sklearn CART"
   ]
  },
  {
   "cell_type": "code",
   "execution_count": 23,
   "metadata": {
    "collapsed": true
   },
   "outputs": [],
   "source": [
    "from sklearn.tree import DecisionTreeRegressor\n",
    "from sklearn.metrics import mean_squared_error"
   ]
  },
  {
   "cell_type": "code",
   "execution_count": 24,
   "metadata": {
    "collapsed": true
   },
   "outputs": [],
   "source": [
    "X_train, X_test, y_train, y_test = loadIris(10)"
   ]
  },
  {
   "cell_type": "code",
   "execution_count": 25,
   "metadata": {
    "collapsed": false
   },
   "outputs": [],
   "source": [
    "tree_1 = DTR(max_depth=3, random_state=42)\n",
    "tree_1.fit(X_train, y_train)"
   ]
  },
  {
   "cell_type": "code",
   "execution_count": 26,
   "metadata": {
    "collapsed": false
   },
   "outputs": [
    {
     "data": {
      "text/plain": [
       "DecisionTreeRegressor(criterion='mse', max_depth=3, max_features=None,\n",
       "           max_leaf_nodes=None, min_impurity_split=1e-07,\n",
       "           min_samples_leaf=1, min_samples_split=2,\n",
       "           min_weight_fraction_leaf=0.0, presort=False, random_state=42,\n",
       "           splitter='best')"
      ]
     },
     "execution_count": 26,
     "metadata": {},
     "output_type": "execute_result"
    }
   ],
   "source": [
    "tree_2 = DecisionTreeRegressor(criterion='mse', max_depth=3, random_state=42)\n",
    "tree_2.fit(X_train, y_train)"
   ]
  },
  {
   "cell_type": "code",
   "execution_count": 27,
   "metadata": {
    "collapsed": false
   },
   "outputs": [],
   "source": [
    "export_graphviz(tree_2, './data/trees/tree.dot')\n",
    "!dot -Tpng './data/trees/tree.dot' -o './data/trees/tree.png'"
   ]
  },
  {
   "cell_type": "markdown",
   "metadata": {},
   "source": [
    "<img src=\"./data/trees/tree.png\">"
   ]
  },
  {
   "cell_type": "code",
   "execution_count": 28,
   "metadata": {
    "collapsed": false
   },
   "outputs": [
    {
     "data": {
      "text/plain": [
       "[(('J: ', 2),\n",
       "  ('SPLIT: ', 2.4500000000000002),\n",
       "  ('MSE: ', 0.68989999999999996),\n",
       "  ('SAMPLES: ', 100),\n",
       "  ('VALUE: ', 0.98999999999999999)),\n",
       " (('J: ', None),\n",
       "  ('SPLIT: ', None),\n",
       "  ('MSE: ', 0.0),\n",
       "  ('SAMPLES: ', 35),\n",
       "  ('VALUE: ', 0.0)),\n",
       " (('J: ', 2),\n",
       "  ('SPLIT: ', 4.75),\n",
       "  ('MSE: ', 0.24946745562130182),\n",
       "  ('SAMPLES: ', 65),\n",
       "  ('VALUE: ', 1.523076923076923)),\n",
       " (('J: ', 3),\n",
       "  ('SPLIT: ', 1.6000000000000001),\n",
       "  ('MSE: ', 0.032222222222222201),\n",
       "  ('SAMPLES: ', 30),\n",
       "  ('VALUE: ', 1.0333333333333334)),\n",
       " (('J: ', None),\n",
       "  ('SPLIT: ', None),\n",
       "  ('MSE: ', 0.0),\n",
       "  ('SAMPLES: ', 29),\n",
       "  ('VALUE: ', 1.0)),\n",
       " (('J: ', None),\n",
       "  ('SPLIT: ', None),\n",
       "  ('MSE: ', 0.0),\n",
       "  ('SAMPLES: ', 1),\n",
       "  ('VALUE: ', 2.0)),\n",
       " (('J: ', 3),\n",
       "  ('SPLIT: ', 1.75),\n",
       "  ('MSE: ', 0.053877551020408178),\n",
       "  ('SAMPLES: ', 35),\n",
       "  ('VALUE: ', 1.9428571428571428)),\n",
       " (('J: ', None),\n",
       "  ('SPLIT: ', None),\n",
       "  ('MSE: ', 0.23999999999999999),\n",
       "  ('SAMPLES: ', 5),\n",
       "  ('VALUE: ', 1.6000000000000001)),\n",
       " (('J: ', None),\n",
       "  ('SPLIT: ', None),\n",
       "  ('MSE: ', 0.0),\n",
       "  ('SAMPLES: ', 30),\n",
       "  ('VALUE: ', 2.0))]"
      ]
     },
     "execution_count": 28,
     "metadata": {},
     "output_type": "execute_result"
    }
   ],
   "source": [
    "tree_1.info()"
   ]
  },
  {
   "cell_type": "code",
   "execution_count": 29,
   "metadata": {
    "collapsed": false
   },
   "outputs": [
    {
     "data": {
      "text/plain": [
       "True"
      ]
     },
     "execution_count": 29,
     "metadata": {},
     "output_type": "execute_result"
    }
   ],
   "source": [
    "(tree_1.predict(X_test).ravel() == tree_2.predict(X_test).ravel()).all()"
   ]
  },
  {
   "cell_type": "markdown",
   "metadata": {},
   "source": [
    "## CARTs are equal"
   ]
  },
  {
   "cell_type": "markdown",
   "metadata": {},
   "source": [
    "# Gradient Boosting"
   ]
  },
  {
   "cell_type": "code",
   "execution_count": 30,
   "metadata": {
    "collapsed": true
   },
   "outputs": [],
   "source": [
    "from sklearn.metrics import accuracy_score"
   ]
  },
  {
   "cell_type": "code",
   "execution_count": 31,
   "metadata": {
    "collapsed": true
   },
   "outputs": [],
   "source": [
    "from sklearn.ensemble import GradientBoostingClassifier as GBC"
   ]
  },
  {
   "cell_type": "code",
   "execution_count": 32,
   "metadata": {
    "collapsed": true
   },
   "outputs": [],
   "source": [
    "from sklearn.ensemble.gradient_boosting import MultinomialDeviance, BinomialDeviance"
   ]
  },
  {
   "cell_type": "code",
   "execution_count": 38,
   "metadata": {
    "collapsed": true
   },
   "outputs": [],
   "source": [
    "X_train, X_test, y_train, y_test = loadSpam(10)"
   ]
  },
  {
   "cell_type": "code",
   "execution_count": 33,
   "metadata": {
    "collapsed": true
   },
   "outputs": [],
   "source": [
    "class LogOddsEstimator:\n",
    "    scale = 1.0\n",
    "    def fit(self, X, y):\n",
    "        pos = np.sum(y)\n",
    "        neg = y.shape[0] - pos\n",
    "        if neg == 0 or pos == 0:\n",
    "            raise ValueError('y contains non binary labels.')\n",
    "        self.prior = self.scale * np.log(pos / float(neg))\n",
    "\n",
    "    def predict(self, X):\n",
    "        y = np.empty((X.shape[0], 1), dtype=np.float64)\n",
    "        y.fill(self.prior)\n",
    "        return y"
   ]
  },
  {
   "cell_type": "code",
   "execution_count": 34,
   "metadata": {
    "collapsed": false
   },
   "outputs": [],
   "source": [
    "class LogisticLoss:\n",
    "    def __call__(self, y, y_pred):\n",
    "        y_pred_sigm = self._score_to_proba(y_pred.ravel())\n",
    "        score = 2 * np.mean(-y*np.log(y_pred_sigm)-(1-y)*np.log(1-y_pred_sigm))\n",
    "        return score\n",
    "    \n",
    "    def negative_gradient(self, y, y_pred, k = None):\n",
    "        return (y - self._score_to_proba(y_pred.ravel()))\n",
    "    \n",
    "    def _score_to_proba(self, x):\n",
    "        return 1./(1. + np.exp(-x))\n",
    "    \n",
    "    def init_estimator(self):\n",
    "        return LogOddsEstimator()"
   ]
  },
  {
   "cell_type": "code",
   "execution_count": 35,
   "metadata": {
    "collapsed": true
   },
   "outputs": [],
   "source": [
    "class PriorProbabilityEstimator:\n",
    "    def fit(self, X, y, sample_weight = None):\n",
    "        class_counts = np.bincount(y)\n",
    "        self.priors = class_counts / float(class_counts.sum())\n",
    "\n",
    "    def predict(self, X):\n",
    "        y = np.empty((X.shape[0], self.priors.shape[0]), dtype=np.float64)\n",
    "        y[:] = self.priors\n",
    "        return y"
   ]
  },
  {
   "cell_type": "code",
   "execution_count": 36,
   "metadata": {
    "collapsed": false
   },
   "outputs": [],
   "source": [
    "class MultiLogisticLoss:\n",
    "    def __init__(self, k):\n",
    "        self.n_classes = k\n",
    "        \n",
    "    def __call__(self, y, y_pred):\n",
    "        y_pred_softmax = self._score_to_proba(y_pred)\n",
    "        score = 0\n",
    "        Y = np.zeros((y.shape[0], self.n_classes), dtype=np.float64)\n",
    "        for k in xrange(self.n_classes):\n",
    "            Y[:, k] = y == k\n",
    "        score = -np.sum(Y*np.log(y_pred_softmax))\n",
    "        return score\n",
    "    \n",
    "    def negative_gradient(self, y_bin, y_pred, k):\n",
    "        return (y_bin - self._score_to_proba(y_pred)[:,k])\n",
    "    \n",
    "    def _score_to_proba(self, x):\n",
    "        exp = np.exp(x)\n",
    "        return exp/exp.sum(keepdims=True, axis=1)\n",
    "    \n",
    "    def init_estimator(self):\n",
    "        return PriorProbabilityEstimator()"
   ]
  },
  {
   "cell_type": "code",
   "execution_count": 94,
   "metadata": {
    "collapsed": false
   },
   "outputs": [],
   "source": [
    "class GradientBoostingClassifier:\n",
    "    def __init__(self, max_depth = 3, n_estimators=5, random_state=None, learning_rate = 0.1, verbose = False):\n",
    "        self.max_depth = max_depth\n",
    "        self.n_estimators = n_estimators\n",
    "        self.random_state = random_state\n",
    "        self.learning_rate = learning_rate\n",
    "        self.verbose = verbose\n",
    "        \n",
    "    def fit(self, X, y, X_test = None, y_test = None):\n",
    "        self.train_losses = []\n",
    "        self.test_losses = []\n",
    "        X = X.astype(np.float32)\n",
    "        self.n_classes = len(np.unique(y))\n",
    "        if self.n_classes < 3:\n",
    "            self.loss = LogisticLoss()\n",
    "            self.estimators = np.empty((self.n_estimators, 1), dtype=np.object)\n",
    "        else:\n",
    "            self.loss = MultiLogisticLoss(self.n_classes)\n",
    "            self.estimators = np.empty((self.n_estimators, self.n_classes), dtype=np.object)\n",
    "        self.init = self.loss.init_estimator()\n",
    "        self.init_estimator(X, y)\n",
    "        self.__fit_stages(X, y, X_test, y_test, self.random_state)\n",
    "    \n",
    "    def init_estimator(self, X, y):\n",
    "        self.init.fit(X, y)\n",
    "    \n",
    "    def __fit_stages(self, X, y, X_test, y_test, random_state):\n",
    "        y_pred = self.init_predict(X)\n",
    "        srt_mask = X.argsort(axis=0)\n",
    "        for est in xrange(self.estimators.shape[0]):\n",
    "            y_pred = self.__fit_stage(est, X, y, y_pred, random_state, srt_mask)\n",
    "            self.train_losses.append(self.loss(y, y_pred))\n",
    "            if not ((X_test is None) or (y_test is None)):\n",
    "                self.test_losses.append(self.loss(y_test, self.decision_function(X_test, est+1)))\n",
    "            if self.verbose:\n",
    "                print 'Step:\\t{}, '.format(est) +\\\n",
    "                'Train Loss: {:.6f}, '.format(self.train_losses[-1]) +\\\n",
    "                'Train Acc: {:.6f}, '.format(accuracy_score(y, self.predict(X, est + 1))) +\\\n",
    "                '{}'.format('Test Loss: {:.6f}, Test Acc: {:.6f}'.format(self.test_losses[-1],\n",
    "                                                                         accuracy_score(y_test,\n",
    "                            self.predict(X_test, est + 1))) if not ((X_test is None) or (y_test is None)) else '')\n",
    "            \n",
    "    def __fit_stage(self, est, X, y, y_pred, random_state, srt_mask):\n",
    "        for i in xrange(self.estimators.shape[1]):\n",
    "            if self.n_classes < 3:\n",
    "                y_bin = y\n",
    "            else:\n",
    "                y_bin = y == i\n",
    "            residual = self.loss.negative_gradient(y_bin, y_pred, i)\n",
    "            tree = DTR(self.max_depth, random_state)\n",
    "            tree.fit(X, residual, srt_mask)\n",
    "            tree.update_leafs(X, y_bin, residual, self.n_classes)\n",
    "            self.estimators[est, i] = tree\n",
    "        return self.decision_function(X, est+1)\n",
    "    \n",
    "    def predict(self, X, n_estimators = None):\n",
    "        if self.n_classes < 3:\n",
    "            return np.array(self.predict_proba(X, n_estimators)>0.5, dtype=np.int32).ravel()\n",
    "        else:\n",
    "            return np.argmax(self.predict_proba(X, n_estimators), axis=1)\n",
    "    \n",
    "    def predict_proba(self, X, n_estimators = None):\n",
    "        decision = self.decision_function(X, n_estimators)\n",
    "        return self.loss._score_to_proba(decision)\n",
    "        \n",
    "    def init_predict(self, X):\n",
    "        return self.init.predict(X)\n",
    "    \n",
    "    def decision_function(self, X, n_estimators = None):\n",
    "        score = self.init.predict(X).astype(np.float64)\n",
    "        if n_estimators is None:\n",
    "            n_estimators = self.n_estimators\n",
    "        for est in xrange(n_estimators):\n",
    "            est_pred = np.array([self.estimators[est, i].predict(X).ravel() for i in xrange(self.estimators.shape[1])]).T\n",
    "            score += self.learning_rate * est_pred\n",
    "        return score"
   ]
  },
  {
   "cell_type": "markdown",
   "metadata": {},
   "source": [
    "# Spam"
   ]
  },
  {
   "cell_type": "code",
   "execution_count": 44,
   "metadata": {
    "collapsed": true
   },
   "outputs": [],
   "source": [
    "X_train, X_test, y_train, y_test = loadSpam(10)"
   ]
  },
  {
   "cell_type": "markdown",
   "metadata": {},
   "source": [
    "### Realized Train 10"
   ]
  },
  {
   "cell_type": "code",
   "execution_count": 45,
   "metadata": {
    "collapsed": false
   },
   "outputs": [],
   "source": [
    "model = GradientBoostingClassifier(max_depth=3, n_estimators=10, learning_rate=0.1, random_state=41, verbose=True)"
   ]
  },
  {
   "cell_type": "code",
   "execution_count": 46,
   "metadata": {
    "collapsed": false
   },
   "outputs": [
    {
     "name": "stdout",
     "output_type": "stream",
     "text": [
      "Step:\t0, Train Loss: 1.243280, Train Acc: 0.581277, Test Loss: 1.148639, Test Acc: 0.797832\n",
      "Step:\t1, Train Loss: 1.146717, Train Acc: 0.795855, Test Loss: 1.098200, Test Acc: 0.899861\n",
      "Step:\t2, Train Loss: 1.066547, Train Acc: 0.864091, Test Loss: 1.040699, Test Acc: 0.906225\n",
      "Step:\t3, Train Loss: 0.997443, Train Acc: 0.869590, Test Loss: 0.998278, Test Acc: 0.906325\n",
      "Step:\t4, Train Loss: 0.931978, Train Acc: 0.896659, Test Loss: 0.972839, Test Acc: 0.887828\n",
      "Step:\t5, Train Loss: 0.876972, Train Acc: 0.893134, Test Loss: 0.923649, Test Acc: 0.912788\n",
      "Step:\t6, Train Loss: 0.827917, Train Acc: 0.906528, Test Loss: 0.869986, Test Acc: 0.912689\n",
      "Step:\t7, Train Loss: 0.781046, Train Acc: 0.911603, Test Loss: 0.861992, Test Acc: 0.905430\n",
      "Step:\t8, Train Loss: 0.743543, Train Acc: 0.915833, Test Loss: 0.834274, Test Acc: 0.915473\n",
      "Step:\t9, Train Loss: 0.706295, Train Acc: 0.923587, Test Loss: 0.823929, Test Acc: 0.908711\n"
     ]
    }
   ],
   "source": [
    "model.fit(X_train, y_train, X_test, y_test)"
   ]
  },
  {
   "cell_type": "code",
   "execution_count": 47,
   "metadata": {
    "collapsed": false
   },
   "outputs": [
    {
     "data": {
      "text/plain": [
       "0.9087112171837709"
      ]
     },
     "execution_count": 47,
     "metadata": {},
     "output_type": "execute_result"
    }
   ],
   "source": [
    "accuracy_score(y_test, model.predict(X_test))"
   ]
  },
  {
   "cell_type": "markdown",
   "metadata": {},
   "source": [
    "### Sklearn Train 10 "
   ]
  },
  {
   "cell_type": "code",
   "execution_count": 48,
   "metadata": {
    "collapsed": true
   },
   "outputs": [],
   "source": [
    "model_sk = GBC(n_estimators=10, max_depth=3, verbose=1, criterion='mse', loss='deviance',\n",
    "               random_state=41)"
   ]
  },
  {
   "cell_type": "code",
   "execution_count": 49,
   "metadata": {
    "collapsed": false
   },
   "outputs": [
    {
     "name": "stdout",
     "output_type": "stream",
     "text": [
      "      Iter       Train Loss   Remaining Time \n",
      "         1           1.2433            0.49s\n",
      "         2           1.1467            0.41s\n",
      "         3           1.0665            0.34s\n",
      "         4           0.9974            0.29s\n",
      "         5           0.9320            0.25s\n",
      "         6           0.8770            0.20s\n",
      "         7           0.8279            0.15s\n",
      "         8           0.7810            0.10s\n",
      "         9           0.7435            0.05s\n",
      "        10           0.7063            0.00s\n"
     ]
    },
    {
     "data": {
      "text/plain": [
       "GradientBoostingClassifier(criterion='mse', init=None, learning_rate=0.1,\n",
       "              loss='deviance', max_depth=3, max_features=None,\n",
       "              max_leaf_nodes=None, min_impurity_split=1e-07,\n",
       "              min_samples_leaf=1, min_samples_split=2,\n",
       "              min_weight_fraction_leaf=0.0, n_estimators=10,\n",
       "              presort='auto', random_state=41, subsample=1.0, verbose=1,\n",
       "              warm_start=False)"
      ]
     },
     "execution_count": 49,
     "metadata": {},
     "output_type": "execute_result"
    }
   ],
   "source": [
    "model_sk.fit(X_train, y_train)"
   ]
  },
  {
   "cell_type": "code",
   "execution_count": 50,
   "metadata": {
    "collapsed": false,
    "scrolled": true
   },
   "outputs": [
    {
     "data": {
      "text/plain": [
       "0.90851233094669848"
      ]
     },
     "execution_count": 50,
     "metadata": {},
     "output_type": "execute_result"
    }
   ],
   "source": [
    "accuracy_score(y_test, model_sk.predict(X_test))"
   ]
  },
  {
   "cell_type": "markdown",
   "metadata": {},
   "source": [
    "# Bupa"
   ]
  },
  {
   "cell_type": "code",
   "execution_count": 39,
   "metadata": {
    "collapsed": true
   },
   "outputs": [],
   "source": [
    "X_train, X_test, y_train, y_test = loadBupa(10)"
   ]
  },
  {
   "cell_type": "markdown",
   "metadata": {},
   "source": [
    "### Realized Train 10"
   ]
  },
  {
   "cell_type": "code",
   "execution_count": 52,
   "metadata": {
    "collapsed": false
   },
   "outputs": [],
   "source": [
    "model = GradientBoostingClassifier(max_depth=3, n_estimators=10, learning_rate=0.1, random_state=41, verbose=True)"
   ]
  },
  {
   "cell_type": "code",
   "execution_count": 53,
   "metadata": {
    "collapsed": false
   },
   "outputs": [
    {
     "name": "stdout",
     "output_type": "stream",
     "text": [
      "Step:\t0, Train Loss: 1.252751, Train Acc: 0.636364, Test Loss: 1.471427, Test Acc: 0.464912\n",
      "Step:\t1, Train Loss: 1.206708, Train Acc: 0.636364, Test Loss: 1.450069, Test Acc: 0.464912\n",
      "Step:\t2, Train Loss: 1.160693, Train Acc: 0.718615, Test Loss: 1.432747, Test Acc: 0.526316\n",
      "Step:\t3, Train Loss: 1.120125, Train Acc: 0.731602, Test Loss: 1.405815, Test Acc: 0.517544\n",
      "Step:\t4, Train Loss: 1.093573, Train Acc: 0.770563, Test Loss: 1.392037, Test Acc: 0.543860\n",
      "Step:\t5, Train Loss: 1.073127, Train Acc: 0.779221, Test Loss: 1.383290, Test Acc: 0.552632\n",
      "Step:\t6, Train Loss: 1.043766, Train Acc: 0.792208, Test Loss: 1.376610, Test Acc: 0.570175\n",
      "Step:\t7, Train Loss: 1.027613, Train Acc: 0.792208, Test Loss: 1.370104, Test Acc: 0.578947\n",
      "Step:\t8, Train Loss: 1.005764, Train Acc: 0.800866, Test Loss: 1.364675, Test Acc: 0.596491\n",
      "Step:\t9, Train Loss: 0.976416, Train Acc: 0.813853, Test Loss: 1.347293, Test Acc: 0.578947\n"
     ]
    }
   ],
   "source": [
    "model.fit(X_train, y_train, X_test, y_test)"
   ]
  },
  {
   "cell_type": "code",
   "execution_count": 54,
   "metadata": {
    "collapsed": false
   },
   "outputs": [
    {
     "data": {
      "text/plain": [
       "0.57894736842105265"
      ]
     },
     "execution_count": 54,
     "metadata": {},
     "output_type": "execute_result"
    }
   ],
   "source": [
    "accuracy_score(y_test, model.predict(X_test))"
   ]
  },
  {
   "cell_type": "markdown",
   "metadata": {},
   "source": [
    "### Sklearn Train 10 "
   ]
  },
  {
   "cell_type": "code",
   "execution_count": 55,
   "metadata": {
    "collapsed": true
   },
   "outputs": [],
   "source": [
    "model_sk = GBC(n_estimators=10, max_depth=3, verbose=1, criterion='mse', loss='deviance',\n",
    "               random_state=41)"
   ]
  },
  {
   "cell_type": "code",
   "execution_count": 56,
   "metadata": {
    "collapsed": false
   },
   "outputs": [
    {
     "name": "stdout",
     "output_type": "stream",
     "text": [
      "      Iter       Train Loss   Remaining Time \n",
      "         1           1.2528            0.01s\n",
      "         2           1.2067            0.01s\n",
      "         3           1.1607            0.01s\n",
      "         4           1.1201            0.01s\n",
      "         5           1.0935            0.00s\n",
      "         6           1.0733            0.00s\n",
      "         7           1.0439            0.00s\n",
      "         8           1.0281            0.00s\n",
      "         9           1.0061            0.00s\n",
      "        10           0.9765            0.00s\n"
     ]
    },
    {
     "data": {
      "text/plain": [
       "GradientBoostingClassifier(criterion='mse', init=None, learning_rate=0.1,\n",
       "              loss='deviance', max_depth=3, max_features=None,\n",
       "              max_leaf_nodes=None, min_impurity_split=1e-07,\n",
       "              min_samples_leaf=1, min_samples_split=2,\n",
       "              min_weight_fraction_leaf=0.0, n_estimators=10,\n",
       "              presort='auto', random_state=41, subsample=1.0, verbose=1,\n",
       "              warm_start=False)"
      ]
     },
     "execution_count": 56,
     "metadata": {},
     "output_type": "execute_result"
    }
   ],
   "source": [
    "model_sk.fit(X_train, y_train)"
   ]
  },
  {
   "cell_type": "code",
   "execution_count": 57,
   "metadata": {
    "collapsed": false,
    "scrolled": true
   },
   "outputs": [
    {
     "data": {
      "text/plain": [
       "0.57894736842105265"
      ]
     },
     "execution_count": 57,
     "metadata": {},
     "output_type": "execute_result"
    }
   ],
   "source": [
    "accuracy_score(y_test, model_sk.predict(X_test))"
   ]
  },
  {
   "cell_type": "markdown",
   "metadata": {},
   "source": [
    "# Wine"
   ]
  },
  {
   "cell_type": "code",
   "execution_count": 41,
   "metadata": {
    "collapsed": true
   },
   "outputs": [],
   "source": [
    "X_train, X_test, y_train, y_test = loadWine(10)"
   ]
  },
  {
   "cell_type": "markdown",
   "metadata": {},
   "source": [
    "### Realized Train 10"
   ]
  },
  {
   "cell_type": "code",
   "execution_count": 42,
   "metadata": {
    "collapsed": false
   },
   "outputs": [],
   "source": [
    "model = GradientBoostingClassifier(max_depth=3, n_estimators=10, learning_rate=0.1, random_state=41, verbose=True)"
   ]
  },
  {
   "cell_type": "code",
   "execution_count": 43,
   "metadata": {
    "collapsed": false
   },
   "outputs": [
    {
     "name": "stdout",
     "output_type": "stream",
     "text": [
      "Step:\t0, Train Loss: 107.886063, Train Acc: 1.000000, Test Loss: 55.855207, Test Acc: 0.830508\n",
      "Step:\t1, Train Loss: 90.414445, Train Acc: 1.000000, Test Loss: 49.201887, Test Acc: 0.830508\n",
      "Step:\t2, Train Loss: 76.438654, Train Acc: 1.000000, Test Loss: 43.924257, Test Acc: 0.830508\n",
      "Step:\t3, Train Loss: 65.037067, Train Acc: 1.000000, Test Loss: 39.654741, Test Acc: 0.830508\n",
      "Step:\t4, Train Loss: 55.605629, Train Acc: 1.000000, Test Loss: 36.153633, Test Acc: 0.830508\n",
      "Step:\t5, Train Loss: 47.723348, Train Acc: 1.000000, Test Loss: 33.254669, Test Acc: 0.830508\n",
      "Step:\t6, Train Loss: 41.083634, Train Acc: 1.000000, Test Loss: 30.837295, Test Acc: 0.830508\n",
      "Step:\t7, Train Loss: 35.455772, Train Acc: 1.000000, Test Loss: 28.811032, Test Acc: 0.830508\n",
      "Step:\t8, Train Loss: 30.661701, Train Acc: 1.000000, Test Loss: 27.106500, Test Acc: 0.830508\n",
      "Step:\t9, Train Loss: 26.561233, Train Acc: 1.000000, Test Loss: 25.669238, Test Acc: 0.830508\n"
     ]
    }
   ],
   "source": [
    "model.fit(X_train, y_train, X_test, y_test)"
   ]
  },
  {
   "cell_type": "code",
   "execution_count": 44,
   "metadata": {
    "collapsed": false
   },
   "outputs": [
    {
     "data": {
      "text/plain": [
       "0.83050847457627119"
      ]
     },
     "execution_count": 44,
     "metadata": {},
     "output_type": "execute_result"
    }
   ],
   "source": [
    "accuracy_score(y_test, model.predict(X_test))"
   ]
  },
  {
   "cell_type": "markdown",
   "metadata": {},
   "source": [
    "### Sklearn Train 10 "
   ]
  },
  {
   "cell_type": "code",
   "execution_count": 45,
   "metadata": {
    "collapsed": true
   },
   "outputs": [],
   "source": [
    "model_sk = GBC(n_estimators=10, max_depth=3, verbose=1, criterion='mse', loss='deviance',\n",
    "               random_state=41)"
   ]
  },
  {
   "cell_type": "code",
   "execution_count": 46,
   "metadata": {
    "collapsed": false
   },
   "outputs": [
    {
     "name": "stdout",
     "output_type": "stream",
     "text": [
      "      Iter       Train Loss   Remaining Time \n",
      "         1         108.4048            0.04s\n",
      "         2          91.1632            0.03s\n",
      "         3          77.2745            0.02s\n",
      "         4          65.8847            0.02s\n",
      "         5          56.4246            0.01s\n",
      "         6          48.4927            0.01s\n",
      "         7          41.7935            0.01s\n",
      "         8          36.1028            0.01s\n",
      "         9          31.2464            0.00s\n",
      "        10          27.0862            0.00s\n"
     ]
    },
    {
     "data": {
      "text/plain": [
       "GradientBoostingClassifier(criterion='mse', init=None, learning_rate=0.1,\n",
       "              loss='deviance', max_depth=3, max_features=None,\n",
       "              max_leaf_nodes=None, min_impurity_split=1e-07,\n",
       "              min_samples_leaf=1, min_samples_split=2,\n",
       "              min_weight_fraction_leaf=0.0, n_estimators=10,\n",
       "              presort='auto', random_state=41, subsample=1.0, verbose=1,\n",
       "              warm_start=False)"
      ]
     },
     "execution_count": 46,
     "metadata": {},
     "output_type": "execute_result"
    }
   ],
   "source": [
    "model_sk.fit(X_train, y_train)"
   ]
  },
  {
   "cell_type": "code",
   "execution_count": 47,
   "metadata": {
    "collapsed": false,
    "scrolled": true
   },
   "outputs": [
    {
     "data": {
      "text/plain": [
       "0.81355932203389836"
      ]
     },
     "execution_count": 47,
     "metadata": {},
     "output_type": "execute_result"
    }
   ],
   "source": [
    "accuracy_score(y_test, model_sk.predict(X_test))"
   ]
  },
  {
   "cell_type": "markdown",
   "metadata": {},
   "source": [
    "# Iris"
   ]
  },
  {
   "cell_type": "code",
   "execution_count": 48,
   "metadata": {
    "collapsed": true
   },
   "outputs": [],
   "source": [
    "X_train, X_test, y_train, y_test = loadIris(10)"
   ]
  },
  {
   "cell_type": "markdown",
   "metadata": {},
   "source": [
    "### Realized Train 10"
   ]
  },
  {
   "cell_type": "code",
   "execution_count": 49,
   "metadata": {
    "collapsed": false
   },
   "outputs": [],
   "source": [
    "model = GradientBoostingClassifier(max_depth=3, n_estimators=10, learning_rate=0.1, random_state=41, verbose=True)"
   ]
  },
  {
   "cell_type": "code",
   "execution_count": 50,
   "metadata": {
    "collapsed": false
   },
   "outputs": [
    {
     "name": "stdout",
     "output_type": "stream",
     "text": [
      "Step:\t0, Train Loss: 91.233704, Train Acc: 1.000000, Test Loss: 46.819688, Test Acc: 0.900000\n",
      "Step:\t1, Train Loss: 76.798422, Train Acc: 1.000000, Test Loss: 40.433184, Test Acc: 0.900000\n",
      "Step:\t2, Train Loss: 65.228626, Train Acc: 1.000000, Test Loss: 35.517533, Test Acc: 0.900000\n",
      "Step:\t3, Train Loss: 55.767827, Train Acc: 1.000000, Test Loss: 31.474368, Test Acc: 0.900000\n",
      "Step:\t4, Train Loss: 47.924348, Train Acc: 1.000000, Test Loss: 28.300957, Test Acc: 0.900000\n",
      "Step:\t5, Train Loss: 41.338072, Train Acc: 1.000000, Test Loss: 25.603698, Test Acc: 0.900000\n",
      "Step:\t6, Train Loss: 35.767285, Train Acc: 1.000000, Test Loss: 23.352331, Test Acc: 0.900000\n",
      "Step:\t7, Train Loss: 31.037134, Train Acc: 1.000000, Test Loss: 21.495225, Test Acc: 0.900000\n",
      "Step:\t8, Train Loss: 26.999859, Train Acc: 1.000000, Test Loss: 19.962699, Test Acc: 0.900000\n",
      "Step:\t9, Train Loss: 23.528586, Train Acc: 1.000000, Test Loss: 18.611715, Test Acc: 0.900000\n"
     ]
    }
   ],
   "source": [
    "model.fit(X_train, y_train, X_test, y_test)"
   ]
  },
  {
   "cell_type": "code",
   "execution_count": 51,
   "metadata": {
    "collapsed": false
   },
   "outputs": [
    {
     "data": {
      "text/plain": [
       "0.90000000000000002"
      ]
     },
     "execution_count": 51,
     "metadata": {},
     "output_type": "execute_result"
    }
   ],
   "source": [
    "accuracy_score(y_test, model.predict(X_test))"
   ]
  },
  {
   "cell_type": "markdown",
   "metadata": {},
   "source": [
    "### Sklearn Train 10 "
   ]
  },
  {
   "cell_type": "code",
   "execution_count": 52,
   "metadata": {
    "collapsed": true
   },
   "outputs": [],
   "source": [
    "model_sk = GBC(n_estimators=10, max_depth=3, verbose=1, criterion='mse', loss='deviance',\n",
    "               random_state=41)"
   ]
  },
  {
   "cell_type": "code",
   "execution_count": 53,
   "metadata": {
    "collapsed": false
   },
   "outputs": [
    {
     "name": "stdout",
     "output_type": "stream",
     "text": [
      "      Iter       Train Loss   Remaining Time \n",
      "         1          91.6490            0.03s\n",
      "         2          77.4005            0.02s\n",
      "         3          65.9026            0.02s\n",
      "         4          56.4531            0.02s\n",
      "         5          48.5777            0.01s\n",
      "         6          41.9493            0.01s\n",
      "         7          36.3391            0.01s\n",
      "         8          31.5647            0.00s\n",
      "         9          27.4819            0.00s\n",
      "        10          23.9637            0.00s\n"
     ]
    },
    {
     "data": {
      "text/plain": [
       "GradientBoostingClassifier(criterion='mse', init=None, learning_rate=0.1,\n",
       "              loss='deviance', max_depth=3, max_features=None,\n",
       "              max_leaf_nodes=None, min_impurity_split=1e-07,\n",
       "              min_samples_leaf=1, min_samples_split=2,\n",
       "              min_weight_fraction_leaf=0.0, n_estimators=10,\n",
       "              presort='auto', random_state=41, subsample=1.0, verbose=1,\n",
       "              warm_start=False)"
      ]
     },
     "execution_count": 53,
     "metadata": {},
     "output_type": "execute_result"
    }
   ],
   "source": [
    "model_sk.fit(X_train, y_train)"
   ]
  },
  {
   "cell_type": "code",
   "execution_count": 54,
   "metadata": {
    "collapsed": false,
    "scrolled": true
   },
   "outputs": [
    {
     "data": {
      "text/plain": [
       "0.90000000000000002"
      ]
     },
     "execution_count": 54,
     "metadata": {},
     "output_type": "execute_result"
    }
   ],
   "source": [
    "accuracy_score(y_test, model_sk.predict(X_test))"
   ]
  },
  {
   "cell_type": "markdown",
   "metadata": {},
   "source": [
    "# Plots"
   ]
  },
  {
   "cell_type": "code",
   "execution_count": 55,
   "metadata": {
    "collapsed": true
   },
   "outputs": [],
   "source": [
    "def compare_plot(name, myScore, sklearnScore, period):\n",
    "    myScore = np.array(myScore)\n",
    "    sklearnScore = np.array(sklearnScore)\n",
    "    plt.figure(figsize=(11,5))\n",
    "    plt.plot(period, myScore, 'g', label='My score')\n",
    "    plt.xlim(period[0], period[-1])\n",
    "    plt.plot(period, sklearnScore, 'b.', label='Sklearn score')\n",
    "    plt.plot(period, sklearnScore/0.97, 'r', label='Pass border')\n",
    "    plt.legend(loc=0)\n",
    "    plt.title('Gradient Boosting Regressor: ' + name)\n",
    "    plt.ylabel('score')\n",
    "    plt.xlabel('n_estimators')\n",
    "    plt.show()"
   ]
  },
  {
   "cell_type": "markdown",
   "metadata": {},
   "source": [
    "# More trees on spam"
   ]
  },
  {
   "cell_type": "code",
   "execution_count": 56,
   "metadata": {
    "collapsed": true
   },
   "outputs": [],
   "source": [
    "X_train, X_test, y_train, y_test = loadSpam(10)"
   ]
  },
  {
   "cell_type": "markdown",
   "metadata": {},
   "source": [
    "### Graphics 100"
   ]
  },
  {
   "cell_type": "code",
   "execution_count": 116,
   "metadata": {
    "collapsed": false
   },
   "outputs": [],
   "source": [
    "model = GradientBoostingClassifier(max_depth=3, n_estimators=100, learning_rate=0.1, random_state=41, verbose=True)"
   ]
  },
  {
   "cell_type": "code",
   "execution_count": 49,
   "metadata": {
    "collapsed": false,
    "scrolled": true
   },
   "outputs": [
    {
     "name": "stdout",
     "output_type": "stream",
     "text": [
      "Step:\t0, Train Loss: 1.243280, Train Acc: 0.581277, Test Loss: 1.148639, Test Acc: 0.797832\n",
      "Step:\t1, Train Loss: 1.146717, Train Acc: 0.795855, Test Loss: 1.098200, Test Acc: 0.899861\n",
      "Step:\t2, Train Loss: 1.066547, Train Acc: 0.864091, Test Loss: 1.040699, Test Acc: 0.906225\n",
      "Step:\t3, Train Loss: 0.997443, Train Acc: 0.869590, Test Loss: 0.998278, Test Acc: 0.906325\n",
      "Step:\t4, Train Loss: 0.931978, Train Acc: 0.896659, Test Loss: 0.972839, Test Acc: 0.887828\n",
      "Step:\t5, Train Loss: 0.876972, Train Acc: 0.893134, Test Loss: 0.923649, Test Acc: 0.912788\n",
      "Step:\t6, Train Loss: 0.827917, Train Acc: 0.906528, Test Loss: 0.869986, Test Acc: 0.912689\n",
      "Step:\t7, Train Loss: 0.781046, Train Acc: 0.911603, Test Loss: 0.861992, Test Acc: 0.905430\n",
      "Step:\t8, Train Loss: 0.743543, Train Acc: 0.915833, Test Loss: 0.834274, Test Acc: 0.915473\n",
      "Step:\t9, Train Loss: 0.706295, Train Acc: 0.923587, Test Loss: 0.823929, Test Acc: 0.908711\n",
      "Step:\t10, Train Loss: 0.670167, Train Acc: 0.925560, Test Loss: 0.798091, Test Acc: 0.917263\n",
      "Step:\t11, Train Loss: 0.635727, Train Acc: 0.931764, Test Loss: 0.763699, Test Acc: 0.918656\n",
      "Step:\t12, Train Loss: 0.607006, Train Acc: 0.935993, Test Loss: 0.736054, Test Acc: 0.924324\n",
      "Step:\t13, Train Loss: 0.582078, Train Acc: 0.937262, Test Loss: 0.714024, Test Acc: 0.925915\n",
      "Step:\t14, Train Loss: 0.556827, Train Acc: 0.940505, Test Loss: 0.690239, Test Acc: 0.928103\n",
      "Step:\t15, Train Loss: 0.535675, Train Acc: 0.943606, Test Loss: 0.691725, Test Acc: 0.923429\n",
      "Step:\t16, Train Loss: 0.513397, Train Acc: 0.944311, Test Loss: 0.658349, Test Acc: 0.932080\n",
      "Step:\t17, Train Loss: 0.493403, Train Acc: 0.946849, Test Loss: 0.645608, Test Acc: 0.928600\n",
      "Step:\t18, Train Loss: 0.475529, Train Acc: 0.948682, Test Loss: 0.630234, Test Acc: 0.930887\n",
      "Step:\t19, Train Loss: 0.458435, Train Acc: 0.949105, Test Loss: 0.603440, Test Acc: 0.931981\n",
      "Step:\t20, Train Loss: 0.440739, Train Acc: 0.948682, Test Loss: 0.586557, Test Acc: 0.932180\n",
      "Step:\t21, Train Loss: 0.426666, Train Acc: 0.949528, Test Loss: 0.577848, Test Acc: 0.928898\n",
      "Step:\t22, Train Loss: 0.412568, Train Acc: 0.950092, Test Loss: 0.563562, Test Acc: 0.929196\n",
      "Step:\t23, Train Loss: 0.399664, Train Acc: 0.951360, Test Loss: 0.540445, Test Acc: 0.932478\n",
      "Step:\t24, Train Loss: 0.389945, Train Acc: 0.952629, Test Loss: 0.527296, Test Acc: 0.934268\n",
      "Step:\t25, Train Loss: 0.377730, Train Acc: 0.953757, Test Loss: 0.515045, Test Acc: 0.935660\n",
      "Step:\t26, Train Loss: 0.366275, Train Acc: 0.955872, Test Loss: 0.505783, Test Acc: 0.936456\n",
      "Step:\t27, Train Loss: 0.356328, Train Acc: 0.957705, Test Loss: 0.498129, Test Acc: 0.937152\n",
      "Step:\t28, Train Loss: 0.347054, Train Acc: 0.958269, Test Loss: 0.492051, Test Acc: 0.936555\n",
      "Step:\t29, Train Loss: 0.338915, Train Acc: 0.960524, Test Loss: 0.483444, Test Acc: 0.937749\n",
      "Step:\t30, Train Loss: 0.330357, Train Acc: 0.961229, Test Loss: 0.490566, Test Acc: 0.934964\n",
      "Step:\t31, Train Loss: 0.322292, Train Acc: 0.962639, Test Loss: 0.485664, Test Acc: 0.935362\n",
      "Step:\t32, Train Loss: 0.314715, Train Acc: 0.961652, Test Loss: 0.478154, Test Acc: 0.935959\n",
      "Step:\t33, Train Loss: 0.306633, Train Acc: 0.963908, Test Loss: 0.469073, Test Acc: 0.937152\n",
      "Step:\t34, Train Loss: 0.300441, Train Acc: 0.963767, Test Loss: 0.466512, Test Acc: 0.934666\n",
      "Step:\t35, Train Loss: 0.294042, Train Acc: 0.964190, Test Loss: 0.452927, Test Acc: 0.935959\n",
      "Step:\t36, Train Loss: 0.288381, Train Acc: 0.964472, Test Loss: 0.453829, Test Acc: 0.936356\n",
      "Step:\t37, Train Loss: 0.282118, Train Acc: 0.964895, Test Loss: 0.445998, Test Acc: 0.937351\n",
      "Step:\t38, Train Loss: 0.276367, Train Acc: 0.965600, Test Loss: 0.441740, Test Acc: 0.937947\n",
      "Step:\t39, Train Loss: 0.270996, Train Acc: 0.965600, Test Loss: 0.436513, Test Acc: 0.940434\n",
      "Step:\t40, Train Loss: 0.266020, Train Acc: 0.966446, Test Loss: 0.429777, Test Acc: 0.940434\n",
      "Step:\t41, Train Loss: 0.261070, Train Acc: 0.966446, Test Loss: 0.427519, Test Acc: 0.940135\n",
      "Step:\t42, Train Loss: 0.256858, Train Acc: 0.967151, Test Loss: 0.418903, Test Acc: 0.940931\n",
      "Step:\t43, Train Loss: 0.252039, Train Acc: 0.967574, Test Loss: 0.411000, Test Acc: 0.940931\n",
      "Step:\t44, Train Loss: 0.247799, Train Acc: 0.968279, Test Loss: 0.408214, Test Acc: 0.943218\n",
      "Step:\t45, Train Loss: 0.243351, Train Acc: 0.969406, Test Loss: 0.403252, Test Acc: 0.943914\n",
      "Step:\t46, Train Loss: 0.238921, Train Acc: 0.969547, Test Loss: 0.410572, Test Acc: 0.940135\n",
      "Step:\t47, Train Loss: 0.234921, Train Acc: 0.969547, Test Loss: 0.408939, Test Acc: 0.938743\n",
      "Step:\t48, Train Loss: 0.231090, Train Acc: 0.971098, Test Loss: 0.411768, Test Acc: 0.937848\n",
      "Step:\t49, Train Loss: 0.227969, Train Acc: 0.971803, Test Loss: 0.410230, Test Acc: 0.937152\n",
      "Step:\t50, Train Loss: 0.224536, Train Acc: 0.972508, Test Loss: 0.406719, Test Acc: 0.938842\n",
      "Step:\t51, Train Loss: 0.221224, Train Acc: 0.972367, Test Loss: 0.400262, Test Acc: 0.939539\n",
      "Step:\t52, Train Loss: 0.218288, Train Acc: 0.973072, Test Loss: 0.399878, Test Acc: 0.939141\n",
      "Step:\t53, Train Loss: 0.214605, Train Acc: 0.973354, Test Loss: 0.396050, Test Acc: 0.940434\n",
      "Step:\t54, Train Loss: 0.211280, Train Acc: 0.973777, Test Loss: 0.392948, Test Acc: 0.940533\n",
      "Step:\t55, Train Loss: 0.208316, Train Acc: 0.974905, Test Loss: 0.389788, Test Acc: 0.940135\n",
      "Step:\t56, Train Loss: 0.206188, Train Acc: 0.974482, Test Loss: 0.385147, Test Acc: 0.940632\n",
      "Step:\t57, Train Loss: 0.203727, Train Acc: 0.974623, Test Loss: 0.381523, Test Acc: 0.941428\n",
      "Step:\t58, Train Loss: 0.201235, Train Acc: 0.975187, Test Loss: 0.378385, Test Acc: 0.942025\n",
      "Step:\t59, Train Loss: 0.198938, Train Acc: 0.975328, Test Loss: 0.377771, Test Acc: 0.941229\n",
      "Step:\t60, Train Loss: 0.196494, Train Acc: 0.974623, Test Loss: 0.375308, Test Acc: 0.941229\n",
      "Step:\t61, Train Loss: 0.194034, Train Acc: 0.975610, Test Loss: 0.369795, Test Acc: 0.942522\n",
      "Step:\t62, Train Loss: 0.191688, Train Acc: 0.976174, Test Loss: 0.366236, Test Acc: 0.942025\n",
      "Step:\t63, Train Loss: 0.189033, Train Acc: 0.976738, Test Loss: 0.363049, Test Acc: 0.944809\n",
      "Step:\t64, Train Loss: 0.186737, Train Acc: 0.976879, Test Loss: 0.360463, Test Acc: 0.945804\n",
      "Step:\t65, Train Loss: 0.184737, Train Acc: 0.976456, Test Loss: 0.361505, Test Acc: 0.943715\n",
      "Step:\t66, Train Loss: 0.182236, Train Acc: 0.977161, Test Loss: 0.368965, Test Acc: 0.941428\n",
      "Step:\t67, Train Loss: 0.180334, Train Acc: 0.977584, Test Loss: 0.367586, Test Acc: 0.941627\n",
      "Step:\t68, Train Loss: 0.178789, Train Acc: 0.978006, Test Loss: 0.366522, Test Acc: 0.940931\n",
      "Step:\t69, Train Loss: 0.176939, Train Acc: 0.977725, Test Loss: 0.359088, Test Acc: 0.943417\n",
      "Step:\t70, Train Loss: 0.175075, Train Acc: 0.978711, Test Loss: 0.356705, Test Acc: 0.944809\n",
      "Step:\t71, Train Loss: 0.172964, Train Acc: 0.978429, Test Loss: 0.357243, Test Acc: 0.944014\n",
      "Step:\t72, Train Loss: 0.171087, Train Acc: 0.979134, Test Loss: 0.353322, Test Acc: 0.944610\n",
      "Step:\t73, Train Loss: 0.169385, Train Acc: 0.979698, Test Loss: 0.358084, Test Acc: 0.943914\n",
      "Step:\t74, Train Loss: 0.168108, Train Acc: 0.979980, Test Loss: 0.356975, Test Acc: 0.945008\n",
      "Step:\t75, Train Loss: 0.167036, Train Acc: 0.979980, Test Loss: 0.356568, Test Acc: 0.944909\n",
      "Step:\t76, Train Loss: 0.165310, Train Acc: 0.979980, Test Loss: 0.354426, Test Acc: 0.946002\n",
      "Step:\t77, Train Loss: 0.164104, Train Acc: 0.980403, Test Loss: 0.354600, Test Acc: 0.946997\n",
      "Step:\t78, Train Loss: 0.162456, Train Acc: 0.981108, Test Loss: 0.352010, Test Acc: 0.946002\n",
      "Step:\t79, Train Loss: 0.160053, Train Acc: 0.981531, Test Loss: 0.347731, Test Acc: 0.947295\n",
      "Step:\t80, Train Loss: 0.158813, Train Acc: 0.980967, Test Loss: 0.347765, Test Acc: 0.945804\n",
      "Step:\t81, Train Loss: 0.156747, Train Acc: 0.981672, Test Loss: 0.344178, Test Acc: 0.947991\n",
      "Step:\t82, Train Loss: 0.154544, Train Acc: 0.982518, Test Loss: 0.341359, Test Acc: 0.946997\n",
      "Step:\t83, Train Loss: 0.153238, Train Acc: 0.982941, Test Loss: 0.342616, Test Acc: 0.945804\n",
      "Step:\t84, Train Loss: 0.152004, Train Acc: 0.982941, Test Loss: 0.343538, Test Acc: 0.945605\n",
      "Step:\t85, Train Loss: 0.150706, Train Acc: 0.983082, Test Loss: 0.343819, Test Acc: 0.945605\n",
      "Step:\t86, Train Loss: 0.149266, Train Acc: 0.983505, Test Loss: 0.340569, Test Acc: 0.946400\n",
      "Step:\t87, Train Loss: 0.148307, Train Acc: 0.983787, Test Loss: 0.344170, Test Acc: 0.945505\n",
      "Step:\t88, Train Loss: 0.147396, Train Acc: 0.984069, Test Loss: 0.341389, Test Acc: 0.946500\n",
      "Step:\t89, Train Loss: 0.146410, Train Acc: 0.983787, Test Loss: 0.340069, Test Acc: 0.947096\n",
      "Step:\t90, Train Loss: 0.145319, Train Acc: 0.983787, Test Loss: 0.341561, Test Acc: 0.946698\n",
      "Step:\t91, Train Loss: 0.144101, Train Acc: 0.984351, Test Loss: 0.336662, Test Acc: 0.947693\n",
      "Step:\t92, Train Loss: 0.142937, Train Acc: 0.983787, Test Loss: 0.335518, Test Acc: 0.948389\n",
      "Step:\t93, Train Loss: 0.141999, Train Acc: 0.984210, Test Loss: 0.334718, Test Acc: 0.948588\n",
      "Step:\t94, Train Loss: 0.141232, Train Acc: 0.984492, Test Loss: 0.333973, Test Acc: 0.948190\n",
      "Step:\t95, Train Loss: 0.139673, Train Acc: 0.984774, Test Loss: 0.337189, Test Acc: 0.946500\n",
      "Step:\t96, Train Loss: 0.139100, Train Acc: 0.984915, Test Loss: 0.337301, Test Acc: 0.946500\n",
      "Step:\t97, Train Loss: 0.138267, Train Acc: 0.985197, Test Loss: 0.335229, Test Acc: 0.947096\n",
      "Step:\t98, Train Loss: 0.137103, Train Acc: 0.985338, Test Loss: 0.332612, Test Acc: 0.947892\n",
      "Step:\t99, Train Loss: 0.136284, Train Acc: 0.985479, Test Loss: 0.331591, Test Acc: 0.949284\n"
     ]
    }
   ],
   "source": [
    "#model.fit(X_train, y_train, X_test, y_test)"
   ]
  },
  {
   "cell_type": "code",
   "execution_count": 50,
   "metadata": {
    "collapsed": true
   },
   "outputs": [],
   "source": [
    "model_sk = GBC(n_estimators=100, max_depth=3, criterion='mse', loss='deviance',\n",
    "               random_state=41)"
   ]
  },
  {
   "cell_type": "code",
   "execution_count": 51,
   "metadata": {
    "collapsed": false
   },
   "outputs": [
    {
     "data": {
      "text/plain": [
       "GradientBoostingClassifier(criterion='mse', init=None, learning_rate=0.1,\n",
       "              loss='deviance', max_depth=3, max_features=None,\n",
       "              max_leaf_nodes=None, min_impurity_split=1e-07,\n",
       "              min_samples_leaf=1, min_samples_split=2,\n",
       "              min_weight_fraction_leaf=0.0, n_estimators=100,\n",
       "              presort='auto', random_state=41, subsample=1.0, verbose=0,\n",
       "              warm_start=False)"
      ]
     },
     "execution_count": 51,
     "metadata": {},
     "output_type": "execute_result"
    }
   ],
   "source": [
    "model_sk.fit(X_train, y_train)"
   ]
  },
  {
   "cell_type": "code",
   "execution_count": 52,
   "metadata": {
    "collapsed": false
   },
   "outputs": [
    {
     "data": {
      "image/png": "[encoded data removed]",
      "text/plain": [
       "<matplotlib.figure.Figure at 0x11b1eb290>"
      ]
     },
     "metadata": {},
     "output_type": "display_data"
    }
   ],
   "source": [
    "compare_plot('Test',\n",
    "             model.test_losses,\n",
    "             [LogisticLoss()(y_test, y_pred) for y_pred in model_sk.staged_decision_function(X_test)],\n",
    "             range(1, len(model.test_losses)+1))"
   ]
  },
  {
   "cell_type": "code",
   "execution_count": 53,
   "metadata": {
    "collapsed": false
   },
   "outputs": [
    {
     "data": {
      "image/png": "[encoded data removed]",
      "text/plain": [
       "<matplotlib.figure.Figure at 0x11b1df090>"
      ]
     },
     "metadata": {},
     "output_type": "display_data"
    }
   ],
   "source": [
    "compare_plot('Train',\n",
    "             model.train_losses,\n",
    "             [LogisticLoss()(y_train, y_pred) for y_pred in model_sk.staged_decision_function(X_train)],\n",
    "             range(1, len(model.train_losses)+1))"
   ]
  },
  {
   "cell_type": "markdown",
   "metadata": {},
   "source": [
    "# More trees on wine"
   ]
  },
  {
   "cell_type": "code",
   "execution_count": 57,
   "metadata": {
    "collapsed": true
   },
   "outputs": [],
   "source": [
    "X_train, X_test, y_train, y_test = loadWine(10)"
   ]
  },
  {
   "cell_type": "markdown",
   "metadata": {},
   "source": [
    "### Graphics 100"
   ]
  },
  {
   "cell_type": "code",
   "execution_count": 58,
   "metadata": {
    "collapsed": false
   },
   "outputs": [],
   "source": [
    "model = GradientBoostingClassifier(max_depth=3, n_estimators=100, learning_rate=0.1, random_state=41, verbose=True)"
   ]
  },
  {
   "cell_type": "code",
   "execution_count": 59,
   "metadata": {
    "collapsed": false,
    "scrolled": true
   },
   "outputs": [
    {
     "name": "stdout",
     "output_type": "stream",
     "text": [
      "Step:\t0, Train Loss: 107.886063, Train Acc: 1.000000, Test Loss: 55.855207, Test Acc: 0.830508\n",
      "Step:\t1, Train Loss: 90.414445, Train Acc: 1.000000, Test Loss: 49.201887, Test Acc: 0.830508\n",
      "Step:\t2, Train Loss: 76.438654, Train Acc: 1.000000, Test Loss: 43.924257, Test Acc: 0.830508\n",
      "Step:\t3, Train Loss: 65.037067, Train Acc: 1.000000, Test Loss: 39.654741, Test Acc: 0.830508\n",
      "Step:\t4, Train Loss: 55.605629, Train Acc: 1.000000, Test Loss: 36.153633, Test Acc: 0.830508\n",
      "Step:\t5, Train Loss: 47.723348, Train Acc: 1.000000, Test Loss: 33.254669, Test Acc: 0.830508\n",
      "Step:\t6, Train Loss: 41.083634, Train Acc: 1.000000, Test Loss: 30.837295, Test Acc: 0.830508\n",
      "Step:\t7, Train Loss: 35.455772, Train Acc: 1.000000, Test Loss: 28.811032, Test Acc: 0.830508\n",
      "Step:\t8, Train Loss: 30.661701, Train Acc: 1.000000, Test Loss: 27.106500, Test Acc: 0.830508\n",
      "Step:\t9, Train Loss: 26.561233, Train Acc: 1.000000, Test Loss: 25.669238, Test Acc: 0.830508\n",
      "Step:\t10, Train Loss: 23.042206, Train Acc: 1.000000, Test Loss: 24.455613, Test Acc: 0.830508\n",
      "Step:\t11, Train Loss: 20.013694, Train Acc: 1.000000, Test Loss: 23.430418, Test Acc: 0.830508\n",
      "Step:\t12, Train Loss: 17.401180, Train Acc: 1.000000, Test Loss: 22.564857, Test Acc: 0.830508\n",
      "Step:\t13, Train Loss: 15.143027, Train Acc: 1.000000, Test Loss: 21.835155, Test Acc: 0.830508\n",
      "Step:\t14, Train Loss: 13.187864, Train Acc: 1.000000, Test Loss: 21.221475, Test Acc: 0.830508\n",
      "Step:\t15, Train Loss: 11.492587, Train Acc: 1.000000, Test Loss: 20.707337, Test Acc: 0.830508\n",
      "Step:\t16, Train Loss: 10.020832, Train Acc: 1.000000, Test Loss: 20.278722, Test Acc: 0.830508\n",
      "Step:\t17, Train Loss: 8.741766, Train Acc: 1.000000, Test Loss: 19.923754, Test Acc: 0.830508\n",
      "Step:\t18, Train Loss: 7.629143, Train Acc: 1.000000, Test Loss: 19.632367, Test Acc: 0.830508\n",
      "Step:\t19, Train Loss: 6.660538, Train Acc: 1.000000, Test Loss: 19.396021, Test Acc: 0.830508\n",
      "Step:\t20, Train Loss: 5.816731, Train Acc: 1.000000, Test Loss: 19.207355, Test Acc: 0.830508\n",
      "Step:\t21, Train Loss: 5.081207, Train Acc: 1.000000, Test Loss: 19.060047, Test Acc: 0.830508\n",
      "Step:\t22, Train Loss: 4.439740, Train Acc: 1.000000, Test Loss: 18.951402, Test Acc: 0.830508\n",
      "Step:\t23, Train Loss: 3.880053, Train Acc: 1.000000, Test Loss: 18.870891, Test Acc: 0.830508\n",
      "Step:\t24, Train Loss: 3.391531, Train Acc: 1.000000, Test Loss: 18.817584, Test Acc: 0.830508\n",
      "Step:\t25, Train Loss: 2.964979, Train Acc: 1.000000, Test Loss: 18.790057, Test Acc: 0.830508\n",
      "Step:\t26, Train Loss: 2.592428, Train Acc: 1.000000, Test Loss: 18.780816, Test Acc: 0.830508\n",
      "Step:\t27, Train Loss: 2.266957, Train Acc: 1.000000, Test Loss: 18.789599, Test Acc: 0.830508\n",
      "Step:\t28, Train Loss: 1.982554, Train Acc: 1.000000, Test Loss: 18.814102, Test Acc: 0.830508\n",
      "Step:\t29, Train Loss: 1.733988, Train Acc: 1.000000, Test Loss: 18.852322, Test Acc: 0.830508\n",
      "Step:\t30, Train Loss: 1.516706, Train Acc: 1.000000, Test Loss: 18.902515, Test Acc: 0.830508\n",
      "Step:\t31, Train Loss: 1.326743, Train Acc: 1.000000, Test Loss: 18.963163, Test Acc: 0.830508\n",
      "Step:\t32, Train Loss: 1.160642, Train Acc: 1.000000, Test Loss: 19.032943, Test Acc: 0.830508\n",
      "Step:\t33, Train Loss: 1.015390, Train Acc: 1.000000, Test Loss: 19.110701, Test Acc: 0.830508\n",
      "Step:\t34, Train Loss: 0.888356, Train Acc: 1.000000, Test Loss: 19.195431, Test Acc: 0.830508\n",
      "Step:\t35, Train Loss: 0.777247, Train Acc: 1.000000, Test Loss: 19.286255, Test Acc: 0.830508\n",
      "Step:\t36, Train Loss: 0.680059, Train Acc: 1.000000, Test Loss: 19.382404, Test Acc: 0.830508\n",
      "Step:\t37, Train Loss: 0.595041, Train Acc: 1.000000, Test Loss: 19.483211, Test Acc: 0.830508\n",
      "Step:\t38, Train Loss: 0.520666, Train Acc: 1.000000, Test Loss: 19.588089, Test Acc: 0.830508\n",
      "Step:\t39, Train Loss: 0.455598, Train Acc: 1.000000, Test Loss: 19.696529, Test Acc: 0.830508\n",
      "Step:\t40, Train Loss: 0.398670, Train Acc: 1.000000, Test Loss: 19.808083, Test Acc: 0.830508\n",
      "Step:\t41, Train Loss: 0.348861, Train Acc: 1.000000, Test Loss: 19.922361, Test Acc: 0.830508\n",
      "Step:\t42, Train Loss: 0.305280, Train Acc: 1.000000, Test Loss: 20.039021, Test Acc: 0.830508\n",
      "Step:\t43, Train Loss: 0.267147, Train Acc: 1.000000, Test Loss: 20.157766, Test Acc: 0.830508\n",
      "Step:\t44, Train Loss: 0.233780, Train Acc: 1.000000, Test Loss: 20.278334, Test Acc: 0.830508\n",
      "Step:\t45, Train Loss: 0.204583, Train Acc: 1.000000, Test Loss: 20.400498, Test Acc: 0.830508\n",
      "Step:\t46, Train Loss: 0.179432, Train Acc: 1.000000, Test Loss: 20.520848, Test Acc: 0.830508\n",
      "Step:\t47, Train Loss: 0.157421, Train Acc: 1.000000, Test Loss: 20.642009, Test Acc: 0.830508\n",
      "Step:\t48, Train Loss: 0.138475, Train Acc: 1.000000, Test Loss: 20.763914, Test Acc: 0.830508\n",
      "Step:\t49, Train Loss: 0.121891, Train Acc: 1.000000, Test Loss: 20.886247, Test Acc: 0.830508\n",
      "Step:\t50, Train Loss: 0.107666, Train Acc: 1.000000, Test Loss: 20.499860, Test Acc: 0.898305\n",
      "Step:\t51, Train Loss: 0.095204, Train Acc: 1.000000, Test Loss: 20.140948, Test Acc: 0.898305\n",
      "Step:\t52, Train Loss: 0.084285, Train Acc: 1.000000, Test Loss: 19.809052, Test Acc: 0.949153\n",
      "Step:\t53, Train Loss: 0.074869, Train Acc: 1.000000, Test Loss: 19.501955, Test Acc: 0.949153\n",
      "Step:\t54, Train Loss: 0.067003, Train Acc: 1.000000, Test Loss: 19.167721, Test Acc: 0.949153\n",
      "Step:\t55, Train Loss: 0.059876, Train Acc: 1.000000, Test Loss: 18.881851, Test Acc: 0.949153\n",
      "Step:\t56, Train Loss: 0.054197, Train Acc: 1.000000, Test Loss: 18.576861, Test Acc: 0.949153\n",
      "Step:\t57, Train Loss: 0.050886, Train Acc: 1.000000, Test Loss: 18.653531, Test Acc: 0.949153\n",
      "Step:\t58, Train Loss: 0.049396, Train Acc: 1.000000, Test Loss: 18.631597, Test Acc: 0.949153\n",
      "Step:\t59, Train Loss: 0.049383, Train Acc: 1.000000, Test Loss: 18.622788, Test Acc: 0.949153\n",
      "Step:\t60, Train Loss: 0.049371, Train Acc: 1.000000, Test Loss: 18.614939, Test Acc: 0.949153\n",
      "Step:\t61, Train Loss: 0.049362, Train Acc: 1.000000, Test Loss: 18.607937, Test Acc: 0.949153\n",
      "Step:\t62, Train Loss: 0.049355, Train Acc: 1.000000, Test Loss: 18.601685, Test Acc: 0.949153\n",
      "Step:\t63, Train Loss: 0.049348, Train Acc: 1.000000, Test Loss: 18.596097, Test Acc: 0.949153\n",
      "Step:\t64, Train Loss: 0.049344, Train Acc: 1.000000, Test Loss: 18.591098, Test Acc: 0.949153\n",
      "Step:\t65, Train Loss: 0.049339, Train Acc: 1.000000, Test Loss: 18.586623, Test Acc: 0.949153\n",
      "Step:\t66, Train Loss: 0.049336, Train Acc: 1.000000, Test Loss: 18.582614, Test Acc: 0.949153\n",
      "Step:\t67, Train Loss: 0.049333, Train Acc: 1.000000, Test Loss: 18.579019, Test Acc: 0.949153\n",
      "Step:\t68, Train Loss: 0.049331, Train Acc: 1.000000, Test Loss: 18.575794, Test Acc: 0.949153\n",
      "Step:\t69, Train Loss: 0.049329, Train Acc: 1.000000, Test Loss: 18.572900, Test Acc: 0.949153\n",
      "Step:\t70, Train Loss: 0.049328, Train Acc: 1.000000, Test Loss: 18.570301, Test Acc: 0.949153\n",
      "Step:\t71, Train Loss: 0.049327, Train Acc: 1.000000, Test Loss: 18.567965, Test Acc: 0.949153\n",
      "Step:\t72, Train Loss: 0.049326, Train Acc: 1.000000, Test Loss: 18.565866, Test Acc: 0.949153\n",
      "Step:\t73, Train Loss: 0.049325, Train Acc: 1.000000, Test Loss: 18.563978, Test Acc: 0.949153\n",
      "Step:\t74, Train Loss: 0.049324, Train Acc: 1.000000, Test Loss: 18.562279, Test Acc: 0.949153\n",
      "Step:\t75, Train Loss: 0.049324, Train Acc: 1.000000, Test Loss: 18.560751, Test Acc: 0.949153\n",
      "Step:\t76, Train Loss: 0.049323, Train Acc: 1.000000, Test Loss: 18.559376, Test Acc: 0.949153\n",
      "Step:\t77, Train Loss: 0.049323, Train Acc: 1.000000, Test Loss: 18.558137, Test Acc: 0.949153\n",
      "Step:\t78, Train Loss: 0.049323, Train Acc: 1.000000, Test Loss: 18.557022, Test Acc: 0.949153\n",
      "Step:\t79, Train Loss: 0.049323, Train Acc: 1.000000, Test Loss: 18.556017, Test Acc: 0.949153\n",
      "Step:\t80, Train Loss: 0.049322, Train Acc: 1.000000, Test Loss: 18.555112, Test Acc: 0.949153\n",
      "Step:\t81, Train Loss: 0.049322, Train Acc: 1.000000, Test Loss: 18.554296, Test Acc: 0.949153\n",
      "Step:\t82, Train Loss: 0.049322, Train Acc: 1.000000, Test Loss: 18.553561, Test Acc: 0.949153\n",
      "Step:\t83, Train Loss: 0.049322, Train Acc: 1.000000, Test Loss: 18.552898, Test Acc: 0.949153\n",
      "Step:\t84, Train Loss: 0.049322, Train Acc: 1.000000, Test Loss: 18.552300, Test Acc: 0.949153\n",
      "Step:\t85, Train Loss: 0.049322, Train Acc: 1.000000, Test Loss: 18.551762, Test Acc: 0.949153\n",
      "Step:\t86, Train Loss: 0.049322, Train Acc: 1.000000, Test Loss: 18.551276, Test Acc: 0.949153\n",
      "Step:\t87, Train Loss: 0.049322, Train Acc: 1.000000, Test Loss: 18.550838, Test Acc: 0.949153\n",
      "Step:\t88, Train Loss: 0.049322, Train Acc: 1.000000, Test Loss: 18.550443, Test Acc: 0.949153\n",
      "Step:\t89, Train Loss: 0.049322, Train Acc: 1.000000, Test Loss: 18.550086, Test Acc: 0.949153\n",
      "Step:\t90, Train Loss: 0.049322, Train Acc: 1.000000, Test Loss: 18.549765, Test Acc: 0.949153\n",
      "Step:\t91, Train Loss: 0.049322, Train Acc: 1.000000, Test Loss: 18.549475, Test Acc: 0.949153\n",
      "Step:\t92, Train Loss: 0.049322, Train Acc: 1.000000, Test Loss: 18.549213, Test Acc: 0.949153\n",
      "Step:\t93, Train Loss: 0.049322, Train Acc: 1.000000, Test Loss: 18.548977, Test Acc: 0.949153\n",
      "Step:\t94, Train Loss: 0.049322, Train Acc: 1.000000, Test Loss: 18.548764, Test Acc: 0.949153\n",
      "Step:\t95, Train Loss: 0.049322, Train Acc: 1.000000, Test Loss: 18.548572, Test Acc: 0.949153\n",
      "Step:\t96, Train Loss: 0.049322, Train Acc: 1.000000, Test Loss: 18.548398, Test Acc: 0.949153\n",
      "Step:\t97, Train Loss: 0.049322, Train Acc: 1.000000, Test Loss: 18.548242, Test Acc: 0.949153\n",
      "Step:\t98, Train Loss: 0.049322, Train Acc: 1.000000, Test Loss: 18.548101, Test Acc: 0.949153\n",
      "Step:\t99, Train Loss: 0.049322, Train Acc: 1.000000, Test Loss: 18.547973, Test Acc: 0.949153\n"
     ]
    }
   ],
   "source": [
    "model.fit(X_train, y_train, X_test, y_test)"
   ]
  },
  {
   "cell_type": "code",
   "execution_count": 60,
   "metadata": {
    "collapsed": true
   },
   "outputs": [],
   "source": [
    "model_sk = GBC(n_estimators=100, max_depth=3, criterion='mse', loss='deviance',\n",
    "               random_state=41, verbose=True)"
   ]
  },
  {
   "cell_type": "code",
   "execution_count": 61,
   "metadata": {
    "collapsed": false
   },
   "outputs": [
    {
     "name": "stdout",
     "output_type": "stream",
     "text": [
      "      Iter       Train Loss   Remaining Time \n",
      "         1         108.4048            0.35s\n",
      "         2          91.1632            0.29s\n",
      "         3          77.2745            0.26s\n",
      "         4          65.8847            0.28s\n",
      "         5          56.4246            0.28s\n",
      "         6          48.4927            0.26s\n",
      "         7          41.7935            0.25s\n",
      "         8          36.1028            0.24s\n",
      "         9          31.2464            0.24s\n",
      "        10          27.0862            0.23s\n",
      "        20           6.8142            0.19s\n",
      "        30           1.7754            0.16s\n",
      "        40           0.4666            0.15s\n",
      "        50           0.1248            0.12s\n",
      "        60           0.0478            0.09s\n",
      "        70           0.0477            0.06s\n",
      "        80           0.0477            0.04s\n",
      "        90           0.0477            0.02s\n",
      "       100           0.0477            0.00s\n"
     ]
    },
    {
     "data": {
      "text/plain": [
       "GradientBoostingClassifier(criterion='mse', init=None, learning_rate=0.1,\n",
       "              loss='deviance', max_depth=3, max_features=None,\n",
       "              max_leaf_nodes=None, min_impurity_split=1e-07,\n",
       "              min_samples_leaf=1, min_samples_split=2,\n",
       "              min_weight_fraction_leaf=0.0, n_estimators=100,\n",
       "              presort='auto', random_state=41, subsample=1.0, verbose=True,\n",
       "              warm_start=False)"
      ]
     },
     "execution_count": 61,
     "metadata": {},
     "output_type": "execute_result"
    }
   ],
   "source": [
    "model_sk.fit(X_train, y_train)"
   ]
  },
  {
   "cell_type": "code",
   "execution_count": 62,
   "metadata": {
    "collapsed": false
   },
   "outputs": [
    {
     "data": {
      "image/png": "[encoded data removed]",
      "text/plain": [
       "<matplotlib.figure.Figure at 0x11b99d550>"
      ]
     },
     "metadata": {},
     "output_type": "display_data"
    }
   ],
   "source": [
    "compare_plot('Test',\n",
    "             model.test_losses,\n",
    "             [MultiLogisticLoss(3)(y_test, y_pred) for y_pred in model_sk.staged_decision_function(X_test)],\n",
    "             range(1, len(model.test_losses)+1))"
   ]
  },
  {
   "cell_type": "code",
   "execution_count": 63,
   "metadata": {
    "collapsed": false
   },
   "outputs": [
    {
     "data": {
      "image/png": "[encoded data removed]",
      "text/plain": [
       "<matplotlib.figure.Figure at 0x11bce2050>"
      ]
     },
     "metadata": {},
     "output_type": "display_data"
    }
   ],
   "source": [
    "compare_plot('Train',\n",
    "             model.train_losses,\n",
    "             [MultiLogisticLoss(3)(y_train, y_pred) for y_pred in model_sk.staged_decision_function(X_train)],\n",
    "             range(1, len(model.train_losses)+1))"
   ]
  },
  {
   "cell_type": "markdown",
   "metadata": {},
   "source": [
    "## Weighted voting"
   ]
  },
  {
   "cell_type": "code",
   "execution_count": 84,
   "metadata": {
    "collapsed": true
   },
   "outputs": [],
   "source": [
    "from sklearn.linear_model import LogisticRegression"
   ]
  },
  {
   "cell_type": "code",
   "execution_count": 85,
   "metadata": {
    "collapsed": true
   },
   "outputs": [],
   "source": [
    "from sklearn.neighbors import KNeighborsClassifier"
   ]
  },
  {
   "cell_type": "code",
   "execution_count": 97,
   "metadata": {
    "collapsed": true
   },
   "outputs": [],
   "source": [
    "X_train, X_test, y_train, y_test = loadSpam(10)"
   ]
  },
  {
   "cell_type": "code",
   "execution_count": 98,
   "metadata": {
    "collapsed": false
   },
   "outputs": [
    {
     "data": {
      "text/plain": [
       "LogisticRegression(C=1.0, class_weight=None, dual=False, fit_intercept=True,\n",
       "          intercept_scaling=1, max_iter=100, multi_class='ovr', n_jobs=1,\n",
       "          penalty='l2', random_state=None, solver='liblinear', tol=0.0001,\n",
       "          verbose=0, warm_start=False)"
      ]
     },
     "execution_count": 98,
     "metadata": {},
     "output_type": "execute_result"
    }
   ],
   "source": [
    "LR = LogisticRegression()\n",
    "LR.fit(X_train, y_train)"
   ]
  },
  {
   "cell_type": "code",
   "execution_count": 99,
   "metadata": {
    "collapsed": false
   },
   "outputs": [
    {
     "data": {
      "text/plain": [
       "KNeighborsClassifier(algorithm='auto', leaf_size=30, metric='minkowski',\n",
       "           metric_params=None, n_jobs=1, n_neighbors=5, p=2,\n",
       "           weights='uniform')"
      ]
     },
     "execution_count": 99,
     "metadata": {},
     "output_type": "execute_result"
    }
   ],
   "source": [
    "KNN = KNeighborsClassifier()\n",
    "KNN.fit(X_train, y_train)"
   ]
  },
  {
   "cell_type": "code",
   "execution_count": 100,
   "metadata": {
    "collapsed": false
   },
   "outputs": [
    {
     "name": "stdout",
     "output_type": "stream",
     "text": [
      "Step:\t0, Train Loss: 1.243280, Train Acc: 0.581277, \n",
      "Step:\t1, Train Loss: 1.146717, Train Acc: 0.795855, \n",
      "Step:\t2, Train Loss: 1.066547, Train Acc: 0.864091, \n",
      "Step:\t3, Train Loss: 0.997443, Train Acc: 0.869590, \n",
      "Step:\t4, Train Loss: 0.931978, Train Acc: 0.896659, \n",
      "Step:\t5, Train Loss: 0.876972, Train Acc: 0.893134, \n",
      "Step:\t6, Train Loss: 0.827917, Train Acc: 0.906528, \n",
      "Step:\t7, Train Loss: 0.781046, Train Acc: 0.911603, \n",
      "Step:\t8, Train Loss: 0.743543, Train Acc: 0.915833, \n",
      "Step:\t9, Train Loss: 0.706295, Train Acc: 0.923587, \n"
     ]
    }
   ],
   "source": [
    "GB = GradientBoostingClassifier(n_estimators=10, verbose=True)\n",
    "GB.fit(X_train, y_train)"
   ]
  },
  {
   "cell_type": "code",
   "execution_count": 103,
   "metadata": {
    "collapsed": false
   },
   "outputs": [],
   "source": [
    "features = np.array([model.predict(X_train) for model in [LR,GB,KNN]]).T"
   ]
  },
  {
   "cell_type": "code",
   "execution_count": 104,
   "metadata": {
    "collapsed": false
   },
   "outputs": [
    {
     "data": {
      "text/plain": [
       "(7093, 3)"
      ]
     },
     "execution_count": 104,
     "metadata": {},
     "output_type": "execute_result"
    }
   ],
   "source": [
    "features.shape"
   ]
  },
  {
   "cell_type": "code",
   "execution_count": 105,
   "metadata": {
    "collapsed": true
   },
   "outputs": [],
   "source": [
    "from sklearn.svm import SVC"
   ]
  },
  {
   "cell_type": "code",
   "execution_count": 106,
   "metadata": {
    "collapsed": true
   },
   "outputs": [],
   "source": [
    "WV = SVC()"
   ]
  },
  {
   "cell_type": "code",
   "execution_count": 107,
   "metadata": {
    "collapsed": false
   },
   "outputs": [
    {
     "data": {
      "text/plain": [
       "SVC(C=1.0, cache_size=200, class_weight=None, coef0=0.0,\n",
       "  decision_function_shape=None, degree=3, gamma='auto', kernel='rbf',\n",
       "  max_iter=-1, probability=False, random_state=None, shrinking=True,\n",
       "  tol=0.001, verbose=False)"
      ]
     },
     "execution_count": 107,
     "metadata": {},
     "output_type": "execute_result"
    }
   ],
   "source": [
    "WV.fit(features, y_train)"
   ]
  },
  {
   "cell_type": "code",
   "execution_count": 115,
   "metadata": {
    "collapsed": false
   },
   "outputs": [],
   "source": [
    "test_features = np.array([model.predict(X_test) for model in [LR, GB, KNN]]).T"
   ]
  },
  {
   "cell_type": "code",
   "execution_count": 116,
   "metadata": {
    "collapsed": true
   },
   "outputs": [],
   "source": [
    "predicted = WV.predict(test_features)"
   ]
  },
  {
   "cell_type": "code",
   "execution_count": 117,
   "metadata": {
    "collapsed": false
   },
   "outputs": [
    {
     "data": {
      "text/plain": [
       "0.94162688941925221"
      ]
     },
     "execution_count": 117,
     "metadata": {},
     "output_type": "execute_result"
    }
   ],
   "source": [
    "accuracy_score(y_test, predicted)"
   ]
  },
  {
   "cell_type": "code",
   "execution_count": 118,
   "metadata": {
    "collapsed": true
   },
   "outputs": [],
   "source": [
    "sk_gb = GBC(n_estimators=10)"
   ]
  },
  {
   "cell_type": "code",
   "execution_count": 119,
   "metadata": {
    "collapsed": false
   },
   "outputs": [
    {
     "data": {
      "text/plain": [
       "GradientBoostingClassifier(criterion='friedman_mse', init=None,\n",
       "              learning_rate=0.1, loss='deviance', max_depth=3,\n",
       "              max_features=None, max_leaf_nodes=None,\n",
       "              min_impurity_split=1e-07, min_samples_leaf=1,\n",
       "              min_samples_split=2, min_weight_fraction_leaf=0.0,\n",
       "              n_estimators=10, presort='auto', random_state=None,\n",
       "              subsample=1.0, verbose=0, warm_start=False)"
      ]
     },
     "execution_count": 119,
     "metadata": {},
     "output_type": "execute_result"
    }
   ],
   "source": [
    "sk_gb.fit(X_train, y_train)"
   ]
  },
  {
   "cell_type": "code",
   "execution_count": 120,
   "metadata": {
    "collapsed": false
   },
   "outputs": [
    {
     "data": {
      "text/plain": [
       "0.90851233094669848"
      ]
     },
     "execution_count": 120,
     "metadata": {},
     "output_type": "execute_result"
    }
   ],
   "source": [
    "accuracy_score(y_test, sk_gb.predict(X_test))"
   ]
  },
  {
   "cell_type": "code",
   "execution_count": null,
   "metadata": {
    "collapsed": true
   },
   "outputs": [],
   "source": []
  }
 ],
 "metadata": {
  "kernelspec": {
   "display_name": "Python 2",
   "language": "python",
   "name": "python2"
  },
  "language_info": {
   "codemirror_mode": {
    "name": "ipython",
    "version": 2
   },
   "file_extension": ".py",
   "mimetype": "text/x-python",
   "name": "python",
   "nbconvert_exporter": "python",
   "pygments_lexer": "ipython2",
   "version": "2.7.12"
  }
 },
 "nbformat": 4,
 "nbformat_minor": 1
}
